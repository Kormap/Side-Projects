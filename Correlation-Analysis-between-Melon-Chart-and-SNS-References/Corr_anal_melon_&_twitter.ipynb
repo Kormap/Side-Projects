{
 "cells": [
  {
   "cell_type": "markdown",
   "metadata": {},
   "source": [
    "# 실시간 음악차트와 SNS상 언급 횟수 상관관계 분석\n",
    "### 2014707073 김수환"
   ]
  },
  {
   "cell_type": "markdown",
   "metadata": {},
   "source": [
    "기본적인 import 및 개발환경 설정"
   ]
  },
  {
   "cell_type": "code",
   "execution_count": 1,
   "metadata": {},
   "outputs": [],
   "source": [
    "import numpy as np\n",
    "import pandas as pd\n",
    "import logging\n",
    "import sys\n",
    "\n",
    "logger = logging.getLogger('root')\n",
    "FORMAT = \"[%(asctime)s %(filename)s:%(lineno)s - %(funcName)s()] %(message)s\"\n",
    "logging.basicConfig(stream=sys.stdout, level=logging.DEBUG, format=FORMAT)\n",
    "logger.setLevel(logging.INFO)\n",
    "COMP_PATH = './data/tweet_compression.csv'\n",
    "DETAIL_PATH = './data/tweet_detail.csv'"
   ]
  },
  {
   "cell_type": "markdown",
   "metadata": {},
   "source": [
    "## 1. Melon 차트 크롤링\n",
    "멜론차트 크롤링해서 곡명, 가수명을 저장하는 클래스 작성  "
   ]
  },
  {
   "cell_type": "code",
   "execution_count": 2,
   "metadata": {},
   "outputs": [],
   "source": [
    "from urllib.request import urlopen\n",
    "from bs4 import BeautifulSoup\n",
    "from urllib.request import Request\n",
    "\n",
    "class Melon:\n",
    "    def __init__(self):\n",
    "        self.url = 'http://www.melon.com/chart/index.htm'\n",
    "        self.hdr = {'User-Agent': 'Mozilla/5.0'}\n",
    "        self.song = list()\n",
    "        self.singer = list()\n",
    "\n",
    "    # 크롤링\n",
    "    def crawling(self):\n",
    "        req = Request(self.url, headers=self.hdr)\n",
    "        response = urlopen(req)\n",
    "        soup = BeautifulSoup(response, 'html.parser')\n",
    "        for t in soup.find_all('tr',class_='lst50'):\n",
    "            self.song.extend(t.find('div',class_='wrap_song_info').find_all('a')[:1])\n",
    "            self.singer.extend(t.find('div',class_='wrap_song_info').find_all('a')[2:])\n",
    "\n",
    "    # 곡명 저장\n",
    "    def get_song(self):\n",
    "        song = list()\n",
    "        for item in self.song:\n",
    "            song.append(item.text.split('(')[0])\n",
    "        return song\n",
    "    \n",
    "    # 가수 저장\n",
    "    def get_singer(self):\n",
    "        singer = list()\n",
    "        for item in self.singer:\n",
    "            singer.append(item.text.split('(')[0])\n",
    "        return singer"
   ]
  },
  {
   "cell_type": "markdown",
   "metadata": {},
   "source": [
    "현재 멜론차트의 실시간 차트를 크롤링 (2019-12-09 01:10)"
   ]
  },
  {
   "cell_type": "code",
   "execution_count": 3,
   "metadata": {},
   "outputs": [],
   "source": [
    "melon = Melon()\n",
    "melon.crawling()\n",
    "song = melon.get_song()        # Top 50 곡명\n",
    "singer = melon.get_singer()    # Top 50 가수"
   ]
  },
  {
   "cell_type": "markdown",
   "metadata": {},
   "source": [
    "앞으로 리스트의 상위 5개만을 보기위한 함수를 정의"
   ]
  },
  {
   "cell_type": "code",
   "execution_count": 4,
   "metadata": {},
   "outputs": [],
   "source": [
    "def head(item):\n",
    "    print(item[:5])"
   ]
  },
  {
   "cell_type": "code",
   "execution_count": 5,
   "metadata": {},
   "outputs": [
    {
     "name": "stdout",
     "output_type": "stream",
     "text": [
      "['첫 겨울이니까', 'Blueming', '나의 오랜 연인에게', '늦은 밤 너의 집 앞 골목길에서', '십이월 이십오일의 고백']\n"
     ]
    }
   ],
   "source": [
    "head(song)"
   ]
  },
  {
   "cell_type": "code",
   "execution_count": 6,
   "metadata": {},
   "outputs": [
    {
     "name": "stdout",
     "output_type": "stream",
     "text": [
      "['아이유', '성시경', '아이유', '성시경', '아이유']\n"
     ]
    }
   ],
   "source": [
    "head(singer)"
   ]
  },
  {
   "cell_type": "markdown",
   "metadata": {},
   "source": [
    "## 2. Twitter 크롤링"
   ]
  },
  {
   "cell_type": "markdown",
   "metadata": {},
   "source": [
    "멜론차트로 가져온 song과 singer를 (song + singer) 형식으로 검색하여 나타나는 데이터를 가져오는 클래스 작성"
   ]
  },
  {
   "cell_type": "code",
   "execution_count": 7,
   "metadata": {},
   "outputs": [],
   "source": [
    "import GetOldTweets3 as got\n",
    "import time\n",
    "from tqdm import tqdm_notebook\n",
    "import datetime\n",
    "\n",
    "class Twitter:\n",
    "    def __init__(self, start_date, end_date, singer, song):\n",
    "        self.days_range = list()\n",
    "        self.singer = singer\n",
    "        self.song = song\n",
    "        self.start_date = datetime.datetime.strptime(start_date, \"%Y-%m-%d\")\n",
    "        self.end_date = datetime.datetime.strptime(end_date, \"%Y-%m-%d\")\n",
    "        period = [self.start_date + datetime.timedelta(days=x) \n",
    "                  for x in range(0, (self.end_date - self.start_date).days)]\n",
    "\n",
    "        for date in period:\n",
    "            self.days_range.append(date.strftime(\"%Y-%m-%d\"))\n",
    "\n",
    "        logger.info(\"=== 설정된 트윗 수집 기간은 {} 에서 {} 까지 입니다 ===\".format(self.days_range[0], self.days_range[-1]))\n",
    "        logger.info(\"=== 총 {}일 간의 데이터 수집 ===\".format(len(self.days_range)))\n",
    "\n",
    "    def crawling(self):\n",
    "        columns = ['melon_chart', 'song', 'singer', 'count', 'start_date', 'end_date']\n",
    "        # 수집 기간 맞추기\n",
    "        start_date = self.days_range[0]\n",
    "        end_date = (datetime.datetime.strptime(self.days_range[-1], \"%Y-%m-%d\")\n",
    "                    + datetime.timedelta(days=1)).strftime(\"%Y-%m-%d\")  # setUntil이 끝을 포함하지 않으므로, day + 1\n",
    "        start_time = time.time()\n",
    "\n",
    "        for i in range(50):\n",
    "            tweet_data = list()\n",
    "            tweetCriteria = got.manager.TweetCriteria().setQuerySearch(self.singer[i] + ' AND ' + self.song[i]) \\\n",
    "                                                       .setSince(start_date) \\\n",
    "                                                       .setUntil(end_date) \\\n",
    "                                                       .setMaxTweets(-1)\n",
    "\n",
    "            # Data Collecting\n",
    "            logger.info(\"Rank : \" + str(i+1))\n",
    "            if self.singer[i] != '':\n",
    "                logger.info(\"Collecting Data \" + self.singer[i] + ' AND ' + self.song[i] + \" Start...\")\n",
    "                tweet = got.manager.TweetManager.getTweets(tweetCriteria)\n",
    "                logger.info(\"Collecting Data \" + self.singer[i] + ' AND ' + self.song[i] + \" End...\")\n",
    "\n",
    "            # 압축적인 정보 저장\n",
    "            # [Rank, Song, Singer, tweet_count, start_date, end_date]\n",
    "            tweet_data.extend([i+1,self.song[i],self.singer[i],len(tweet),self.start_date,self.end_date])\n",
    "            new_data = pd.DataFrame(np.array(tweet_data).reshape(1, 6), columns=columns)  # 새로 수집한 데이터\n",
    "            read_data = pd.read_csv(COMP_PATH, encoding='utf-8')  # 기존 엑셀 파일 데이터\n",
    "            merge_data = pd.concat([read_data, new_data], sort=False)  # (기존 + New) 병합\n",
    "            merge_data.to_csv(COMP_PATH, encoding='utf-8', sep=',', index=False)  # 병합 데이터 저장\n",
    "\n",
    "            # 세부적인 정보 저장\n",
    "            for post in tqdm_notebook(tweet):\n",
    "                detail_columns = ['melon_chart','song','singer','tweet_date','tweet_time',\n",
    "                                  'user_name','content','link','retweets','favorites']\n",
    "                tweet_details = list()\n",
    "                # 메타데이터 목록\n",
    "                tweet_date = post.date.strftime(\"%Y-%m-%d\")\n",
    "                tweet_time = post.date.strftime(\"%H:%M:%S\")\n",
    "                username = post.username\n",
    "                content = post.text\n",
    "                link = post.permalink\n",
    "                retweets = post.retweets\n",
    "                favorites = post.favorites\n",
    "                # 결과 합치기\n",
    "                tweet_details.extend([i+1,self.song[i],self.singer[i],tweet_date, tweet_time, username, content, link, retweets, favorites])\n",
    "                new_data = pd.DataFrame(np.array(tweet_details).reshape(1, 10), columns=detail_columns)  # 새로 수집한 데이터\n",
    "                read_data = pd.read_csv(DETAIL_PATH, encoding='utf-8')  # 기존 엑셀 파일 데이터\n",
    "                merge_data = pd.concat([read_data, new_data], sort=False)  # (기존 + New) 병합\n",
    "                merge_data.to_csv(DETAIL_PATH, encoding='utf-8', sep=',', index=False)  # 병합 데이터 저장\n",
    "\n",
    "        logger.info(\"Collecting data end.. {0:0.2f} Minutes\".format((time.time() - start_time) / 60))\n",
    "        logger.info(\"=== Total num of tweets is {} ===\".format(len(tweet)))"
   ]
  },
  {
   "cell_type": "markdown",
   "metadata": {},
   "source": [
    "크롤링을 할 기간을 입력받고 해당 기간동안 (song + singer)로 검색하여 얻은 데이터를  \n",
    "```python\n",
    "./data/tweet_compression.csv  #  데이터의 압축적인 정보 저장\n",
    "./data/tweet_detail.csv       #  데이터의 세부적인 정보 저장\n",
    "```\n",
    "위의 2 csv 파일로 저장한다  \n",
    "  \n",
    "기간 입력은 yyyy-mm-dd 포맷으로 입력  "
   ]
  },
  {
   "cell_type": "markdown",
   "metadata": {},
   "source": [
    "* 2019-12-09일의 현재 멜론차트를 가지고 하려했으나, EXO의 언급량이 너무 많아  \n",
    "* 크롤링 하는데 예상 소요시간이 2일이 넘어가는 관계로 기존에 크롤링했던 데이터로 아래의 분석 진행"
   ]
  },
  {
   "cell_type": "code",
   "execution_count": null,
   "metadata": {},
   "outputs": [],
   "source": [
    "# 시연시 생략\n",
    "start_date = input(\"Input start_date : \")\n",
    "end_date = input(\"Input end_date : \")\n",
    "twitter = Twitter(start_date=start_date,end_date=end_date,singer=singer,song=song)\n",
    "twitter.crawling()"
   ]
  },
  {
   "cell_type": "code",
   "execution_count": 8,
   "metadata": {},
   "outputs": [
    {
     "data": {
      "text/html": [
       "<div>\n",
       "<style scoped>\n",
       "    .dataframe tbody tr th:only-of-type {\n",
       "        vertical-align: middle;\n",
       "    }\n",
       "\n",
       "    .dataframe tbody tr th {\n",
       "        vertical-align: top;\n",
       "    }\n",
       "\n",
       "    .dataframe thead th {\n",
       "        text-align: right;\n",
       "    }\n",
       "</style>\n",
       "<table border=\"1\" class=\"dataframe\">\n",
       "  <thead>\n",
       "    <tr style=\"text-align: right;\">\n",
       "      <th></th>\n",
       "      <th>melon_chart</th>\n",
       "      <th>song</th>\n",
       "      <th>singer</th>\n",
       "      <th>count</th>\n",
       "      <th>start_date</th>\n",
       "      <th>end_date</th>\n",
       "    </tr>\n",
       "  </thead>\n",
       "  <tbody>\n",
       "    <tr>\n",
       "      <th>0</th>\n",
       "      <td>1</td>\n",
       "      <td>Blueming</td>\n",
       "      <td>아이유</td>\n",
       "      <td>7093</td>\n",
       "      <td>2019-11-13 00:00:00</td>\n",
       "      <td>2019-11-20 00:00:00</td>\n",
       "    </tr>\n",
       "    <tr>\n",
       "      <th>1</th>\n",
       "      <td>2</td>\n",
       "      <td>늦은 밤 너의 집 앞 골목길에서</td>\n",
       "      <td>노을</td>\n",
       "      <td>71</td>\n",
       "      <td>2019-11-13 00:00:00</td>\n",
       "      <td>2019-11-20 00:00:00</td>\n",
       "    </tr>\n",
       "    <tr>\n",
       "      <th>2</th>\n",
       "      <td>3</td>\n",
       "      <td>Love poem</td>\n",
       "      <td>아이유</td>\n",
       "      <td>1864</td>\n",
       "      <td>2019-11-13 00:00:00</td>\n",
       "      <td>2019-11-20 00:00:00</td>\n",
       "    </tr>\n",
       "    <tr>\n",
       "      <th>3</th>\n",
       "      <td>4</td>\n",
       "      <td>이 번호로 전화해줘</td>\n",
       "      <td>바이브</td>\n",
       "      <td>69</td>\n",
       "      <td>2019-11-13 00:00:00</td>\n",
       "      <td>2019-11-20 00:00:00</td>\n",
       "    </tr>\n",
       "    <tr>\n",
       "      <th>4</th>\n",
       "      <td>5</td>\n",
       "      <td>시간의 바깥</td>\n",
       "      <td>아이유</td>\n",
       "      <td>2164</td>\n",
       "      <td>2019-11-13 00:00:00</td>\n",
       "      <td>2019-11-20 00:00:00</td>\n",
       "    </tr>\n",
       "  </tbody>\n",
       "</table>\n",
       "</div>"
      ],
      "text/plain": [
       "   melon_chart               song singer  count           start_date  \\\n",
       "0            1           Blueming    아이유   7093  2019-11-13 00:00:00   \n",
       "1            2  늦은 밤 너의 집 앞 골목길에서     노을     71  2019-11-13 00:00:00   \n",
       "2            3          Love poem    아이유   1864  2019-11-13 00:00:00   \n",
       "3            4         이 번호로 전화해줘    바이브     69  2019-11-13 00:00:00   \n",
       "4            5             시간의 바깥    아이유   2164  2019-11-13 00:00:00   \n",
       "\n",
       "              end_date  \n",
       "0  2019-11-20 00:00:00  \n",
       "1  2019-11-20 00:00:00  \n",
       "2  2019-11-20 00:00:00  \n",
       "3  2019-11-20 00:00:00  \n",
       "4  2019-11-20 00:00:00  "
      ]
     },
     "execution_count": 8,
     "metadata": {},
     "output_type": "execute_result"
    }
   ],
   "source": [
    "COMP_PATH = './data/demo_compression.csv'\n",
    "start_date = '2019-11-13'\n",
    "end_date = '2019-11-19'\n",
    "pd.read_csv(COMP_PATH).head()"
   ]
  },
  {
   "cell_type": "code",
   "execution_count": 9,
   "metadata": {},
   "outputs": [
    {
     "data": {
      "text/html": [
       "<div>\n",
       "<style scoped>\n",
       "    .dataframe tbody tr th:only-of-type {\n",
       "        vertical-align: middle;\n",
       "    }\n",
       "\n",
       "    .dataframe tbody tr th {\n",
       "        vertical-align: top;\n",
       "    }\n",
       "\n",
       "    .dataframe thead th {\n",
       "        text-align: right;\n",
       "    }\n",
       "</style>\n",
       "<table border=\"1\" class=\"dataframe\">\n",
       "  <thead>\n",
       "    <tr style=\"text-align: right;\">\n",
       "      <th></th>\n",
       "      <th>melon_chart</th>\n",
       "      <th>song</th>\n",
       "      <th>singer</th>\n",
       "      <th>tweet_date</th>\n",
       "      <th>tweet_time</th>\n",
       "      <th>user_name</th>\n",
       "      <th>content</th>\n",
       "      <th>link</th>\n",
       "      <th>retweets</th>\n",
       "      <th>favorites</th>\n",
       "      <th>sing</th>\n",
       "      <th>facorites</th>\n",
       "    </tr>\n",
       "  </thead>\n",
       "  <tbody>\n",
       "    <tr>\n",
       "      <th>0</th>\n",
       "      <td>1</td>\n",
       "      <td>Blueming</td>\n",
       "      <td>아이유</td>\n",
       "      <td>2019-11-19</td>\n",
       "      <td>23:56:23</td>\n",
       "      <td>tiramisu_1119</td>\n",
       "      <td>Blueming - 아이유 - 들어보세요. http://kko.to/dJ-GJ45j...</td>\n",
       "      <td>https://twitter.com/tiramisu_1119/status/11969...</td>\n",
       "      <td>0</td>\n",
       "      <td>NaN</td>\n",
       "      <td>NaN</td>\n",
       "      <td>0</td>\n",
       "    </tr>\n",
       "    <tr>\n",
       "      <th>1</th>\n",
       "      <td>1</td>\n",
       "      <td>Blueming</td>\n",
       "      <td>아이유</td>\n",
       "      <td>2019-11-19</td>\n",
       "      <td>23:55:29</td>\n",
       "      <td>_inthedesert516</td>\n",
       "      <td>Blueming - 아이유 - 들어보세요. http://kko.to/WzKvJ480...</td>\n",
       "      <td>https://twitter.com/_inthedesert516/status/119...</td>\n",
       "      <td>0</td>\n",
       "      <td>NaN</td>\n",
       "      <td>NaN</td>\n",
       "      <td>4</td>\n",
       "    </tr>\n",
       "    <tr>\n",
       "      <th>2</th>\n",
       "      <td>1</td>\n",
       "      <td>Blueming</td>\n",
       "      <td>아이유</td>\n",
       "      <td>2019-11-19</td>\n",
       "      <td>23:53:59</td>\n",
       "      <td>Dosiro</td>\n",
       "      <td>[MV] IU(아이유) _ Blueming(블루밍) https://youtu.be/...</td>\n",
       "      <td>https://twitter.com/Dosiro/status/119693971162...</td>\n",
       "      <td>0</td>\n",
       "      <td>NaN</td>\n",
       "      <td>NaN</td>\n",
       "      <td>0</td>\n",
       "    </tr>\n",
       "    <tr>\n",
       "      <th>3</th>\n",
       "      <td>1</td>\n",
       "      <td>Blueming</td>\n",
       "      <td>아이유</td>\n",
       "      <td>2019-11-19</td>\n",
       "      <td>23:48:14</td>\n",
       "      <td>dlwlrma0515</td>\n",
       "      <td>#아이유 #Blueming 뮤직비디오 인기 급상승 동영상 4위 https://you...</td>\n",
       "      <td>https://twitter.com/dlwlrma0515/status/1196938...</td>\n",
       "      <td>1</td>\n",
       "      <td>NaN</td>\n",
       "      <td>NaN</td>\n",
       "      <td>3</td>\n",
       "    </tr>\n",
       "    <tr>\n",
       "      <th>4</th>\n",
       "      <td>1</td>\n",
       "      <td>Blueming</td>\n",
       "      <td>아이유</td>\n",
       "      <td>2019-11-19</td>\n",
       "      <td>23:47:48</td>\n",
       "      <td>injeeel_</td>\n",
       "      <td>[MV] IU(아이유) _ Blueming(블루밍) https://youtu.be/...</td>\n",
       "      <td>https://twitter.com/injeeel_/status/1196938151...</td>\n",
       "      <td>0</td>\n",
       "      <td>NaN</td>\n",
       "      <td>NaN</td>\n",
       "      <td>1</td>\n",
       "    </tr>\n",
       "  </tbody>\n",
       "</table>\n",
       "</div>"
      ],
      "text/plain": [
       "   melon_chart      song singer  tweet_date tweet_time        user_name  \\\n",
       "0            1  Blueming    아이유  2019-11-19   23:56:23    tiramisu_1119   \n",
       "1            1  Blueming    아이유  2019-11-19   23:55:29  _inthedesert516   \n",
       "2            1  Blueming    아이유  2019-11-19   23:53:59           Dosiro   \n",
       "3            1  Blueming    아이유  2019-11-19   23:48:14      dlwlrma0515   \n",
       "4            1  Blueming    아이유  2019-11-19   23:47:48         injeeel_   \n",
       "\n",
       "                                             content  \\\n",
       "0  Blueming - 아이유 - 들어보세요. http://kko.to/dJ-GJ45j...   \n",
       "1  Blueming - 아이유 - 들어보세요. http://kko.to/WzKvJ480...   \n",
       "2  [MV] IU(아이유) _ Blueming(블루밍) https://youtu.be/...   \n",
       "3  #아이유 #Blueming 뮤직비디오 인기 급상승 동영상 4위 https://you...   \n",
       "4  [MV] IU(아이유) _ Blueming(블루밍) https://youtu.be/...   \n",
       "\n",
       "                                                link  retweets  favorites  \\\n",
       "0  https://twitter.com/tiramisu_1119/status/11969...         0        NaN   \n",
       "1  https://twitter.com/_inthedesert516/status/119...         0        NaN   \n",
       "2  https://twitter.com/Dosiro/status/119693971162...         0        NaN   \n",
       "3  https://twitter.com/dlwlrma0515/status/1196938...         1        NaN   \n",
       "4  https://twitter.com/injeeel_/status/1196938151...         0        NaN   \n",
       "\n",
       "   sing  facorites  \n",
       "0   NaN          0  \n",
       "1   NaN          4  \n",
       "2   NaN          0  \n",
       "3   NaN          3  \n",
       "4   NaN          1  "
      ]
     },
     "execution_count": 9,
     "metadata": {},
     "output_type": "execute_result"
    }
   ],
   "source": [
    "DETAIL_PATH = './data/demo_detail.csv'\n",
    "pd.read_csv('./data/demo_detail.csv').head()"
   ]
  },
  {
   "cell_type": "markdown",
   "metadata": {},
   "source": [
    "## 3. 데이터 분석"
   ]
  },
  {
   "cell_type": "markdown",
   "metadata": {},
   "source": [
    "종합한 데이터들을 이용하여 Melon Chart - Twitter 상에서의 언급 횟수의 상관관계를 분석"
   ]
  },
  {
   "cell_type": "code",
   "execution_count": 10,
   "metadata": {},
   "outputs": [],
   "source": [
    "# analysis.csv 파일 초기화\n",
    "ANAL_PATH = './data/analysis.csv'\n",
    "def analysis_csv_init():\n",
    "    comp = pd.read_csv(COMP_PATH)\n",
    "    columns = ['song', 'singer', '1일', '2일', '3일', '4일', '5일', '6일', '7일']\n",
    "    anal_init = list()\n",
    "    song_list = comp['song']\n",
    "    singer_list = comp['singer']\n",
    "    \n",
    "    for i in range(50):\n",
    "        anal_init.extend([song_list[i], singer_list[i]] + [0] * 7)\n",
    "    anal_df = pd.DataFrame(np.array(anal_init).reshape(50, 9), columns=columns)\n",
    "    anal_df.to_csv(ANAL_PATH, encoding='utf-8', sep=',', index=False)  # 병합 데이터 저장"
   ]
  },
  {
   "cell_type": "code",
   "execution_count": 11,
   "metadata": {},
   "outputs": [],
   "source": [
    "analysis_csv_init()"
   ]
  },
  {
   "cell_type": "markdown",
   "metadata": {},
   "source": [
    "먼저 분석 결과를 저장할 analysis.csv 파일을 초기화한다  "
   ]
  },
  {
   "cell_type": "code",
   "execution_count": 12,
   "metadata": {
    "scrolled": true
   },
   "outputs": [
    {
     "data": {
      "text/html": [
       "<div>\n",
       "<style scoped>\n",
       "    .dataframe tbody tr th:only-of-type {\n",
       "        vertical-align: middle;\n",
       "    }\n",
       "\n",
       "    .dataframe tbody tr th {\n",
       "        vertical-align: top;\n",
       "    }\n",
       "\n",
       "    .dataframe thead th {\n",
       "        text-align: right;\n",
       "    }\n",
       "</style>\n",
       "<table border=\"1\" class=\"dataframe\">\n",
       "  <thead>\n",
       "    <tr style=\"text-align: right;\">\n",
       "      <th></th>\n",
       "      <th>song</th>\n",
       "      <th>singer</th>\n",
       "      <th>1일</th>\n",
       "      <th>2일</th>\n",
       "      <th>3일</th>\n",
       "      <th>4일</th>\n",
       "      <th>5일</th>\n",
       "      <th>6일</th>\n",
       "      <th>7일</th>\n",
       "    </tr>\n",
       "  </thead>\n",
       "  <tbody>\n",
       "    <tr>\n",
       "      <th>0</th>\n",
       "      <td>Blueming</td>\n",
       "      <td>아이유</td>\n",
       "      <td>0</td>\n",
       "      <td>0</td>\n",
       "      <td>0</td>\n",
       "      <td>0</td>\n",
       "      <td>0</td>\n",
       "      <td>0</td>\n",
       "      <td>0</td>\n",
       "    </tr>\n",
       "    <tr>\n",
       "      <th>1</th>\n",
       "      <td>늦은 밤 너의 집 앞 골목길에서</td>\n",
       "      <td>노을</td>\n",
       "      <td>0</td>\n",
       "      <td>0</td>\n",
       "      <td>0</td>\n",
       "      <td>0</td>\n",
       "      <td>0</td>\n",
       "      <td>0</td>\n",
       "      <td>0</td>\n",
       "    </tr>\n",
       "    <tr>\n",
       "      <th>2</th>\n",
       "      <td>Love poem</td>\n",
       "      <td>아이유</td>\n",
       "      <td>0</td>\n",
       "      <td>0</td>\n",
       "      <td>0</td>\n",
       "      <td>0</td>\n",
       "      <td>0</td>\n",
       "      <td>0</td>\n",
       "      <td>0</td>\n",
       "    </tr>\n",
       "    <tr>\n",
       "      <th>3</th>\n",
       "      <td>이 번호로 전화해줘</td>\n",
       "      <td>바이브</td>\n",
       "      <td>0</td>\n",
       "      <td>0</td>\n",
       "      <td>0</td>\n",
       "      <td>0</td>\n",
       "      <td>0</td>\n",
       "      <td>0</td>\n",
       "      <td>0</td>\n",
       "    </tr>\n",
       "    <tr>\n",
       "      <th>4</th>\n",
       "      <td>시간의 바깥</td>\n",
       "      <td>아이유</td>\n",
       "      <td>0</td>\n",
       "      <td>0</td>\n",
       "      <td>0</td>\n",
       "      <td>0</td>\n",
       "      <td>0</td>\n",
       "      <td>0</td>\n",
       "      <td>0</td>\n",
       "    </tr>\n",
       "  </tbody>\n",
       "</table>\n",
       "</div>"
      ],
      "text/plain": [
       "                song singer  1일  2일  3일  4일  5일  6일  7일\n",
       "0           Blueming    아이유   0   0   0   0   0   0   0\n",
       "1  늦은 밤 너의 집 앞 골목길에서     노을   0   0   0   0   0   0   0\n",
       "2          Love poem    아이유   0   0   0   0   0   0   0\n",
       "3         이 번호로 전화해줘    바이브   0   0   0   0   0   0   0\n",
       "4             시간의 바깥    아이유   0   0   0   0   0   0   0"
      ]
     },
     "execution_count": 12,
     "metadata": {},
     "output_type": "execute_result"
    }
   ],
   "source": [
    "pd.read_csv(ANAL_PATH).head()"
   ]
  },
  {
   "cell_type": "markdown",
   "metadata": {},
   "source": [
    "이제 크롤링한 데이터에서 1일, 2일 ... 7일까지의 언급횟수를 나누기 위한 작업을 수행한다  \n",
    "먼저 yyyy-mm-dd 형식에서 빼기 연산을 해주는 함수를 정의한다"
   ]
  },
  {
   "cell_type": "code",
   "execution_count": 13,
   "metadata": {},
   "outputs": [],
   "source": [
    "# 2019-11-19 -> 2019-11-18 -> 2019-11-17 과 날짜간 빼기 연산\n",
    "def date_minus(base_date, minus):\n",
    "    split_date = list(map(int, base_date.split('-')))\n",
    "    split_date[2] -= minus\n",
    "    result = str()\n",
    "    for i in range(3):\n",
    "        if i != 2:\n",
    "            result += str(split_date[i]) + '-'\n",
    "        else:\n",
    "            if len(str(split_date[i])) == 1:\n",
    "                result += '0' + str(split_date[i])\n",
    "            else:\n",
    "                result += str(split_date[i])\n",
    "    return result"
   ]
  },
  {
   "cell_type": "code",
   "execution_count": 14,
   "metadata": {},
   "outputs": [
    {
     "data": {
      "text/plain": [
       "'2019-12-07'"
      ]
     },
     "execution_count": 14,
     "metadata": {},
     "output_type": "execute_result"
    }
   ],
   "source": [
    "date_minus('2019-12-09',2)"
   ]
  },
  {
   "cell_type": "markdown",
   "metadata": {},
   "source": [
    "이제 멜론 - 트위터간 분석 결과를 언급횟수 별로 나누어 저장하는 함수를 정의한다"
   ]
  },
  {
   "cell_type": "code",
   "execution_count": 15,
   "metadata": {},
   "outputs": [],
   "source": [
    "# 멜론 - 트위터간 분석 결과를 csv 파일로 저장\n",
    "def analysis_to_csv(base_date):\n",
    "    tweet = pd.read_csv(COMP_PATH)\n",
    "    tweet_detail = pd.read_csv(DETAIL_PATH)\n",
    "    song_list = tweet['song']\n",
    "    singer_list = tweet['singer']\n",
    "    columns = ['song', 'singer', '1일', '2일', '3일', '4일', '5일', '6일', '7일']\n",
    "\n",
    "    anal_list = list()\n",
    "    # 1위 - 50개의 곡에 대해서 반복\n",
    "    for i, song in enumerate(song_list):\n",
    "        day_count = [0] * 7  # 1일 - 7일에 대해서 저장할 리스트 초기화\n",
    "        # 현재 for문을 도는 song에 대해서 선택\n",
    "        selected_song = tweet_detail[tweet_detail['song'] == song]  \n",
    "        \n",
    "        # 1일 - 7일 계산\n",
    "        for j in range(7):\n",
    "            # 기준일로부터 - 0 ~ 6 까지 date_minus()를 이용하여 계산한다\n",
    "            day_count[j] = len(selected_song[selected_song['tweet_date'] == date_minus(base_date, j)])\n",
    "            if j != 0:\n",
    "                day_count[j] += day_count[j-1]\n",
    "        anal_list.extend([song, singer_list[i]] + day_count)\n",
    "    anal_df = pd.DataFrame(np.array(anal_list).reshape(50, 9), columns=columns)\n",
    "    anal_df.to_csv(ANAL_PATH, encoding='utf-8', sep=',', index=False)"
   ]
  },
  {
   "cell_type": "code",
   "execution_count": 16,
   "metadata": {},
   "outputs": [],
   "source": [
    "analysis_to_csv(end_date)"
   ]
  },
  {
   "cell_type": "code",
   "execution_count": 17,
   "metadata": {
    "scrolled": false
   },
   "outputs": [
    {
     "data": {
      "text/html": [
       "<div>\n",
       "<style scoped>\n",
       "    .dataframe tbody tr th:only-of-type {\n",
       "        vertical-align: middle;\n",
       "    }\n",
       "\n",
       "    .dataframe tbody tr th {\n",
       "        vertical-align: top;\n",
       "    }\n",
       "\n",
       "    .dataframe thead th {\n",
       "        text-align: right;\n",
       "    }\n",
       "</style>\n",
       "<table border=\"1\" class=\"dataframe\">\n",
       "  <thead>\n",
       "    <tr style=\"text-align: right;\">\n",
       "      <th></th>\n",
       "      <th>song</th>\n",
       "      <th>singer</th>\n",
       "      <th>1일</th>\n",
       "      <th>2일</th>\n",
       "      <th>3일</th>\n",
       "      <th>4일</th>\n",
       "      <th>5일</th>\n",
       "      <th>6일</th>\n",
       "      <th>7일</th>\n",
       "    </tr>\n",
       "  </thead>\n",
       "  <tbody>\n",
       "    <tr>\n",
       "      <th>0</th>\n",
       "      <td>Blueming</td>\n",
       "      <td>아이유</td>\n",
       "      <td>686</td>\n",
       "      <td>6840</td>\n",
       "      <td>7064</td>\n",
       "      <td>7065</td>\n",
       "      <td>7070</td>\n",
       "      <td>7093</td>\n",
       "      <td>7093</td>\n",
       "    </tr>\n",
       "    <tr>\n",
       "      <th>1</th>\n",
       "      <td>늦은 밤 너의 집 앞 골목길에서</td>\n",
       "      <td>노을</td>\n",
       "      <td>20</td>\n",
       "      <td>31</td>\n",
       "      <td>39</td>\n",
       "      <td>44</td>\n",
       "      <td>48</td>\n",
       "      <td>55</td>\n",
       "      <td>71</td>\n",
       "    </tr>\n",
       "    <tr>\n",
       "      <th>2</th>\n",
       "      <td>Love poem</td>\n",
       "      <td>아이유</td>\n",
       "      <td>194</td>\n",
       "      <td>844</td>\n",
       "      <td>1173</td>\n",
       "      <td>1435</td>\n",
       "      <td>1545</td>\n",
       "      <td>1774</td>\n",
       "      <td>1864</td>\n",
       "    </tr>\n",
       "    <tr>\n",
       "      <th>3</th>\n",
       "      <td>이 번호로 전화해줘</td>\n",
       "      <td>바이브</td>\n",
       "      <td>3</td>\n",
       "      <td>6</td>\n",
       "      <td>13</td>\n",
       "      <td>22</td>\n",
       "      <td>34</td>\n",
       "      <td>50</td>\n",
       "      <td>69</td>\n",
       "    </tr>\n",
       "    <tr>\n",
       "      <th>4</th>\n",
       "      <td>시간의 바깥</td>\n",
       "      <td>아이유</td>\n",
       "      <td>266</td>\n",
       "      <td>2126</td>\n",
       "      <td>2137</td>\n",
       "      <td>2144</td>\n",
       "      <td>2150</td>\n",
       "      <td>2160</td>\n",
       "      <td>2164</td>\n",
       "    </tr>\n",
       "  </tbody>\n",
       "</table>\n",
       "</div>"
      ],
      "text/plain": [
       "                song singer   1일    2일    3일    4일    5일    6일    7일\n",
       "0           Blueming    아이유  686  6840  7064  7065  7070  7093  7093\n",
       "1  늦은 밤 너의 집 앞 골목길에서     노을   20    31    39    44    48    55    71\n",
       "2          Love poem    아이유  194   844  1173  1435  1545  1774  1864\n",
       "3         이 번호로 전화해줘    바이브    3     6    13    22    34    50    69\n",
       "4             시간의 바깥    아이유  266  2126  2137  2144  2150  2160  2164"
      ]
     },
     "execution_count": 17,
     "metadata": {},
     "output_type": "execute_result"
    }
   ],
   "source": [
    "pd.read_csv(ANAL_PATH).head()"
   ]
  },
  {
   "cell_type": "markdown",
   "metadata": {},
   "source": [
    "이제 상관관계를 그리기 위한 작업 수행"
   ]
  },
  {
   "cell_type": "code",
   "execution_count": 18,
   "metadata": {},
   "outputs": [
    {
     "name": "stdout",
     "output_type": "stream",
     "text": [
      "[2019-12-09 21:48:49,294 __init__.py:415 - wrapper()] CACHEDIR=C:\\Users\\SooHwanKim\\.matplotlib\n",
      "[2019-12-09 21:48:49,306 font_manager.py:1362 - <module>()] Using fontManager instance from C:\\Users\\SooHwanKim\\.matplotlib\\fontlist-v300.json\n",
      "[2019-12-09 21:48:50,095 pyplot.py:211 - switch_backend()] Loaded backend module://ipykernel.pylab.backend_inline version unknown.\n",
      "[2019-12-09 21:48:50,101 font_manager.py:1207 - _findfont_cached()] findfont returning c:/Windows/Fonts/malgun.ttf\n",
      "[2019-12-09 21:48:50,105 pyplot.py:211 - switch_backend()] Loaded backend module://ipykernel.pylab.backend_inline version unknown.\n"
     ]
    }
   ],
   "source": [
    "import matplotlib.pyplot as plt\n",
    "from matplotlib import font_manager, rc\n",
    "from matplotlib import style\n",
    "font_name = font_manager.FontProperties(fname=\"c:/Windows/Fonts/malgun.ttf\").get_name()\n",
    "rc('font', family=font_name)\n",
    "style.use('ggplot')"
   ]
  },
  {
   "cell_type": "code",
   "execution_count": 19,
   "metadata": {},
   "outputs": [],
   "source": [
    "def corr_draw():\n",
    "    melon_chart = pd.read_csv(COMP_PATH)['melon_chart']\n",
    "    melon_score = list()\n",
    "    reference_score = list()       \n",
    "    ax_list = list()\n",
    "    colors = ['#ff6666', '#ffcc99', 'seagreen', '#66b3ff', 'skyblue', '#c2c2f0', '#ff9999', '#ffb3e6']\n",
    "    yticks = [50, 44, 38, 32, 26 , 20, 14, 8, 1]\n",
    "    xticks = [0,50, 40, 30, 20 , 10, 1]\n",
    "    fig = plt.figure(figsize=(20,18))\n",
    "    \n",
    "    for day in range(1,8):\n",
    "        reference = pd.read_csv(ANAL_PATH)[str(day) + '일']\n",
    "        sorted_reference = sorted(reference, reverse=True)\n",
    "        \n",
    "        for i in range(50):\n",
    "            reference_score.append(50 - sorted_reference.index(reference[i]))\n",
    "            melon_score.append(51 - melon_chart[i])\n",
    "        \n",
    "        ax_list.append(fig.add_subplot(3,3,day))\n",
    "        ax_list[day-1].set_title(str(day) + '일')\n",
    "        ax_list[day-1].scatter(melon_score, reference_score, color=colors[day-1], label='corr ' + str(round(np.corrcoef(melon_score, reference_score)[0][1], 2)))\n",
    "        ax_list[day-1].legend(fontsize='medium', loc='upper left')\n",
    "        ax_list[day-1].set_xlabel('Melon Chart Ranking')\n",
    "        ax_list[day-1].set_ylabel('Reference Count Ranking')\n",
    "        ax_list[day-1].set_ylim([min(reference_score)-1, max(reference_score)+1])\n",
    "        ax_list[day-1].set_xticklabels(xticks)\n",
    "        ax_list[day-1].set_yticklabels(yticks)\n",
    "        ax_list[day-1].grid(linewidth=0.2)"
   ]
  },
  {
   "cell_type": "markdown",
   "metadata": {},
   "source": [
    "멜론 차트 - 트위터 상관관계 계산 + 시각화"
   ]
  },
  {
   "cell_type": "code",
   "execution_count": 20,
   "metadata": {},
   "outputs": [
    {
     "name": "stdout",
     "output_type": "stream",
     "text": [
      "[2019-12-09 21:48:53,743 _base.py:2515 - _update_title_position()] update_title_pos\n",
      "[2019-12-09 21:48:53,757 font_manager.py:1254 - _findfont_cached()] findfont: Matching :family=Malgun Gothic:style=normal:variant=normal:weight=normal:stretch=normal:size=10.0 to Malgun Gothic ('C:\\\\Windows\\\\Fonts\\\\malgun.ttf') with score of 0.050000.\n",
      "[2019-12-09 21:48:53,781 font_manager.py:1254 - _findfont_cached()] findfont: Matching :family=Malgun Gothic:style=normal:variant=normal:weight=normal:stretch=normal:size=12.0 to Malgun Gothic ('C:\\\\Windows\\\\Fonts\\\\malgun.ttf') with score of 0.050000.\n",
      "[2019-12-09 21:48:53,818 font_manager.py:1254 - _findfont_cached()] findfont: Matching :family=Malgun Gothic:style=normal:variant=normal:weight=normal:stretch=normal:size=14.399999999999999 to Malgun Gothic ('C:\\\\Windows\\\\Fonts\\\\malgun.ttf') with score of 0.050000.\n",
      "[2019-12-09 21:48:53,846 _base.py:2515 - _update_title_position()] update_title_pos\n",
      "[2019-12-09 21:48:53,892 _base.py:2515 - _update_title_position()] update_title_pos\n",
      "[2019-12-09 21:48:53,934 _base.py:2515 - _update_title_position()] update_title_pos\n",
      "[2019-12-09 21:48:53,972 _base.py:2515 - _update_title_position()] update_title_pos\n",
      "[2019-12-09 21:48:54,021 _base.py:2515 - _update_title_position()] update_title_pos\n",
      "[2019-12-09 21:48:54,064 _base.py:2515 - _update_title_position()] update_title_pos\n",
      "[2019-12-09 21:48:54,137 _base.py:2515 - _update_title_position()] update_title_pos\n",
      "[2019-12-09 21:48:54,185 _base.py:2515 - _update_title_position()] update_title_pos\n",
      "[2019-12-09 21:48:54,225 _base.py:2515 - _update_title_position()] update_title_pos\n",
      "[2019-12-09 21:48:54,269 _base.py:2515 - _update_title_position()] update_title_pos\n",
      "[2019-12-09 21:48:54,311 _base.py:2515 - _update_title_position()] update_title_pos\n",
      "[2019-12-09 21:48:54,355 _base.py:2515 - _update_title_position()] update_title_pos\n",
      "[2019-12-09 21:48:54,398 _base.py:2515 - _update_title_position()] update_title_pos\n",
      "[2019-12-09 21:48:54,701 _base.py:2515 - _update_title_position()] update_title_pos\n",
      "[2019-12-09 21:48:54,731 _base.py:2515 - _update_title_position()] update_title_pos\n",
      "[2019-12-09 21:48:54,756 _base.py:2515 - _update_title_position()] update_title_pos\n",
      "[2019-12-09 21:48:54,779 _base.py:2515 - _update_title_position()] update_title_pos\n",
      "[2019-12-09 21:48:54,806 _base.py:2515 - _update_title_position()] update_title_pos\n",
      "[2019-12-09 21:48:54,828 _base.py:2515 - _update_title_position()] update_title_pos\n",
      "[2019-12-09 21:48:54,858 _base.py:2515 - _update_title_position()] update_title_pos\n",
      "[2019-12-09 21:48:55,011 _base.py:2515 - _update_title_position()] update_title_pos\n",
      "[2019-12-09 21:48:55,038 _base.py:2515 - _update_title_position()] update_title_pos\n",
      "[2019-12-09 21:48:55,062 _base.py:2515 - _update_title_position()] update_title_pos\n",
      "[2019-12-09 21:48:55,139 _base.py:2515 - _update_title_position()] update_title_pos\n",
      "[2019-12-09 21:48:55,174 _base.py:2515 - _update_title_position()] update_title_pos\n",
      "[2019-12-09 21:48:55,211 _base.py:2515 - _update_title_position()] update_title_pos\n",
      "[2019-12-09 21:48:55,241 _base.py:2515 - _update_title_position()] update_title_pos\n",
      "[2019-12-09 21:48:55,282 _base.py:2515 - _update_title_position()] update_title_pos\n",
      "[2019-12-09 21:48:55,328 _base.py:2515 - _update_title_position()] update_title_pos\n",
      "[2019-12-09 21:48:55,369 _base.py:2515 - _update_title_position()] update_title_pos\n",
      "[2019-12-09 21:48:55,414 _base.py:2515 - _update_title_position()] update_title_pos\n",
      "[2019-12-09 21:48:55,451 _base.py:2515 - _update_title_position()] update_title_pos\n",
      "[2019-12-09 21:48:55,489 _base.py:2515 - _update_title_position()] update_title_pos\n",
      "[2019-12-09 21:48:55,524 _base.py:2515 - _update_title_position()] update_title_pos\n"
     ]
    },
    {
     "data": {
      "image/png": "[encoded data removed]",
      "text/plain": [
       "<Figure size 1440x1296 with 7 Axes>"
      ]
     },
     "metadata": {
      "needs_background": "light"
     },
     "output_type": "display_data"
    }
   ],
   "source": [
    "corr_draw()"
   ]
  },
  {
   "cell_type": "markdown",
   "metadata": {},
   "source": [
    "아무래도 누적이다보니 그래프간의 상관도가 굉장히 높아보여서 seaborn을 이용하여 상관관계 시각화"
   ]
  },
  {
   "cell_type": "code",
   "execution_count": 21,
   "metadata": {},
   "outputs": [
    {
     "name": "stdout",
     "output_type": "stream",
     "text": [
      "[2019-12-09 21:49:01,916 _base.py:2515 - _update_title_position()] update_title_pos\n",
      "[2019-12-09 21:49:01,946 _base.py:2515 - _update_title_position()] update_title_pos\n",
      "[2019-12-09 21:49:01,986 _base.py:2515 - _update_title_position()] update_title_pos\n",
      "[2019-12-09 21:49:02,023 _base.py:2515 - _update_title_position()] update_title_pos\n",
      "[2019-12-09 21:49:02,065 _base.py:2515 - _update_title_position()] update_title_pos\n",
      "[2019-12-09 21:49:02,106 _base.py:2515 - _update_title_position()] update_title_pos\n",
      "[2019-12-09 21:49:02,140 _base.py:2515 - _update_title_position()] update_title_pos\n",
      "[2019-12-09 21:49:02,174 _base.py:2515 - _update_title_position()] update_title_pos\n",
      "[2019-12-09 21:49:02,213 _base.py:2515 - _update_title_position()] update_title_pos\n",
      "[2019-12-09 21:49:02,259 _base.py:2515 - _update_title_position()] update_title_pos\n",
      "[2019-12-09 21:49:02,297 _base.py:2515 - _update_title_position()] update_title_pos\n",
      "[2019-12-09 21:49:02,333 _base.py:2515 - _update_title_position()] update_title_pos\n",
      "[2019-12-09 21:49:02,366 _base.py:2515 - _update_title_position()] update_title_pos\n",
      "[2019-12-09 21:49:02,402 _base.py:2515 - _update_title_position()] update_title_pos\n",
      "[2019-12-09 21:49:02,437 _base.py:2515 - _update_title_position()] update_title_pos\n",
      "[2019-12-09 21:49:02,472 _base.py:2515 - _update_title_position()] update_title_pos\n",
      "[2019-12-09 21:49:02,506 _base.py:2515 - _update_title_position()] update_title_pos\n",
      "[2019-12-09 21:49:02,541 _base.py:2515 - _update_title_position()] update_title_pos\n",
      "[2019-12-09 21:49:02,578 _base.py:2515 - _update_title_position()] update_title_pos\n",
      "[2019-12-09 21:49:02,611 _base.py:2515 - _update_title_position()] update_title_pos\n",
      "[2019-12-09 21:49:02,644 _base.py:2515 - _update_title_position()] update_title_pos\n",
      "[2019-12-09 21:49:02,686 _base.py:2515 - _update_title_position()] update_title_pos\n",
      "[2019-12-09 21:49:02,736 _base.py:2515 - _update_title_position()] update_title_pos\n",
      "[2019-12-09 21:49:02,768 _base.py:2515 - _update_title_position()] update_title_pos\n",
      "[2019-12-09 21:49:02,804 _base.py:2515 - _update_title_position()] update_title_pos\n",
      "[2019-12-09 21:49:02,834 _base.py:2515 - _update_title_position()] update_title_pos\n",
      "[2019-12-09 21:49:02,862 _base.py:2515 - _update_title_position()] update_title_pos\n",
      "[2019-12-09 21:49:02,889 _base.py:2515 - _update_title_position()] update_title_pos\n",
      "[2019-12-09 21:49:02,922 _base.py:2515 - _update_title_position()] update_title_pos\n",
      "[2019-12-09 21:49:02,961 _base.py:2515 - _update_title_position()] update_title_pos\n",
      "[2019-12-09 21:49:03,005 _base.py:2515 - _update_title_position()] update_title_pos\n",
      "[2019-12-09 21:49:03,047 _base.py:2515 - _update_title_position()] update_title_pos\n",
      "[2019-12-09 21:49:03,080 _base.py:2515 - _update_title_position()] update_title_pos\n",
      "[2019-12-09 21:49:03,113 _base.py:2515 - _update_title_position()] update_title_pos\n",
      "[2019-12-09 21:49:03,149 _base.py:2515 - _update_title_position()] update_title_pos\n",
      "[2019-12-09 21:49:03,186 _base.py:2515 - _update_title_position()] update_title_pos\n",
      "[2019-12-09 21:49:03,225 _base.py:2515 - _update_title_position()] update_title_pos\n",
      "[2019-12-09 21:49:03,270 _base.py:2515 - _update_title_position()] update_title_pos\n",
      "[2019-12-09 21:49:03,307 _base.py:2515 - _update_title_position()] update_title_pos\n",
      "[2019-12-09 21:49:03,342 _base.py:2515 - _update_title_position()] update_title_pos\n",
      "[2019-12-09 21:49:03,380 _base.py:2515 - _update_title_position()] update_title_pos\n",
      "[2019-12-09 21:49:03,415 _base.py:2515 - _update_title_position()] update_title_pos\n",
      "[2019-12-09 21:49:03,455 _base.py:2515 - _update_title_position()] update_title_pos\n",
      "[2019-12-09 21:49:03,494 _base.py:2515 - _update_title_position()] update_title_pos\n",
      "[2019-12-09 21:49:03,534 _base.py:2515 - _update_title_position()] update_title_pos\n",
      "[2019-12-09 21:49:03,573 _base.py:2515 - _update_title_position()] update_title_pos\n",
      "[2019-12-09 21:49:03,615 _base.py:2515 - _update_title_position()] update_title_pos\n",
      "[2019-12-09 21:49:03,650 _base.py:2515 - _update_title_position()] update_title_pos\n",
      "[2019-12-09 21:49:03,688 _base.py:2515 - _update_title_position()] update_title_pos\n"
     ]
    },
    {
     "name": "stderr",
     "output_type": "stream",
     "text": [
      "C:\\ProgramData\\Anaconda3\\lib\\site-packages\\scipy\\stats\\stats.py:1713: FutureWarning: Using a non-tuple sequence for multidimensional indexing is deprecated; use `arr[tuple(seq)]` instead of `arr[seq]`. In the future this will be interpreted as an array index, `arr[np.array(seq)]`, which will result either in an error or a different result.\n",
      "  return np.add.reduce(sorted[indexer] * weights, axis=axis) / sumval\n"
     ]
    },
    {
     "name": "stdout",
     "output_type": "stream",
     "text": [
      "[2019-12-09 21:49:11,183 _base.py:2515 - _update_title_position()] update_title_pos\n",
      "[2019-12-09 21:49:11,224 _base.py:2515 - _update_title_position()] update_title_pos\n",
      "[2019-12-09 21:49:11,252 _base.py:2515 - _update_title_position()] update_title_pos\n",
      "[2019-12-09 21:49:11,281 _base.py:2515 - _update_title_position()] update_title_pos\n",
      "[2019-12-09 21:49:11,311 _base.py:2515 - _update_title_position()] update_title_pos\n",
      "[2019-12-09 21:49:11,341 _base.py:2515 - _update_title_position()] update_title_pos\n",
      "[2019-12-09 21:49:11,363 _base.py:2515 - _update_title_position()] update_title_pos\n",
      "[2019-12-09 21:49:11,389 _base.py:2515 - _update_title_position()] update_title_pos\n",
      "[2019-12-09 21:49:11,430 _base.py:2515 - _update_title_position()] update_title_pos\n",
      "[2019-12-09 21:49:11,458 _base.py:2515 - _update_title_position()] update_title_pos\n",
      "[2019-12-09 21:49:11,491 _base.py:2515 - _update_title_position()] update_title_pos\n",
      "[2019-12-09 21:49:11,524 _base.py:2515 - _update_title_position()] update_title_pos\n",
      "[2019-12-09 21:49:11,555 _base.py:2515 - _update_title_position()] update_title_pos\n",
      "[2019-12-09 21:49:11,585 _base.py:2515 - _update_title_position()] update_title_pos\n",
      "[2019-12-09 21:49:11,613 _base.py:2515 - _update_title_position()] update_title_pos\n",
      "[2019-12-09 21:49:11,652 _base.py:2515 - _update_title_position()] update_title_pos\n",
      "[2019-12-09 21:49:11,790 _base.py:2515 - _update_title_position()] update_title_pos\n",
      "[2019-12-09 21:49:11,829 _base.py:2515 - _update_title_position()] update_title_pos\n",
      "[2019-12-09 21:49:11,865 _base.py:2515 - _update_title_position()] update_title_pos\n",
      "[2019-12-09 21:49:11,903 _base.py:2515 - _update_title_position()] update_title_pos\n",
      "[2019-12-09 21:49:11,934 _base.py:2515 - _update_title_position()] update_title_pos\n",
      "[2019-12-09 21:49:11,966 _base.py:2515 - _update_title_position()] update_title_pos\n",
      "[2019-12-09 21:49:11,997 _base.py:2515 - _update_title_position()] update_title_pos\n",
      "[2019-12-09 21:49:12,023 _base.py:2515 - _update_title_position()] update_title_pos\n",
      "[2019-12-09 21:49:12,053 _base.py:2515 - _update_title_position()] update_title_pos\n",
      "[2019-12-09 21:49:12,080 _base.py:2515 - _update_title_position()] update_title_pos\n",
      "[2019-12-09 21:49:12,105 _base.py:2515 - _update_title_position()] update_title_pos\n",
      "[2019-12-09 21:49:12,129 _base.py:2515 - _update_title_position()] update_title_pos\n",
      "[2019-12-09 21:49:12,155 _base.py:2515 - _update_title_position()] update_title_pos\n",
      "[2019-12-09 21:49:12,193 _base.py:2515 - _update_title_position()] update_title_pos\n",
      "[2019-12-09 21:49:12,222 _base.py:2515 - _update_title_position()] update_title_pos\n",
      "[2019-12-09 21:49:12,259 _base.py:2515 - _update_title_position()] update_title_pos\n",
      "[2019-12-09 21:49:12,290 _base.py:2515 - _update_title_position()] update_title_pos\n",
      "[2019-12-09 21:49:12,323 _base.py:2515 - _update_title_position()] update_title_pos\n",
      "[2019-12-09 21:49:12,346 _base.py:2515 - _update_title_position()] update_title_pos\n",
      "[2019-12-09 21:49:12,377 _base.py:2515 - _update_title_position()] update_title_pos\n",
      "[2019-12-09 21:49:12,416 _base.py:2515 - _update_title_position()] update_title_pos\n",
      "[2019-12-09 21:49:12,444 _base.py:2515 - _update_title_position()] update_title_pos\n",
      "[2019-12-09 21:49:12,481 _base.py:2515 - _update_title_position()] update_title_pos\n",
      "[2019-12-09 21:49:12,514 _base.py:2515 - _update_title_position()] update_title_pos\n",
      "[2019-12-09 21:49:12,545 _base.py:2515 - _update_title_position()] update_title_pos\n",
      "[2019-12-09 21:49:12,570 _base.py:2515 - _update_title_position()] update_title_pos\n",
      "[2019-12-09 21:49:12,598 _base.py:2515 - _update_title_position()] update_title_pos\n",
      "[2019-12-09 21:49:12,633 _base.py:2515 - _update_title_position()] update_title_pos\n",
      "[2019-12-09 21:49:12,662 _base.py:2515 - _update_title_position()] update_title_pos\n",
      "[2019-12-09 21:49:12,691 _base.py:2515 - _update_title_position()] update_title_pos\n",
      "[2019-12-09 21:49:12,718 _base.py:2515 - _update_title_position()] update_title_pos\n",
      "[2019-12-09 21:49:12,746 _base.py:2515 - _update_title_position()] update_title_pos\n",
      "[2019-12-09 21:49:12,775 _base.py:2515 - _update_title_position()] update_title_pos\n",
      "[2019-12-09 21:49:12,804 _base.py:2515 - _update_title_position()] update_title_pos\n",
      "[2019-12-09 21:49:12,812 _base.py:2515 - _update_title_position()] update_title_pos\n",
      "[2019-12-09 21:49:12,820 _base.py:2515 - _update_title_position()] update_title_pos\n",
      "[2019-12-09 21:49:12,826 _base.py:2515 - _update_title_position()] update_title_pos\n",
      "[2019-12-09 21:49:12,833 _base.py:2515 - _update_title_position()] update_title_pos\n",
      "[2019-12-09 21:49:12,842 _base.py:2515 - _update_title_position()] update_title_pos\n",
      "[2019-12-09 21:49:12,854 _base.py:2515 - _update_title_position()] update_title_pos\n",
      "[2019-12-09 21:49:13,140 _base.py:2515 - _update_title_position()] update_title_pos\n",
      "[2019-12-09 21:49:13,159 _base.py:2515 - _update_title_position()] update_title_pos\n",
      "[2019-12-09 21:49:13,180 _base.py:2515 - _update_title_position()] update_title_pos\n",
      "[2019-12-09 21:49:13,201 _base.py:2515 - _update_title_position()] update_title_pos\n",
      "[2019-12-09 21:49:13,220 _base.py:2515 - _update_title_position()] update_title_pos\n",
      "[2019-12-09 21:49:13,239 _base.py:2515 - _update_title_position()] update_title_pos\n",
      "[2019-12-09 21:49:13,261 _base.py:2515 - _update_title_position()] update_title_pos\n",
      "[2019-12-09 21:49:13,280 _base.py:2515 - _update_title_position()] update_title_pos\n",
      "[2019-12-09 21:49:13,311 _base.py:2515 - _update_title_position()] update_title_pos\n",
      "[2019-12-09 21:49:13,328 _base.py:2515 - _update_title_position()] update_title_pos\n",
      "[2019-12-09 21:49:13,354 _base.py:2515 - _update_title_position()] update_title_pos\n",
      "[2019-12-09 21:49:13,377 _base.py:2515 - _update_title_position()] update_title_pos\n",
      "[2019-12-09 21:49:13,402 _base.py:2515 - _update_title_position()] update_title_pos\n",
      "[2019-12-09 21:49:13,422 _base.py:2515 - _update_title_position()] update_title_pos\n",
      "[2019-12-09 21:49:13,440 _base.py:2515 - _update_title_position()] update_title_pos\n",
      "[2019-12-09 21:49:13,464 _base.py:2515 - _update_title_position()] update_title_pos\n",
      "[2019-12-09 21:49:13,489 _base.py:2515 - _update_title_position()] update_title_pos\n",
      "[2019-12-09 21:49:13,511 _base.py:2515 - _update_title_position()] update_title_pos\n",
      "[2019-12-09 21:49:13,533 _base.py:2515 - _update_title_position()] update_title_pos\n",
      "[2019-12-09 21:49:13,564 _base.py:2515 - _update_title_position()] update_title_pos\n",
      "[2019-12-09 21:49:13,588 _base.py:2515 - _update_title_position()] update_title_pos\n",
      "[2019-12-09 21:49:13,613 _base.py:2515 - _update_title_position()] update_title_pos\n",
      "[2019-12-09 21:49:13,637 _base.py:2515 - _update_title_position()] update_title_pos\n",
      "[2019-12-09 21:49:13,652 _base.py:2515 - _update_title_position()] update_title_pos\n",
      "[2019-12-09 21:49:13,672 _base.py:2515 - _update_title_position()] update_title_pos\n",
      "[2019-12-09 21:49:13,691 _base.py:2515 - _update_title_position()] update_title_pos\n",
      "[2019-12-09 21:49:13,714 _base.py:2515 - _update_title_position()] update_title_pos\n",
      "[2019-12-09 21:49:13,735 _base.py:2515 - _update_title_position()] update_title_pos\n",
      "[2019-12-09 21:49:13,753 _base.py:2515 - _update_title_position()] update_title_pos\n",
      "[2019-12-09 21:49:13,778 _base.py:2515 - _update_title_position()] update_title_pos\n",
      "[2019-12-09 21:49:13,801 _base.py:2515 - _update_title_position()] update_title_pos\n",
      "[2019-12-09 21:49:13,819 _base.py:2515 - _update_title_position()] update_title_pos\n",
      "[2019-12-09 21:49:13,838 _base.py:2515 - _update_title_position()] update_title_pos\n",
      "[2019-12-09 21:49:13,852 _base.py:2515 - _update_title_position()] update_title_pos\n",
      "[2019-12-09 21:49:13,871 _base.py:2515 - _update_title_position()] update_title_pos\n",
      "[2019-12-09 21:49:13,891 _base.py:2515 - _update_title_position()] update_title_pos\n",
      "[2019-12-09 21:49:13,915 _base.py:2515 - _update_title_position()] update_title_pos\n",
      "[2019-12-09 21:49:13,931 _base.py:2515 - _update_title_position()] update_title_pos\n",
      "[2019-12-09 21:49:13,952 _base.py:2515 - _update_title_position()] update_title_pos\n",
      "[2019-12-09 21:49:13,975 _base.py:2515 - _update_title_position()] update_title_pos\n",
      "[2019-12-09 21:49:13,996 _base.py:2515 - _update_title_position()] update_title_pos\n",
      "[2019-12-09 21:49:14,011 _base.py:2515 - _update_title_position()] update_title_pos\n"
     ]
    },
    {
     "name": "stdout",
     "output_type": "stream",
     "text": [
      "[2019-12-09 21:49:14,030 _base.py:2515 - _update_title_position()] update_title_pos\n",
      "[2019-12-09 21:49:14,054 _base.py:2515 - _update_title_position()] update_title_pos\n",
      "[2019-12-09 21:49:14,074 _base.py:2515 - _update_title_position()] update_title_pos\n",
      "[2019-12-09 21:49:14,101 _base.py:2515 - _update_title_position()] update_title_pos\n",
      "[2019-12-09 21:49:14,129 _base.py:2515 - _update_title_position()] update_title_pos\n",
      "[2019-12-09 21:49:14,159 _base.py:2515 - _update_title_position()] update_title_pos\n",
      "[2019-12-09 21:49:14,183 _base.py:2515 - _update_title_position()] update_title_pos\n",
      "[2019-12-09 21:49:14,205 _base.py:2515 - _update_title_position()] update_title_pos\n",
      "[2019-12-09 21:49:14,211 _base.py:2515 - _update_title_position()] update_title_pos\n",
      "[2019-12-09 21:49:14,216 _base.py:2515 - _update_title_position()] update_title_pos\n",
      "[2019-12-09 21:49:14,222 _base.py:2515 - _update_title_position()] update_title_pos\n",
      "[2019-12-09 21:49:14,229 _base.py:2515 - _update_title_position()] update_title_pos\n",
      "[2019-12-09 21:49:14,236 _base.py:2515 - _update_title_position()] update_title_pos\n",
      "[2019-12-09 21:49:14,241 _base.py:2515 - _update_title_position()] update_title_pos\n",
      "[2019-12-09 21:49:14,548 _base.py:2515 - _update_title_position()] update_title_pos\n",
      "[2019-12-09 21:49:14,592 _base.py:2515 - _update_title_position()] update_title_pos\n",
      "[2019-12-09 21:49:14,627 _base.py:2515 - _update_title_position()] update_title_pos\n",
      "[2019-12-09 21:49:14,662 _base.py:2515 - _update_title_position()] update_title_pos\n",
      "[2019-12-09 21:49:14,692 _base.py:2515 - _update_title_position()] update_title_pos\n",
      "[2019-12-09 21:49:14,722 _base.py:2515 - _update_title_position()] update_title_pos\n",
      "[2019-12-09 21:49:14,748 _base.py:2515 - _update_title_position()] update_title_pos\n",
      "[2019-12-09 21:49:14,776 _base.py:2515 - _update_title_position()] update_title_pos\n",
      "[2019-12-09 21:49:14,800 _base.py:2515 - _update_title_position()] update_title_pos\n",
      "[2019-12-09 21:49:14,821 _base.py:2515 - _update_title_position()] update_title_pos\n",
      "[2019-12-09 21:49:14,847 _base.py:2515 - _update_title_position()] update_title_pos\n",
      "[2019-12-09 21:49:14,870 _base.py:2515 - _update_title_position()] update_title_pos\n",
      "[2019-12-09 21:49:14,893 _base.py:2515 - _update_title_position()] update_title_pos\n",
      "[2019-12-09 21:49:14,914 _base.py:2515 - _update_title_position()] update_title_pos\n",
      "[2019-12-09 21:49:14,940 _base.py:2515 - _update_title_position()] update_title_pos\n",
      "[2019-12-09 21:49:14,973 _base.py:2515 - _update_title_position()] update_title_pos\n",
      "[2019-12-09 21:49:15,001 _base.py:2515 - _update_title_position()] update_title_pos\n",
      "[2019-12-09 21:49:15,029 _base.py:2515 - _update_title_position()] update_title_pos\n",
      "[2019-12-09 21:49:15,055 _base.py:2515 - _update_title_position()] update_title_pos\n",
      "[2019-12-09 21:49:15,083 _base.py:2515 - _update_title_position()] update_title_pos\n",
      "[2019-12-09 21:49:15,110 _base.py:2515 - _update_title_position()] update_title_pos\n",
      "[2019-12-09 21:49:15,138 _base.py:2515 - _update_title_position()] update_title_pos\n",
      "[2019-12-09 21:49:15,165 _base.py:2515 - _update_title_position()] update_title_pos\n",
      "[2019-12-09 21:49:15,185 _base.py:2515 - _update_title_position()] update_title_pos\n",
      "[2019-12-09 21:49:15,204 _base.py:2515 - _update_title_position()] update_title_pos\n",
      "[2019-12-09 21:49:15,221 _base.py:2515 - _update_title_position()] update_title_pos\n",
      "[2019-12-09 21:49:15,239 _base.py:2515 - _update_title_position()] update_title_pos\n",
      "[2019-12-09 21:49:15,254 _base.py:2515 - _update_title_position()] update_title_pos\n",
      "[2019-12-09 21:49:15,274 _base.py:2515 - _update_title_position()] update_title_pos\n",
      "[2019-12-09 21:49:15,297 _base.py:2515 - _update_title_position()] update_title_pos\n",
      "[2019-12-09 21:49:15,317 _base.py:2515 - _update_title_position()] update_title_pos\n",
      "[2019-12-09 21:49:15,342 _base.py:2515 - _update_title_position()] update_title_pos\n",
      "[2019-12-09 21:49:15,365 _base.py:2515 - _update_title_position()] update_title_pos\n",
      "[2019-12-09 21:49:15,387 _base.py:2515 - _update_title_position()] update_title_pos\n",
      "[2019-12-09 21:49:15,417 _base.py:2515 - _update_title_position()] update_title_pos\n",
      "[2019-12-09 21:49:15,444 _base.py:2515 - _update_title_position()] update_title_pos\n",
      "[2019-12-09 21:49:15,476 _base.py:2515 - _update_title_position()] update_title_pos\n",
      "[2019-12-09 21:49:15,497 _base.py:2515 - _update_title_position()] update_title_pos\n",
      "[2019-12-09 21:49:15,522 _base.py:2515 - _update_title_position()] update_title_pos\n",
      "[2019-12-09 21:49:15,545 _base.py:2515 - _update_title_position()] update_title_pos\n",
      "[2019-12-09 21:49:15,570 _base.py:2515 - _update_title_position()] update_title_pos\n",
      "[2019-12-09 21:49:15,592 _base.py:2515 - _update_title_position()] update_title_pos\n",
      "[2019-12-09 21:49:15,613 _base.py:2515 - _update_title_position()] update_title_pos\n",
      "[2019-12-09 21:49:15,643 _base.py:2515 - _update_title_position()] update_title_pos\n",
      "[2019-12-09 21:49:15,671 _base.py:2515 - _update_title_position()] update_title_pos\n",
      "[2019-12-09 21:49:15,703 _base.py:2515 - _update_title_position()] update_title_pos\n",
      "[2019-12-09 21:49:15,731 _base.py:2515 - _update_title_position()] update_title_pos\n",
      "[2019-12-09 21:49:15,754 _base.py:2515 - _update_title_position()] update_title_pos\n",
      "[2019-12-09 21:49:15,772 _base.py:2515 - _update_title_position()] update_title_pos\n",
      "[2019-12-09 21:49:15,791 _base.py:2515 - _update_title_position()] update_title_pos\n",
      "[2019-12-09 21:49:15,796 _base.py:2515 - _update_title_position()] update_title_pos\n",
      "[2019-12-09 21:49:15,801 _base.py:2515 - _update_title_position()] update_title_pos\n",
      "[2019-12-09 21:49:15,806 _base.py:2515 - _update_title_position()] update_title_pos\n",
      "[2019-12-09 21:49:15,810 _base.py:2515 - _update_title_position()] update_title_pos\n",
      "[2019-12-09 21:49:15,816 _base.py:2515 - _update_title_position()] update_title_pos\n",
      "[2019-12-09 21:49:15,821 _base.py:2515 - _update_title_position()] update_title_pos\n",
      "[2019-12-09 21:49:16,052 _base.py:2515 - _update_title_position()] update_title_pos\n",
      "[2019-12-09 21:49:16,082 _base.py:2515 - _update_title_position()] update_title_pos\n",
      "[2019-12-09 21:49:16,109 _base.py:2515 - _update_title_position()] update_title_pos\n",
      "[2019-12-09 21:49:16,139 _base.py:2515 - _update_title_position()] update_title_pos\n",
      "[2019-12-09 21:49:16,169 _base.py:2515 - _update_title_position()] update_title_pos\n",
      "[2019-12-09 21:49:16,200 _base.py:2515 - _update_title_position()] update_title_pos\n",
      "[2019-12-09 21:49:16,229 _base.py:2515 - _update_title_position()] update_title_pos\n",
      "[2019-12-09 21:49:16,257 _base.py:2515 - _update_title_position()] update_title_pos\n",
      "[2019-12-09 21:49:16,290 _base.py:2515 - _update_title_position()] update_title_pos\n",
      "[2019-12-09 21:49:16,314 _base.py:2515 - _update_title_position()] update_title_pos\n",
      "[2019-12-09 21:49:16,342 _base.py:2515 - _update_title_position()] update_title_pos\n",
      "[2019-12-09 21:49:16,368 _base.py:2515 - _update_title_position()] update_title_pos\n",
      "[2019-12-09 21:49:16,398 _base.py:2515 - _update_title_position()] update_title_pos\n",
      "[2019-12-09 21:49:16,423 _base.py:2515 - _update_title_position()] update_title_pos\n",
      "[2019-12-09 21:49:16,452 _base.py:2515 - _update_title_position()] update_title_pos\n",
      "[2019-12-09 21:49:16,488 _base.py:2515 - _update_title_position()] update_title_pos\n",
      "[2019-12-09 21:49:16,510 _base.py:2515 - _update_title_position()] update_title_pos\n",
      "[2019-12-09 21:49:16,534 _base.py:2515 - _update_title_position()] update_title_pos\n",
      "[2019-12-09 21:49:16,556 _base.py:2515 - _update_title_position()] update_title_pos\n",
      "[2019-12-09 21:49:16,582 _base.py:2515 - _update_title_position()] update_title_pos\n",
      "[2019-12-09 21:49:16,606 _base.py:2515 - _update_title_position()] update_title_pos\n",
      "[2019-12-09 21:49:16,634 _base.py:2515 - _update_title_position()] update_title_pos\n",
      "[2019-12-09 21:49:16,660 _base.py:2515 - _update_title_position()] update_title_pos\n",
      "[2019-12-09 21:49:16,678 _base.py:2515 - _update_title_position()] update_title_pos\n",
      "[2019-12-09 21:49:16,701 _base.py:2515 - _update_title_position()] update_title_pos\n",
      "[2019-12-09 21:49:16,722 _base.py:2515 - _update_title_position()] update_title_pos\n",
      "[2019-12-09 21:49:16,749 _base.py:2515 - _update_title_position()] update_title_pos\n"
     ]
    },
    {
     "name": "stdout",
     "output_type": "stream",
     "text": [
      "[2019-12-09 21:49:16,772 _base.py:2515 - _update_title_position()] update_title_pos\n",
      "[2019-12-09 21:49:16,793 _base.py:2515 - _update_title_position()] update_title_pos\n",
      "[2019-12-09 21:49:16,824 _base.py:2515 - _update_title_position()] update_title_pos\n",
      "[2019-12-09 21:49:16,846 _base.py:2515 - _update_title_position()] update_title_pos\n",
      "[2019-12-09 21:49:16,873 _base.py:2515 - _update_title_position()] update_title_pos\n",
      "[2019-12-09 21:49:16,897 _base.py:2515 - _update_title_position()] update_title_pos\n",
      "[2019-12-09 21:49:16,914 _base.py:2515 - _update_title_position()] update_title_pos\n",
      "[2019-12-09 21:49:16,939 _base.py:2515 - _update_title_position()] update_title_pos\n",
      "[2019-12-09 21:49:16,967 _base.py:2515 - _update_title_position()] update_title_pos\n",
      "[2019-12-09 21:49:17,006 _base.py:2515 - _update_title_position()] update_title_pos\n",
      "[2019-12-09 21:49:17,031 _base.py:2515 - _update_title_position()] update_title_pos\n",
      "[2019-12-09 21:49:17,057 _base.py:2515 - _update_title_position()] update_title_pos\n",
      "[2019-12-09 21:49:17,084 _base.py:2515 - _update_title_position()] update_title_pos\n",
      "[2019-12-09 21:49:17,111 _base.py:2515 - _update_title_position()] update_title_pos\n",
      "[2019-12-09 21:49:17,139 _base.py:2515 - _update_title_position()] update_title_pos\n",
      "[2019-12-09 21:49:17,176 _base.py:2515 - _update_title_position()] update_title_pos\n",
      "[2019-12-09 21:49:17,208 _base.py:2515 - _update_title_position()] update_title_pos\n",
      "[2019-12-09 21:49:17,236 _base.py:2515 - _update_title_position()] update_title_pos\n",
      "[2019-12-09 21:49:17,266 _base.py:2515 - _update_title_position()] update_title_pos\n",
      "[2019-12-09 21:49:17,298 _base.py:2515 - _update_title_position()] update_title_pos\n",
      "[2019-12-09 21:49:17,326 _base.py:2515 - _update_title_position()] update_title_pos\n",
      "[2019-12-09 21:49:17,355 _base.py:2515 - _update_title_position()] update_title_pos\n",
      "[2019-12-09 21:49:17,382 _base.py:2515 - _update_title_position()] update_title_pos\n",
      "[2019-12-09 21:49:17,410 _base.py:2515 - _update_title_position()] update_title_pos\n",
      "[2019-12-09 21:49:17,432 _base.py:2515 - _update_title_position()] update_title_pos\n",
      "[2019-12-09 21:49:17,459 _base.py:2515 - _update_title_position()] update_title_pos\n",
      "[2019-12-09 21:49:17,480 _base.py:2515 - _update_title_position()] update_title_pos\n",
      "[2019-12-09 21:49:17,504 _base.py:2515 - _update_title_position()] update_title_pos\n",
      "[2019-12-09 21:49:17,524 _base.py:2515 - _update_title_position()] update_title_pos\n",
      "[2019-12-09 21:49:18,184 _base.py:2515 - _update_title_position()] update_title_pos\n",
      "[2019-12-09 21:49:18,203 _base.py:2515 - _update_title_position()] update_title_pos\n",
      "[2019-12-09 21:49:18,225 _base.py:2515 - _update_title_position()] update_title_pos\n",
      "[2019-12-09 21:49:18,248 _base.py:2515 - _update_title_position()] update_title_pos\n",
      "[2019-12-09 21:49:18,276 _base.py:2515 - _update_title_position()] update_title_pos\n",
      "[2019-12-09 21:49:18,298 _base.py:2515 - _update_title_position()] update_title_pos\n",
      "[2019-12-09 21:49:18,322 _base.py:2515 - _update_title_position()] update_title_pos\n",
      "[2019-12-09 21:49:18,343 _base.py:2515 - _update_title_position()] update_title_pos\n",
      "[2019-12-09 21:49:18,373 _base.py:2515 - _update_title_position()] update_title_pos\n",
      "[2019-12-09 21:49:18,395 _base.py:2515 - _update_title_position()] update_title_pos\n",
      "[2019-12-09 21:49:18,426 _base.py:2515 - _update_title_position()] update_title_pos\n",
      "[2019-12-09 21:49:18,461 _base.py:2515 - _update_title_position()] update_title_pos\n",
      "[2019-12-09 21:49:18,490 _base.py:2515 - _update_title_position()] update_title_pos\n",
      "[2019-12-09 21:49:18,517 _base.py:2515 - _update_title_position()] update_title_pos\n",
      "[2019-12-09 21:49:18,538 _base.py:2515 - _update_title_position()] update_title_pos\n",
      "[2019-12-09 21:49:18,567 _base.py:2515 - _update_title_position()] update_title_pos\n",
      "[2019-12-09 21:49:18,588 _base.py:2515 - _update_title_position()] update_title_pos\n",
      "[2019-12-09 21:49:18,608 _base.py:2515 - _update_title_position()] update_title_pos\n",
      "[2019-12-09 21:49:18,627 _base.py:2515 - _update_title_position()] update_title_pos\n",
      "[2019-12-09 21:49:18,648 _base.py:2515 - _update_title_position()] update_title_pos\n",
      "[2019-12-09 21:49:18,671 _base.py:2515 - _update_title_position()] update_title_pos\n",
      "[2019-12-09 21:49:18,693 _base.py:2515 - _update_title_position()] update_title_pos\n",
      "[2019-12-09 21:49:18,717 _base.py:2515 - _update_title_position()] update_title_pos\n",
      "[2019-12-09 21:49:18,742 _base.py:2515 - _update_title_position()] update_title_pos\n",
      "[2019-12-09 21:49:18,763 _base.py:2515 - _update_title_position()] update_title_pos\n",
      "[2019-12-09 21:49:18,781 _base.py:2515 - _update_title_position()] update_title_pos\n",
      "[2019-12-09 21:49:18,803 _base.py:2515 - _update_title_position()] update_title_pos\n",
      "[2019-12-09 21:49:18,823 _base.py:2515 - _update_title_position()] update_title_pos\n",
      "[2019-12-09 21:49:18,845 _base.py:2515 - _update_title_position()] update_title_pos\n",
      "[2019-12-09 21:49:18,877 _base.py:2515 - _update_title_position()] update_title_pos\n",
      "[2019-12-09 21:49:18,900 _base.py:2515 - _update_title_position()] update_title_pos\n",
      "[2019-12-09 21:49:18,926 _base.py:2515 - _update_title_position()] update_title_pos\n",
      "[2019-12-09 21:49:18,951 _base.py:2515 - _update_title_position()] update_title_pos\n",
      "[2019-12-09 21:49:18,977 _base.py:2515 - _update_title_position()] update_title_pos\n",
      "[2019-12-09 21:49:19,001 _base.py:2515 - _update_title_position()] update_title_pos\n",
      "[2019-12-09 21:49:19,026 _base.py:2515 - _update_title_position()] update_title_pos\n",
      "[2019-12-09 21:49:19,051 _base.py:2515 - _update_title_position()] update_title_pos\n",
      "[2019-12-09 21:49:19,075 _base.py:2515 - _update_title_position()] update_title_pos\n",
      "[2019-12-09 21:49:19,098 _base.py:2515 - _update_title_position()] update_title_pos\n",
      "[2019-12-09 21:49:19,120 _base.py:2515 - _update_title_position()] update_title_pos\n",
      "[2019-12-09 21:49:19,142 _base.py:2515 - _update_title_position()] update_title_pos\n",
      "[2019-12-09 21:49:19,163 _base.py:2515 - _update_title_position()] update_title_pos\n",
      "[2019-12-09 21:49:19,185 _base.py:2515 - _update_title_position()] update_title_pos\n",
      "[2019-12-09 21:49:19,216 _base.py:2515 - _update_title_position()] update_title_pos\n",
      "[2019-12-09 21:49:19,248 _base.py:2515 - _update_title_position()] update_title_pos\n",
      "[2019-12-09 21:49:19,279 _base.py:2515 - _update_title_position()] update_title_pos\n",
      "[2019-12-09 21:49:19,311 _base.py:2515 - _update_title_position()] update_title_pos\n",
      "[2019-12-09 21:49:19,341 _base.py:2515 - _update_title_position()] update_title_pos\n",
      "[2019-12-09 21:49:19,369 _base.py:2515 - _update_title_position()] update_title_pos\n",
      "[2019-12-09 21:49:19,395 _base.py:2515 - _update_title_position()] update_title_pos\n",
      "[2019-12-09 21:49:19,428 _base.py:2515 - _update_title_position()] update_title_pos\n",
      "[2019-12-09 21:49:19,456 _base.py:2515 - _update_title_position()] update_title_pos\n",
      "[2019-12-09 21:49:19,479 _base.py:2515 - _update_title_position()] update_title_pos\n",
      "[2019-12-09 21:49:19,501 _base.py:2515 - _update_title_position()] update_title_pos\n",
      "[2019-12-09 21:49:19,526 _base.py:2515 - _update_title_position()] update_title_pos\n",
      "[2019-12-09 21:49:19,553 _base.py:2515 - _update_title_position()] update_title_pos\n",
      "[2019-12-09 21:49:19,619 _base.py:2515 - _update_title_position()] update_title_pos\n",
      "[2019-12-09 21:49:19,652 _base.py:2515 - _update_title_position()] update_title_pos\n",
      "[2019-12-09 21:49:19,675 _base.py:2515 - _update_title_position()] update_title_pos\n",
      "[2019-12-09 21:49:19,703 _base.py:2515 - _update_title_position()] update_title_pos\n",
      "[2019-12-09 21:49:19,730 _base.py:2515 - _update_title_position()] update_title_pos\n",
      "[2019-12-09 21:49:19,752 _base.py:2515 - _update_title_position()] update_title_pos\n",
      "[2019-12-09 21:49:19,770 _base.py:2515 - _update_title_position()] update_title_pos\n",
      "[2019-12-09 21:49:19,791 _base.py:2515 - _update_title_position()] update_title_pos\n",
      "[2019-12-09 21:49:19,823 _base.py:2515 - _update_title_position()] update_title_pos\n",
      "[2019-12-09 21:49:19,842 _base.py:2515 - _update_title_position()] update_title_pos\n",
      "[2019-12-09 21:49:19,862 _base.py:2515 - _update_title_position()] update_title_pos\n",
      "[2019-12-09 21:49:19,887 _base.py:2515 - _update_title_position()] update_title_pos\n",
      "[2019-12-09 21:49:19,909 _base.py:2515 - _update_title_position()] update_title_pos\n"
     ]
    },
    {
     "name": "stdout",
     "output_type": "stream",
     "text": [
      "[2019-12-09 21:49:19,930 _base.py:2515 - _update_title_position()] update_title_pos\n",
      "[2019-12-09 21:49:19,953 _base.py:2515 - _update_title_position()] update_title_pos\n",
      "[2019-12-09 21:49:19,981 _base.py:2515 - _update_title_position()] update_title_pos\n",
      "[2019-12-09 21:49:20,002 _base.py:2515 - _update_title_position()] update_title_pos\n",
      "[2019-12-09 21:49:20,023 _base.py:2515 - _update_title_position()] update_title_pos\n",
      "[2019-12-09 21:49:20,050 _base.py:2515 - _update_title_position()] update_title_pos\n",
      "[2019-12-09 21:49:20,078 _base.py:2515 - _update_title_position()] update_title_pos\n",
      "[2019-12-09 21:49:20,104 _base.py:2515 - _update_title_position()] update_title_pos\n",
      "[2019-12-09 21:49:20,132 _base.py:2515 - _update_title_position()] update_title_pos\n",
      "[2019-12-09 21:49:20,155 _base.py:2515 - _update_title_position()] update_title_pos\n",
      "[2019-12-09 21:49:20,177 _base.py:2515 - _update_title_position()] update_title_pos\n",
      "[2019-12-09 21:49:20,196 _base.py:2515 - _update_title_position()] update_title_pos\n",
      "[2019-12-09 21:49:20,215 _base.py:2515 - _update_title_position()] update_title_pos\n",
      "[2019-12-09 21:49:20,237 _base.py:2515 - _update_title_position()] update_title_pos\n",
      "[2019-12-09 21:49:20,257 _base.py:2515 - _update_title_position()] update_title_pos\n",
      "[2019-12-09 21:49:20,279 _base.py:2515 - _update_title_position()] update_title_pos\n",
      "[2019-12-09 21:49:20,318 _base.py:2515 - _update_title_position()] update_title_pos\n",
      "[2019-12-09 21:49:20,349 _base.py:2515 - _update_title_position()] update_title_pos\n",
      "[2019-12-09 21:49:20,380 _base.py:2515 - _update_title_position()] update_title_pos\n",
      "[2019-12-09 21:49:20,405 _base.py:2515 - _update_title_position()] update_title_pos\n",
      "[2019-12-09 21:49:20,432 _base.py:2515 - _update_title_position()] update_title_pos\n",
      "[2019-12-09 21:49:20,468 _base.py:2515 - _update_title_position()] update_title_pos\n",
      "[2019-12-09 21:49:20,502 _base.py:2515 - _update_title_position()] update_title_pos\n",
      "[2019-12-09 21:49:20,540 _base.py:2515 - _update_title_position()] update_title_pos\n",
      "[2019-12-09 21:49:20,561 _base.py:2515 - _update_title_position()] update_title_pos\n",
      "[2019-12-09 21:49:20,581 _base.py:2515 - _update_title_position()] update_title_pos\n",
      "[2019-12-09 21:49:20,600 _base.py:2515 - _update_title_position()] update_title_pos\n",
      "[2019-12-09 21:49:20,617 _base.py:2515 - _update_title_position()] update_title_pos\n",
      "[2019-12-09 21:49:20,638 _base.py:2515 - _update_title_position()] update_title_pos\n",
      "[2019-12-09 21:49:20,658 _base.py:2515 - _update_title_position()] update_title_pos\n",
      "[2019-12-09 21:49:20,698 _base.py:2515 - _update_title_position()] update_title_pos\n",
      "[2019-12-09 21:49:20,732 _base.py:2515 - _update_title_position()] update_title_pos\n",
      "[2019-12-09 21:49:20,771 _base.py:2515 - _update_title_position()] update_title_pos\n",
      "[2019-12-09 21:49:20,803 _base.py:2515 - _update_title_position()] update_title_pos\n",
      "[2019-12-09 21:49:20,824 _base.py:2515 - _update_title_position()] update_title_pos\n",
      "[2019-12-09 21:49:20,842 _base.py:2515 - _update_title_position()] update_title_pos\n",
      "[2019-12-09 21:49:20,862 _base.py:2515 - _update_title_position()] update_title_pos\n",
      "[2019-12-09 21:49:20,867 _base.py:2515 - _update_title_position()] update_title_pos\n",
      "[2019-12-09 21:49:20,873 _base.py:2515 - _update_title_position()] update_title_pos\n",
      "[2019-12-09 21:49:20,878 _base.py:2515 - _update_title_position()] update_title_pos\n",
      "[2019-12-09 21:49:20,883 _base.py:2515 - _update_title_position()] update_title_pos\n",
      "[2019-12-09 21:49:20,888 _base.py:2515 - _update_title_position()] update_title_pos\n",
      "[2019-12-09 21:49:20,893 _base.py:2515 - _update_title_position()] update_title_pos\n"
     ]
    },
    {
     "data": {
      "image/png": "[encoded data removed]",
      "text/plain": [
       "<Figure size 1512x1512 with 56 Axes>"
      ]
     },
     "metadata": {
      "needs_background": "light"
     },
     "output_type": "display_data"
    }
   ],
   "source": [
    "import seaborn as sns\n",
    "columns = ['1일','2일','3일','4일','5일','6일','7일']\n",
    "sns.pairplot(pd.read_csv(ANAL_PATH),vars=columns,kind=\"reg\",height=3)\n",
    "plt.savefig('a.png')\n",
    "plt.show()"
   ]
  },
  {
   "cell_type": "markdown",
   "metadata": {},
   "source": [
    "각 일별 상관관계가 양의 상관관계 (강한) 를 가지는 것을 볼 수 있다"
   ]
  },
  {
   "cell_type": "markdown",
   "metadata": {},
   "source": [
    "## 4. 필터링"
   ]
  },
  {
   "cell_type": "markdown",
   "metadata": {},
   "source": [
    "트위터 상에서 언급횟수를 받아왔지만 위 까지의 과정은 그저 언급 횟수를 카운팅만 하는 방식이였다  \n",
    "이에 더 나아가 해당 곡명 + 가수에 대해 중복 아이디 제거 및 중복된 내용을 제거 했을 때에 대해서 분석"
   ]
  },
  {
   "cell_type": "code",
   "execution_count": 22,
   "metadata": {},
   "outputs": [
    {
     "data": {
      "text/html": [
       "<div>\n",
       "<style scoped>\n",
       "    .dataframe tbody tr th:only-of-type {\n",
       "        vertical-align: middle;\n",
       "    }\n",
       "\n",
       "    .dataframe tbody tr th {\n",
       "        vertical-align: top;\n",
       "    }\n",
       "\n",
       "    .dataframe thead th {\n",
       "        text-align: right;\n",
       "    }\n",
       "</style>\n",
       "<table border=\"1\" class=\"dataframe\">\n",
       "  <thead>\n",
       "    <tr style=\"text-align: right;\">\n",
       "      <th></th>\n",
       "      <th>melon_chart</th>\n",
       "      <th>song</th>\n",
       "      <th>singer</th>\n",
       "      <th>tweet_date</th>\n",
       "      <th>tweet_time</th>\n",
       "      <th>user_name</th>\n",
       "      <th>content</th>\n",
       "      <th>link</th>\n",
       "      <th>retweets</th>\n",
       "      <th>favorites</th>\n",
       "      <th>sing</th>\n",
       "      <th>facorites</th>\n",
       "    </tr>\n",
       "  </thead>\n",
       "  <tbody>\n",
       "    <tr>\n",
       "      <th>0</th>\n",
       "      <td>1</td>\n",
       "      <td>Blueming</td>\n",
       "      <td>아이유</td>\n",
       "      <td>2019-11-19</td>\n",
       "      <td>23:56:23</td>\n",
       "      <td>tiramisu_1119</td>\n",
       "      <td>Blueming - 아이유 - 들어보세요. http://kko.to/dJ-GJ45j...</td>\n",
       "      <td>https://twitter.com/tiramisu_1119/status/11969...</td>\n",
       "      <td>0</td>\n",
       "      <td>NaN</td>\n",
       "      <td>NaN</td>\n",
       "      <td>0</td>\n",
       "    </tr>\n",
       "    <tr>\n",
       "      <th>1</th>\n",
       "      <td>1</td>\n",
       "      <td>Blueming</td>\n",
       "      <td>아이유</td>\n",
       "      <td>2019-11-19</td>\n",
       "      <td>23:55:29</td>\n",
       "      <td>_inthedesert516</td>\n",
       "      <td>Blueming - 아이유 - 들어보세요. http://kko.to/WzKvJ480...</td>\n",
       "      <td>https://twitter.com/_inthedesert516/status/119...</td>\n",
       "      <td>0</td>\n",
       "      <td>NaN</td>\n",
       "      <td>NaN</td>\n",
       "      <td>4</td>\n",
       "    </tr>\n",
       "    <tr>\n",
       "      <th>2</th>\n",
       "      <td>1</td>\n",
       "      <td>Blueming</td>\n",
       "      <td>아이유</td>\n",
       "      <td>2019-11-19</td>\n",
       "      <td>23:53:59</td>\n",
       "      <td>Dosiro</td>\n",
       "      <td>[MV] IU(아이유) _ Blueming(블루밍) https://youtu.be/...</td>\n",
       "      <td>https://twitter.com/Dosiro/status/119693971162...</td>\n",
       "      <td>0</td>\n",
       "      <td>NaN</td>\n",
       "      <td>NaN</td>\n",
       "      <td>0</td>\n",
       "    </tr>\n",
       "    <tr>\n",
       "      <th>3</th>\n",
       "      <td>1</td>\n",
       "      <td>Blueming</td>\n",
       "      <td>아이유</td>\n",
       "      <td>2019-11-19</td>\n",
       "      <td>23:48:14</td>\n",
       "      <td>dlwlrma0515</td>\n",
       "      <td>#아이유 #Blueming 뮤직비디오 인기 급상승 동영상 4위 https://you...</td>\n",
       "      <td>https://twitter.com/dlwlrma0515/status/1196938...</td>\n",
       "      <td>1</td>\n",
       "      <td>NaN</td>\n",
       "      <td>NaN</td>\n",
       "      <td>3</td>\n",
       "    </tr>\n",
       "    <tr>\n",
       "      <th>4</th>\n",
       "      <td>1</td>\n",
       "      <td>Blueming</td>\n",
       "      <td>아이유</td>\n",
       "      <td>2019-11-19</td>\n",
       "      <td>23:47:48</td>\n",
       "      <td>injeeel_</td>\n",
       "      <td>[MV] IU(아이유) _ Blueming(블루밍) https://youtu.be/...</td>\n",
       "      <td>https://twitter.com/injeeel_/status/1196938151...</td>\n",
       "      <td>0</td>\n",
       "      <td>NaN</td>\n",
       "      <td>NaN</td>\n",
       "      <td>1</td>\n",
       "    </tr>\n",
       "  </tbody>\n",
       "</table>\n",
       "</div>"
      ],
      "text/plain": [
       "   melon_chart      song singer  tweet_date tweet_time        user_name  \\\n",
       "0            1  Blueming    아이유  2019-11-19   23:56:23    tiramisu_1119   \n",
       "1            1  Blueming    아이유  2019-11-19   23:55:29  _inthedesert516   \n",
       "2            1  Blueming    아이유  2019-11-19   23:53:59           Dosiro   \n",
       "3            1  Blueming    아이유  2019-11-19   23:48:14      dlwlrma0515   \n",
       "4            1  Blueming    아이유  2019-11-19   23:47:48         injeeel_   \n",
       "\n",
       "                                             content  \\\n",
       "0  Blueming - 아이유 - 들어보세요. http://kko.to/dJ-GJ45j...   \n",
       "1  Blueming - 아이유 - 들어보세요. http://kko.to/WzKvJ480...   \n",
       "2  [MV] IU(아이유) _ Blueming(블루밍) https://youtu.be/...   \n",
       "3  #아이유 #Blueming 뮤직비디오 인기 급상승 동영상 4위 https://you...   \n",
       "4  [MV] IU(아이유) _ Blueming(블루밍) https://youtu.be/...   \n",
       "\n",
       "                                                link  retweets  favorites  \\\n",
       "0  https://twitter.com/tiramisu_1119/status/11969...         0        NaN   \n",
       "1  https://twitter.com/_inthedesert516/status/119...         0        NaN   \n",
       "2  https://twitter.com/Dosiro/status/119693971162...         0        NaN   \n",
       "3  https://twitter.com/dlwlrma0515/status/1196938...         1        NaN   \n",
       "4  https://twitter.com/injeeel_/status/1196938151...         0        NaN   \n",
       "\n",
       "   sing  facorites  \n",
       "0   NaN          0  \n",
       "1   NaN          4  \n",
       "2   NaN          0  \n",
       "3   NaN          3  \n",
       "4   NaN          1  "
      ]
     },
     "execution_count": 22,
     "metadata": {},
     "output_type": "execute_result"
    }
   ],
   "source": [
    "detail = pd.read_csv(DETAIL_PATH)\n",
    "detail.head()"
   ]
  },
  {
   "cell_type": "markdown",
   "metadata": {},
   "source": [
    "### 아이디 중복 필터링"
   ]
  },
  {
   "cell_type": "markdown",
   "metadata": {},
   "source": [
    "게시물 중복 제거에 앞서 각 곡마다 아이디에 대해 중복 제거를 하고 상관관계를 분석한다"
   ]
  },
  {
   "cell_type": "markdown",
   "metadata": {},
   "source": [
    "중복 제거 전 아이디 갯수"
   ]
  },
  {
   "cell_type": "code",
   "execution_count": 23,
   "metadata": {
    "scrolled": true
   },
   "outputs": [
    {
     "data": {
      "text/plain": [
       "31472"
      ]
     },
     "execution_count": 23,
     "metadata": {},
     "output_type": "execute_result"
    }
   ],
   "source": [
    "len(detail['user_name'])"
   ]
  },
  {
   "cell_type": "markdown",
   "metadata": {},
   "source": [
    "중복 제거 후 아이디 갯수"
   ]
  },
  {
   "cell_type": "code",
   "execution_count": 24,
   "metadata": {},
   "outputs": [
    {
     "data": {
      "text/plain": [
       "14146"
      ]
     },
     "execution_count": 24,
     "metadata": {},
     "output_type": "execute_result"
    }
   ],
   "source": [
    "detail = detail.drop_duplicates('user_name',keep='first')\n",
    "len(detail['user_name'])"
   ]
  },
  {
   "cell_type": "markdown",
   "metadata": {},
   "source": [
    "50% 이상이 줄어든 것을 확인할 수 있다  \n",
    "SNS상에서의 언급횟수에 동일한 ID로 광고성으로 많은 게시물을 남길 수 있으니, 동일한 ID일 경우 제거를 해서  \n",
    "상관관계를 분석한다"
   ]
  },
  {
   "cell_type": "code",
   "execution_count": 25,
   "metadata": {},
   "outputs": [
    {
     "data": {
      "text/plain": [
       "0             Blueming\n",
       "1    늦은 밤 너의 집 앞 골목길에서\n",
       "2            Love poem\n",
       "3           이 번호로 전화해줘\n",
       "4               시간의 바깥\n",
       "Name: song, dtype: object"
      ]
     },
     "execution_count": 25,
     "metadata": {},
     "output_type": "execute_result"
    }
   ],
   "source": [
    "detail = pd.read_csv(DETAIL_PATH)\n",
    "songs = pd.read_csv(COMP_PATH)['song']\n",
    "songs.head()"
   ]
  },
  {
   "cell_type": "markdown",
   "metadata": {},
   "source": [
    "먼저 각 곡에 대해서 중복되는 아이디를 제거해야 하므로  \n",
    "곡을 기준으로 demo_detail.csv 파일을 나눈다"
   ]
  },
  {
   "cell_type": "code",
   "execution_count": 26,
   "metadata": {},
   "outputs": [
    {
     "name": "stdout",
     "output_type": "stream",
     "text": [
      "테스트 - 중복 제거 전 :  7093\n"
     ]
    }
   ],
   "source": [
    "split_by_song = list()\n",
    "\n",
    "for i, song in enumerate(songs):\n",
    "    split_by_song.append(detail[detail['song'] == song])\n",
    "    \n",
    "print(\"테스트 - 중복 제거 전 : \", len(split_by_song[0]))"
   ]
  },
  {
   "cell_type": "markdown",
   "metadata": {},
   "source": [
    "이제 ID를 기준으로 중복을 제거한다"
   ]
  },
  {
   "cell_type": "code",
   "execution_count": 27,
   "metadata": {},
   "outputs": [
    {
     "name": "stdout",
     "output_type": "stream",
     "text": [
      "테스트 - 중복 제거 후 :  3226\n"
     ]
    }
   ],
   "source": [
    "counts = list()\n",
    "\n",
    "for index, df in enumerate(split_by_song):\n",
    "    split_by_song[index] = df.drop_duplicates('user_name', keep = 'first')\n",
    "    counts.append(len(split_by_song[index]))\n",
    "print(\"테스트 - 중복 제거 후 : \", len(split_by_song[0]))"
   ]
  },
  {
   "cell_type": "markdown",
   "metadata": {},
   "source": [
    "맨 첫번째 요소로 한정해서 보면, 7093 -> 3226으로 상당히 많이 줄어든 것을 볼 수 있다"
   ]
  },
  {
   "cell_type": "markdown",
   "metadata": {},
   "source": [
    "* 중복 제거 전"
   ]
  },
  {
   "cell_type": "code",
   "execution_count": 28,
   "metadata": {},
   "outputs": [
    {
     "data": {
      "text/html": [
       "<div>\n",
       "<style scoped>\n",
       "    .dataframe tbody tr th:only-of-type {\n",
       "        vertical-align: middle;\n",
       "    }\n",
       "\n",
       "    .dataframe tbody tr th {\n",
       "        vertical-align: top;\n",
       "    }\n",
       "\n",
       "    .dataframe thead th {\n",
       "        text-align: right;\n",
       "    }\n",
       "</style>\n",
       "<table border=\"1\" class=\"dataframe\">\n",
       "  <thead>\n",
       "    <tr style=\"text-align: right;\">\n",
       "      <th></th>\n",
       "      <th>melon_chart</th>\n",
       "      <th>song</th>\n",
       "      <th>singer</th>\n",
       "      <th>count</th>\n",
       "      <th>start_date</th>\n",
       "      <th>end_date</th>\n",
       "    </tr>\n",
       "  </thead>\n",
       "  <tbody>\n",
       "    <tr>\n",
       "      <th>0</th>\n",
       "      <td>1</td>\n",
       "      <td>Blueming</td>\n",
       "      <td>아이유</td>\n",
       "      <td>7093</td>\n",
       "      <td>2019-11-13 00:00:00</td>\n",
       "      <td>2019-11-20 00:00:00</td>\n",
       "    </tr>\n",
       "    <tr>\n",
       "      <th>1</th>\n",
       "      <td>2</td>\n",
       "      <td>늦은 밤 너의 집 앞 골목길에서</td>\n",
       "      <td>노을</td>\n",
       "      <td>71</td>\n",
       "      <td>2019-11-13 00:00:00</td>\n",
       "      <td>2019-11-20 00:00:00</td>\n",
       "    </tr>\n",
       "    <tr>\n",
       "      <th>2</th>\n",
       "      <td>3</td>\n",
       "      <td>Love poem</td>\n",
       "      <td>아이유</td>\n",
       "      <td>1864</td>\n",
       "      <td>2019-11-13 00:00:00</td>\n",
       "      <td>2019-11-20 00:00:00</td>\n",
       "    </tr>\n",
       "    <tr>\n",
       "      <th>3</th>\n",
       "      <td>4</td>\n",
       "      <td>이 번호로 전화해줘</td>\n",
       "      <td>바이브</td>\n",
       "      <td>69</td>\n",
       "      <td>2019-11-13 00:00:00</td>\n",
       "      <td>2019-11-20 00:00:00</td>\n",
       "    </tr>\n",
       "    <tr>\n",
       "      <th>4</th>\n",
       "      <td>5</td>\n",
       "      <td>시간의 바깥</td>\n",
       "      <td>아이유</td>\n",
       "      <td>2164</td>\n",
       "      <td>2019-11-13 00:00:00</td>\n",
       "      <td>2019-11-20 00:00:00</td>\n",
       "    </tr>\n",
       "  </tbody>\n",
       "</table>\n",
       "</div>"
      ],
      "text/plain": [
       "   melon_chart               song singer  count           start_date  \\\n",
       "0            1           Blueming    아이유   7093  2019-11-13 00:00:00   \n",
       "1            2  늦은 밤 너의 집 앞 골목길에서     노을     71  2019-11-13 00:00:00   \n",
       "2            3          Love poem    아이유   1864  2019-11-13 00:00:00   \n",
       "3            4         이 번호로 전화해줘    바이브     69  2019-11-13 00:00:00   \n",
       "4            5             시간의 바깥    아이유   2164  2019-11-13 00:00:00   \n",
       "\n",
       "              end_date  \n",
       "0  2019-11-20 00:00:00  \n",
       "1  2019-11-20 00:00:00  \n",
       "2  2019-11-20 00:00:00  \n",
       "3  2019-11-20 00:00:00  \n",
       "4  2019-11-20 00:00:00  "
      ]
     },
     "execution_count": 28,
     "metadata": {},
     "output_type": "execute_result"
    }
   ],
   "source": [
    "compression = pd.read_csv('./data/demo_compression.csv')\n",
    "compression.head()"
   ]
  },
  {
   "cell_type": "markdown",
   "metadata": {},
   "source": [
    "* 중복 제거 후"
   ]
  },
  {
   "cell_type": "code",
   "execution_count": 29,
   "metadata": {},
   "outputs": [
    {
     "data": {
      "text/html": [
       "<div>\n",
       "<style scoped>\n",
       "    .dataframe tbody tr th:only-of-type {\n",
       "        vertical-align: middle;\n",
       "    }\n",
       "\n",
       "    .dataframe tbody tr th {\n",
       "        vertical-align: top;\n",
       "    }\n",
       "\n",
       "    .dataframe thead th {\n",
       "        text-align: right;\n",
       "    }\n",
       "</style>\n",
       "<table border=\"1\" class=\"dataframe\">\n",
       "  <thead>\n",
       "    <tr style=\"text-align: right;\">\n",
       "      <th></th>\n",
       "      <th>melon_chart</th>\n",
       "      <th>song</th>\n",
       "      <th>singer</th>\n",
       "      <th>count</th>\n",
       "      <th>start_date</th>\n",
       "      <th>end_date</th>\n",
       "    </tr>\n",
       "  </thead>\n",
       "  <tbody>\n",
       "    <tr>\n",
       "      <th>0</th>\n",
       "      <td>1</td>\n",
       "      <td>Blueming</td>\n",
       "      <td>아이유</td>\n",
       "      <td>3226</td>\n",
       "      <td>2019-11-13 00:00:00</td>\n",
       "      <td>2019-11-20 00:00:00</td>\n",
       "    </tr>\n",
       "    <tr>\n",
       "      <th>1</th>\n",
       "      <td>2</td>\n",
       "      <td>늦은 밤 너의 집 앞 골목길에서</td>\n",
       "      <td>노을</td>\n",
       "      <td>64</td>\n",
       "      <td>2019-11-13 00:00:00</td>\n",
       "      <td>2019-11-20 00:00:00</td>\n",
       "    </tr>\n",
       "    <tr>\n",
       "      <th>2</th>\n",
       "      <td>3</td>\n",
       "      <td>Love poem</td>\n",
       "      <td>아이유</td>\n",
       "      <td>834</td>\n",
       "      <td>2019-11-13 00:00:00</td>\n",
       "      <td>2019-11-20 00:00:00</td>\n",
       "    </tr>\n",
       "    <tr>\n",
       "      <th>3</th>\n",
       "      <td>4</td>\n",
       "      <td>이 번호로 전화해줘</td>\n",
       "      <td>바이브</td>\n",
       "      <td>58</td>\n",
       "      <td>2019-11-13 00:00:00</td>\n",
       "      <td>2019-11-20 00:00:00</td>\n",
       "    </tr>\n",
       "    <tr>\n",
       "      <th>4</th>\n",
       "      <td>5</td>\n",
       "      <td>시간의 바깥</td>\n",
       "      <td>아이유</td>\n",
       "      <td>1810</td>\n",
       "      <td>2019-11-13 00:00:00</td>\n",
       "      <td>2019-11-20 00:00:00</td>\n",
       "    </tr>\n",
       "  </tbody>\n",
       "</table>\n",
       "</div>"
      ],
      "text/plain": [
       "   melon_chart               song singer  count           start_date  \\\n",
       "0            1           Blueming    아이유   3226  2019-11-13 00:00:00   \n",
       "1            2  늦은 밤 너의 집 앞 골목길에서     노을     64  2019-11-13 00:00:00   \n",
       "2            3          Love poem    아이유    834  2019-11-13 00:00:00   \n",
       "3            4         이 번호로 전화해줘    바이브     58  2019-11-13 00:00:00   \n",
       "4            5             시간의 바깥    아이유   1810  2019-11-13 00:00:00   \n",
       "\n",
       "              end_date  \n",
       "0  2019-11-20 00:00:00  \n",
       "1  2019-11-20 00:00:00  \n",
       "2  2019-11-20 00:00:00  \n",
       "3  2019-11-20 00:00:00  \n",
       "4  2019-11-20 00:00:00  "
      ]
     },
     "execution_count": 29,
     "metadata": {},
     "output_type": "execute_result"
    }
   ],
   "source": [
    "compression['count'] = counts\n",
    "compression.head()"
   ]
  },
  {
   "cell_type": "code",
   "execution_count": 30,
   "metadata": {},
   "outputs": [],
   "source": [
    "compression.to_csv('./data/rm_id_dup_compression.csv', index=False)"
   ]
  },
  {
   "cell_type": "markdown",
   "metadata": {},
   "source": [
    "이제 중복 제거된 결과를 바탕으로 새로 데이터를 편집한다"
   ]
  },
  {
   "cell_type": "code",
   "execution_count": 31,
   "metadata": {},
   "outputs": [],
   "source": [
    "rm_id_dup = split_by_song[0]\n",
    "for i in range(1,50):\n",
    "    rm_id_dup = pd.concat([rm_id_dup, split_by_song[i]], join = 'outer')"
   ]
  },
  {
   "cell_type": "markdown",
   "metadata": {},
   "source": [
    "각 곡별로 중복되는 ID를 제거했으므로, 다시 원래 형식으로 합쳐주고  \n",
    "rm_id_dup_detail.csv 라는 파일명으로 새로 저장한다"
   ]
  },
  {
   "cell_type": "code",
   "execution_count": 32,
   "metadata": {},
   "outputs": [
    {
     "data": {
      "text/html": [
       "<div>\n",
       "<style scoped>\n",
       "    .dataframe tbody tr th:only-of-type {\n",
       "        vertical-align: middle;\n",
       "    }\n",
       "\n",
       "    .dataframe tbody tr th {\n",
       "        vertical-align: top;\n",
       "    }\n",
       "\n",
       "    .dataframe thead th {\n",
       "        text-align: right;\n",
       "    }\n",
       "</style>\n",
       "<table border=\"1\" class=\"dataframe\">\n",
       "  <thead>\n",
       "    <tr style=\"text-align: right;\">\n",
       "      <th></th>\n",
       "      <th>melon_chart</th>\n",
       "      <th>song</th>\n",
       "      <th>singer</th>\n",
       "      <th>tweet_date</th>\n",
       "      <th>tweet_time</th>\n",
       "      <th>user_name</th>\n",
       "      <th>content</th>\n",
       "      <th>link</th>\n",
       "      <th>retweets</th>\n",
       "      <th>favorites</th>\n",
       "      <th>sing</th>\n",
       "      <th>facorites</th>\n",
       "    </tr>\n",
       "  </thead>\n",
       "  <tbody>\n",
       "    <tr>\n",
       "      <th>0</th>\n",
       "      <td>1</td>\n",
       "      <td>Blueming</td>\n",
       "      <td>아이유</td>\n",
       "      <td>2019-11-19</td>\n",
       "      <td>23:56:23</td>\n",
       "      <td>tiramisu_1119</td>\n",
       "      <td>Blueming - 아이유 - 들어보세요. http://kko.to/dJ-GJ45j...</td>\n",
       "      <td>https://twitter.com/tiramisu_1119/status/11969...</td>\n",
       "      <td>0</td>\n",
       "      <td>NaN</td>\n",
       "      <td>NaN</td>\n",
       "      <td>0</td>\n",
       "    </tr>\n",
       "    <tr>\n",
       "      <th>1</th>\n",
       "      <td>1</td>\n",
       "      <td>Blueming</td>\n",
       "      <td>아이유</td>\n",
       "      <td>2019-11-19</td>\n",
       "      <td>23:55:29</td>\n",
       "      <td>_inthedesert516</td>\n",
       "      <td>Blueming - 아이유 - 들어보세요. http://kko.to/WzKvJ480...</td>\n",
       "      <td>https://twitter.com/_inthedesert516/status/119...</td>\n",
       "      <td>0</td>\n",
       "      <td>NaN</td>\n",
       "      <td>NaN</td>\n",
       "      <td>4</td>\n",
       "    </tr>\n",
       "    <tr>\n",
       "      <th>2</th>\n",
       "      <td>1</td>\n",
       "      <td>Blueming</td>\n",
       "      <td>아이유</td>\n",
       "      <td>2019-11-19</td>\n",
       "      <td>23:53:59</td>\n",
       "      <td>Dosiro</td>\n",
       "      <td>[MV] IU(아이유) _ Blueming(블루밍) https://youtu.be/...</td>\n",
       "      <td>https://twitter.com/Dosiro/status/119693971162...</td>\n",
       "      <td>0</td>\n",
       "      <td>NaN</td>\n",
       "      <td>NaN</td>\n",
       "      <td>0</td>\n",
       "    </tr>\n",
       "    <tr>\n",
       "      <th>3</th>\n",
       "      <td>1</td>\n",
       "      <td>Blueming</td>\n",
       "      <td>아이유</td>\n",
       "      <td>2019-11-19</td>\n",
       "      <td>23:48:14</td>\n",
       "      <td>dlwlrma0515</td>\n",
       "      <td>#아이유 #Blueming 뮤직비디오 인기 급상승 동영상 4위 https://you...</td>\n",
       "      <td>https://twitter.com/dlwlrma0515/status/1196938...</td>\n",
       "      <td>1</td>\n",
       "      <td>NaN</td>\n",
       "      <td>NaN</td>\n",
       "      <td>3</td>\n",
       "    </tr>\n",
       "    <tr>\n",
       "      <th>4</th>\n",
       "      <td>1</td>\n",
       "      <td>Blueming</td>\n",
       "      <td>아이유</td>\n",
       "      <td>2019-11-19</td>\n",
       "      <td>23:47:48</td>\n",
       "      <td>injeeel_</td>\n",
       "      <td>[MV] IU(아이유) _ Blueming(블루밍) https://youtu.be/...</td>\n",
       "      <td>https://twitter.com/injeeel_/status/1196938151...</td>\n",
       "      <td>0</td>\n",
       "      <td>NaN</td>\n",
       "      <td>NaN</td>\n",
       "      <td>1</td>\n",
       "    </tr>\n",
       "  </tbody>\n",
       "</table>\n",
       "</div>"
      ],
      "text/plain": [
       "   melon_chart      song singer  tweet_date tweet_time        user_name  \\\n",
       "0            1  Blueming    아이유  2019-11-19   23:56:23    tiramisu_1119   \n",
       "1            1  Blueming    아이유  2019-11-19   23:55:29  _inthedesert516   \n",
       "2            1  Blueming    아이유  2019-11-19   23:53:59           Dosiro   \n",
       "3            1  Blueming    아이유  2019-11-19   23:48:14      dlwlrma0515   \n",
       "4            1  Blueming    아이유  2019-11-19   23:47:48         injeeel_   \n",
       "\n",
       "                                             content  \\\n",
       "0  Blueming - 아이유 - 들어보세요. http://kko.to/dJ-GJ45j...   \n",
       "1  Blueming - 아이유 - 들어보세요. http://kko.to/WzKvJ480...   \n",
       "2  [MV] IU(아이유) _ Blueming(블루밍) https://youtu.be/...   \n",
       "3  #아이유 #Blueming 뮤직비디오 인기 급상승 동영상 4위 https://you...   \n",
       "4  [MV] IU(아이유) _ Blueming(블루밍) https://youtu.be/...   \n",
       "\n",
       "                                                link  retweets  favorites  \\\n",
       "0  https://twitter.com/tiramisu_1119/status/11969...         0        NaN   \n",
       "1  https://twitter.com/_inthedesert516/status/119...         0        NaN   \n",
       "2  https://twitter.com/Dosiro/status/119693971162...         0        NaN   \n",
       "3  https://twitter.com/dlwlrma0515/status/1196938...         1        NaN   \n",
       "4  https://twitter.com/injeeel_/status/1196938151...         0        NaN   \n",
       "\n",
       "   sing  facorites  \n",
       "0   NaN          0  \n",
       "1   NaN          4  \n",
       "2   NaN          0  \n",
       "3   NaN          3  \n",
       "4   NaN          1  "
      ]
     },
     "execution_count": 32,
     "metadata": {},
     "output_type": "execute_result"
    }
   ],
   "source": [
    "rm_id_dup.to_csv('./data/rm_id_dup_detail.csv', index = False)\n",
    "pd.read_csv('./data/rm_id_dup_detail.csv').head()"
   ]
  },
  {
   "cell_type": "markdown",
   "metadata": {},
   "source": [
    "위의 내용을 바탕으로 앞에서 한 데이터 분석을 한다  "
   ]
  },
  {
   "cell_type": "code",
   "execution_count": 33,
   "metadata": {},
   "outputs": [
    {
     "data": {
      "text/html": [
       "<div>\n",
       "<style scoped>\n",
       "    .dataframe tbody tr th:only-of-type {\n",
       "        vertical-align: middle;\n",
       "    }\n",
       "\n",
       "    .dataframe tbody tr th {\n",
       "        vertical-align: top;\n",
       "    }\n",
       "\n",
       "    .dataframe thead th {\n",
       "        text-align: right;\n",
       "    }\n",
       "</style>\n",
       "<table border=\"1\" class=\"dataframe\">\n",
       "  <thead>\n",
       "    <tr style=\"text-align: right;\">\n",
       "      <th></th>\n",
       "      <th>song</th>\n",
       "      <th>singer</th>\n",
       "      <th>1일</th>\n",
       "      <th>2일</th>\n",
       "      <th>3일</th>\n",
       "      <th>4일</th>\n",
       "      <th>5일</th>\n",
       "      <th>6일</th>\n",
       "      <th>7일</th>\n",
       "    </tr>\n",
       "  </thead>\n",
       "  <tbody>\n",
       "    <tr>\n",
       "      <th>0</th>\n",
       "      <td>Blueming</td>\n",
       "      <td>아이유</td>\n",
       "      <td>0</td>\n",
       "      <td>0</td>\n",
       "      <td>0</td>\n",
       "      <td>0</td>\n",
       "      <td>0</td>\n",
       "      <td>0</td>\n",
       "      <td>0</td>\n",
       "    </tr>\n",
       "    <tr>\n",
       "      <th>1</th>\n",
       "      <td>늦은 밤 너의 집 앞 골목길에서</td>\n",
       "      <td>노을</td>\n",
       "      <td>0</td>\n",
       "      <td>0</td>\n",
       "      <td>0</td>\n",
       "      <td>0</td>\n",
       "      <td>0</td>\n",
       "      <td>0</td>\n",
       "      <td>0</td>\n",
       "    </tr>\n",
       "    <tr>\n",
       "      <th>2</th>\n",
       "      <td>Love poem</td>\n",
       "      <td>아이유</td>\n",
       "      <td>0</td>\n",
       "      <td>0</td>\n",
       "      <td>0</td>\n",
       "      <td>0</td>\n",
       "      <td>0</td>\n",
       "      <td>0</td>\n",
       "      <td>0</td>\n",
       "    </tr>\n",
       "    <tr>\n",
       "      <th>3</th>\n",
       "      <td>이 번호로 전화해줘</td>\n",
       "      <td>바이브</td>\n",
       "      <td>0</td>\n",
       "      <td>0</td>\n",
       "      <td>0</td>\n",
       "      <td>0</td>\n",
       "      <td>0</td>\n",
       "      <td>0</td>\n",
       "      <td>0</td>\n",
       "    </tr>\n",
       "    <tr>\n",
       "      <th>4</th>\n",
       "      <td>시간의 바깥</td>\n",
       "      <td>아이유</td>\n",
       "      <td>0</td>\n",
       "      <td>0</td>\n",
       "      <td>0</td>\n",
       "      <td>0</td>\n",
       "      <td>0</td>\n",
       "      <td>0</td>\n",
       "      <td>0</td>\n",
       "    </tr>\n",
       "  </tbody>\n",
       "</table>\n",
       "</div>"
      ],
      "text/plain": [
       "                song singer  1일  2일  3일  4일  5일  6일  7일\n",
       "0           Blueming    아이유   0   0   0   0   0   0   0\n",
       "1  늦은 밤 너의 집 앞 골목길에서     노을   0   0   0   0   0   0   0\n",
       "2          Love poem    아이유   0   0   0   0   0   0   0\n",
       "3         이 번호로 전화해줘    바이브   0   0   0   0   0   0   0\n",
       "4             시간의 바깥    아이유   0   0   0   0   0   0   0"
      ]
     },
     "execution_count": 33,
     "metadata": {},
     "output_type": "execute_result"
    }
   ],
   "source": [
    "ANAL_PATH = './data/analysis_rm_id_dup.csv'\n",
    "DETAIL_PATH = './data/rm_id_dup_detail.csv'\n",
    "COMP_PATH = './data/rm_id_dup_compression.csv'\n",
    "\n",
    "analysis_csv_init()\n",
    "pd.read_csv(ANAL_PATH).head()"
   ]
  },
  {
   "cell_type": "markdown",
   "metadata": {},
   "source": [
    "앞에서 미리 정의해둔 함수들을 이용한다  "
   ]
  },
  {
   "cell_type": "code",
   "execution_count": 34,
   "metadata": {},
   "outputs": [
    {
     "data": {
      "text/html": [
       "<div>\n",
       "<style scoped>\n",
       "    .dataframe tbody tr th:only-of-type {\n",
       "        vertical-align: middle;\n",
       "    }\n",
       "\n",
       "    .dataframe tbody tr th {\n",
       "        vertical-align: top;\n",
       "    }\n",
       "\n",
       "    .dataframe thead th {\n",
       "        text-align: right;\n",
       "    }\n",
       "</style>\n",
       "<table border=\"1\" class=\"dataframe\">\n",
       "  <thead>\n",
       "    <tr style=\"text-align: right;\">\n",
       "      <th></th>\n",
       "      <th>song</th>\n",
       "      <th>singer</th>\n",
       "      <th>1일</th>\n",
       "      <th>2일</th>\n",
       "      <th>3일</th>\n",
       "      <th>4일</th>\n",
       "      <th>5일</th>\n",
       "      <th>6일</th>\n",
       "      <th>7일</th>\n",
       "    </tr>\n",
       "  </thead>\n",
       "  <tbody>\n",
       "    <tr>\n",
       "      <th>0</th>\n",
       "      <td>Blueming</td>\n",
       "      <td>아이유</td>\n",
       "      <td>522</td>\n",
       "      <td>3165</td>\n",
       "      <td>3217</td>\n",
       "      <td>3218</td>\n",
       "      <td>3220</td>\n",
       "      <td>3226</td>\n",
       "      <td>3226</td>\n",
       "    </tr>\n",
       "    <tr>\n",
       "      <th>1</th>\n",
       "      <td>늦은 밤 너의 집 앞 골목길에서</td>\n",
       "      <td>노을</td>\n",
       "      <td>20</td>\n",
       "      <td>30</td>\n",
       "      <td>38</td>\n",
       "      <td>42</td>\n",
       "      <td>45</td>\n",
       "      <td>52</td>\n",
       "      <td>64</td>\n",
       "    </tr>\n",
       "    <tr>\n",
       "      <th>2</th>\n",
       "      <td>Love poem</td>\n",
       "      <td>아이유</td>\n",
       "      <td>130</td>\n",
       "      <td>555</td>\n",
       "      <td>649</td>\n",
       "      <td>711</td>\n",
       "      <td>752</td>\n",
       "      <td>804</td>\n",
       "      <td>834</td>\n",
       "    </tr>\n",
       "    <tr>\n",
       "      <th>3</th>\n",
       "      <td>이 번호로 전화해줘</td>\n",
       "      <td>바이브</td>\n",
       "      <td>3</td>\n",
       "      <td>6</td>\n",
       "      <td>13</td>\n",
       "      <td>20</td>\n",
       "      <td>31</td>\n",
       "      <td>44</td>\n",
       "      <td>58</td>\n",
       "    </tr>\n",
       "    <tr>\n",
       "      <th>4</th>\n",
       "      <td>시간의 바깥</td>\n",
       "      <td>아이유</td>\n",
       "      <td>216</td>\n",
       "      <td>1791</td>\n",
       "      <td>1794</td>\n",
       "      <td>1799</td>\n",
       "      <td>1802</td>\n",
       "      <td>1807</td>\n",
       "      <td>1810</td>\n",
       "    </tr>\n",
       "  </tbody>\n",
       "</table>\n",
       "</div>"
      ],
      "text/plain": [
       "                song singer   1일    2일    3일    4일    5일    6일    7일\n",
       "0           Blueming    아이유  522  3165  3217  3218  3220  3226  3226\n",
       "1  늦은 밤 너의 집 앞 골목길에서     노을   20    30    38    42    45    52    64\n",
       "2          Love poem    아이유  130   555   649   711   752   804   834\n",
       "3         이 번호로 전화해줘    바이브    3     6    13    20    31    44    58\n",
       "4             시간의 바깥    아이유  216  1791  1794  1799  1802  1807  1810"
      ]
     },
     "execution_count": 34,
     "metadata": {},
     "output_type": "execute_result"
    }
   ],
   "source": [
    "analysis_to_csv(end_date)\n",
    "pd.read_csv(ANAL_PATH).head()"
   ]
  },
  {
   "cell_type": "code",
   "execution_count": 35,
   "metadata": {},
   "outputs": [
    {
     "name": "stdout",
     "output_type": "stream",
     "text": [
      "[2019-12-09 21:50:40,366 _base.py:2515 - _update_title_position()] update_title_pos\n",
      "[2019-12-09 21:50:40,414 _base.py:2515 - _update_title_position()] update_title_pos\n",
      "[2019-12-09 21:50:40,457 _base.py:2515 - _update_title_position()] update_title_pos\n",
      "[2019-12-09 21:50:40,494 _base.py:2515 - _update_title_position()] update_title_pos\n",
      "[2019-12-09 21:50:40,537 _base.py:2515 - _update_title_position()] update_title_pos\n",
      "[2019-12-09 21:50:40,577 _base.py:2515 - _update_title_position()] update_title_pos\n",
      "[2019-12-09 21:50:40,619 _base.py:2515 - _update_title_position()] update_title_pos\n",
      "[2019-12-09 21:50:40,689 _base.py:2515 - _update_title_position()] update_title_pos\n",
      "[2019-12-09 21:50:40,731 _base.py:2515 - _update_title_position()] update_title_pos\n",
      "[2019-12-09 21:50:40,772 _base.py:2515 - _update_title_position()] update_title_pos\n",
      "[2019-12-09 21:50:40,806 _base.py:2515 - _update_title_position()] update_title_pos\n",
      "[2019-12-09 21:50:40,847 _base.py:2515 - _update_title_position()] update_title_pos\n",
      "[2019-12-09 21:50:40,896 _base.py:2515 - _update_title_position()] update_title_pos\n",
      "[2019-12-09 21:50:40,946 _base.py:2515 - _update_title_position()] update_title_pos\n",
      "[2019-12-09 21:50:41,243 _base.py:2515 - _update_title_position()] update_title_pos\n",
      "[2019-12-09 21:50:41,271 _base.py:2515 - _update_title_position()] update_title_pos\n",
      "[2019-12-09 21:50:41,301 _base.py:2515 - _update_title_position()] update_title_pos\n",
      "[2019-12-09 21:50:41,528 _base.py:2515 - _update_title_position()] update_title_pos\n",
      "[2019-12-09 21:50:41,559 _base.py:2515 - _update_title_position()] update_title_pos\n",
      "[2019-12-09 21:50:41,595 _base.py:2515 - _update_title_position()] update_title_pos\n",
      "[2019-12-09 21:50:41,641 _base.py:2515 - _update_title_position()] update_title_pos\n",
      "[2019-12-09 21:50:41,811 _base.py:2515 - _update_title_position()] update_title_pos\n",
      "[2019-12-09 21:50:41,837 _base.py:2515 - _update_title_position()] update_title_pos\n",
      "[2019-12-09 21:50:41,865 _base.py:2515 - _update_title_position()] update_title_pos\n",
      "[2019-12-09 21:50:41,894 _base.py:2515 - _update_title_position()] update_title_pos\n",
      "[2019-12-09 21:50:41,938 _base.py:2515 - _update_title_position()] update_title_pos\n",
      "[2019-12-09 21:50:41,978 _base.py:2515 - _update_title_position()] update_title_pos\n",
      "[2019-12-09 21:50:42,015 _base.py:2515 - _update_title_position()] update_title_pos\n",
      "[2019-12-09 21:50:42,055 _base.py:2515 - _update_title_position()] update_title_pos\n",
      "[2019-12-09 21:50:42,113 _base.py:2515 - _update_title_position()] update_title_pos\n",
      "[2019-12-09 21:50:42,162 _base.py:2515 - _update_title_position()] update_title_pos\n",
      "[2019-12-09 21:50:42,204 _base.py:2515 - _update_title_position()] update_title_pos\n",
      "[2019-12-09 21:50:42,253 _base.py:2515 - _update_title_position()] update_title_pos\n",
      "[2019-12-09 21:50:42,290 _base.py:2515 - _update_title_position()] update_title_pos\n",
      "[2019-12-09 21:50:42,337 _base.py:2515 - _update_title_position()] update_title_pos\n"
     ]
    },
    {
     "data": {
      "image/png": "[encoded data removed]",
      "text/plain": [
       "<Figure size 1440x1296 with 7 Axes>"
      ]
     },
     "metadata": {
      "needs_background": "light"
     },
     "output_type": "display_data"
    }
   ],
   "source": [
    "corr_draw()"
   ]
  },
  {
   "cell_type": "markdown",
   "metadata": {},
   "source": [
    "### 게시물 내용 중복 필터링"
   ]
  },
  {
   "cell_type": "markdown",
   "metadata": {},
   "source": [
    "이제 광고성 글들을 덜어내기 위해 중복되는 게시물 내용을 없애고 상관관계를 분석한다"
   ]
  },
  {
   "cell_type": "code",
   "execution_count": 36,
   "metadata": {},
   "outputs": [
    {
     "data": {
      "text/plain": [
       "31472"
      ]
     },
     "execution_count": 36,
     "metadata": {},
     "output_type": "execute_result"
    }
   ],
   "source": [
    "detail = pd.read_csv('./data/demo_detail.csv')\n",
    "len(detail['content'])"
   ]
  },
  {
   "cell_type": "code",
   "execution_count": 37,
   "metadata": {},
   "outputs": [
    {
     "data": {
      "text/plain": [
       "23872"
      ]
     },
     "execution_count": 37,
     "metadata": {},
     "output_type": "execute_result"
    }
   ],
   "source": [
    "detail = detail.drop_duplicates('content', keep='first')\n",
    "len(detail['content'])"
   ]
  },
  {
   "cell_type": "markdown",
   "metadata": {},
   "source": [
    "전체 31472개의 게시물 중 게시물 내용이 중복되는 (content column) 것들을 제거했더니 23872개로 줄어든 것을 확인할 수 있다  \n",
    "그럼 앞에서 한 아이디 중복 제거와 같은 과정을 거쳐서 게시물 중복 제거를 한 뒤에 상관관계를 분석한다"
   ]
  },
  {
   "cell_type": "code",
   "execution_count": 38,
   "metadata": {},
   "outputs": [
    {
     "data": {
      "text/plain": [
       "0             Blueming\n",
       "1    늦은 밤 너의 집 앞 골목길에서\n",
       "2            Love poem\n",
       "3           이 번호로 전화해줘\n",
       "4               시간의 바깥\n",
       "Name: song, dtype: object"
      ]
     },
     "execution_count": 38,
     "metadata": {},
     "output_type": "execute_result"
    }
   ],
   "source": [
    "DETAIL_PATH = './data/demo_detail.csv'\n",
    "COMP_PATH = './data/demo_compression.csv'\n",
    "\n",
    "detail = pd.read_csv(DETAIL_PATH)\n",
    "song = pd.read_csv(COMP_PATH)['song']\n",
    "song.head()"
   ]
  },
  {
   "cell_type": "code",
   "execution_count": 39,
   "metadata": {},
   "outputs": [
    {
     "name": "stdout",
     "output_type": "stream",
     "text": [
      "테스트 - 중복 제거 전 :  7093\n"
     ]
    }
   ],
   "source": [
    "split_by_song = list()\n",
    "\n",
    "for i, song in enumerate(songs):\n",
    "    split_by_song.append(detail[detail['song'] == song])\n",
    "    \n",
    "print(\"테스트 - 중복 제거 전 : \", len(split_by_song[0]))"
   ]
  },
  {
   "cell_type": "code",
   "execution_count": 40,
   "metadata": {},
   "outputs": [
    {
     "name": "stdout",
     "output_type": "stream",
     "text": [
      "테스트 - 중복 제거 후 :  5994\n"
     ]
    }
   ],
   "source": [
    "counts = list()\n",
    "\n",
    "for index, df in enumerate(split_by_song):\n",
    "    split_by_song[index] = df.drop_duplicates('content', keep = 'first')\n",
    "    counts.append(len(split_by_song[index]))\n",
    "print(\"테스트 - 중복 제거 후 : \", len(split_by_song[0]))"
   ]
  },
  {
   "cell_type": "markdown",
   "metadata": {},
   "source": [
    "* 중복 제거 전"
   ]
  },
  {
   "cell_type": "code",
   "execution_count": 41,
   "metadata": {},
   "outputs": [
    {
     "data": {
      "text/html": [
       "<div>\n",
       "<style scoped>\n",
       "    .dataframe tbody tr th:only-of-type {\n",
       "        vertical-align: middle;\n",
       "    }\n",
       "\n",
       "    .dataframe tbody tr th {\n",
       "        vertical-align: top;\n",
       "    }\n",
       "\n",
       "    .dataframe thead th {\n",
       "        text-align: right;\n",
       "    }\n",
       "</style>\n",
       "<table border=\"1\" class=\"dataframe\">\n",
       "  <thead>\n",
       "    <tr style=\"text-align: right;\">\n",
       "      <th></th>\n",
       "      <th>melon_chart</th>\n",
       "      <th>song</th>\n",
       "      <th>singer</th>\n",
       "      <th>count</th>\n",
       "      <th>start_date</th>\n",
       "      <th>end_date</th>\n",
       "    </tr>\n",
       "  </thead>\n",
       "  <tbody>\n",
       "    <tr>\n",
       "      <th>0</th>\n",
       "      <td>1</td>\n",
       "      <td>Blueming</td>\n",
       "      <td>아이유</td>\n",
       "      <td>7093</td>\n",
       "      <td>2019-11-13 00:00:00</td>\n",
       "      <td>2019-11-20 00:00:00</td>\n",
       "    </tr>\n",
       "    <tr>\n",
       "      <th>1</th>\n",
       "      <td>2</td>\n",
       "      <td>늦은 밤 너의 집 앞 골목길에서</td>\n",
       "      <td>노을</td>\n",
       "      <td>71</td>\n",
       "      <td>2019-11-13 00:00:00</td>\n",
       "      <td>2019-11-20 00:00:00</td>\n",
       "    </tr>\n",
       "    <tr>\n",
       "      <th>2</th>\n",
       "      <td>3</td>\n",
       "      <td>Love poem</td>\n",
       "      <td>아이유</td>\n",
       "      <td>1864</td>\n",
       "      <td>2019-11-13 00:00:00</td>\n",
       "      <td>2019-11-20 00:00:00</td>\n",
       "    </tr>\n",
       "    <tr>\n",
       "      <th>3</th>\n",
       "      <td>4</td>\n",
       "      <td>이 번호로 전화해줘</td>\n",
       "      <td>바이브</td>\n",
       "      <td>69</td>\n",
       "      <td>2019-11-13 00:00:00</td>\n",
       "      <td>2019-11-20 00:00:00</td>\n",
       "    </tr>\n",
       "    <tr>\n",
       "      <th>4</th>\n",
       "      <td>5</td>\n",
       "      <td>시간의 바깥</td>\n",
       "      <td>아이유</td>\n",
       "      <td>2164</td>\n",
       "      <td>2019-11-13 00:00:00</td>\n",
       "      <td>2019-11-20 00:00:00</td>\n",
       "    </tr>\n",
       "  </tbody>\n",
       "</table>\n",
       "</div>"
      ],
      "text/plain": [
       "   melon_chart               song singer  count           start_date  \\\n",
       "0            1           Blueming    아이유   7093  2019-11-13 00:00:00   \n",
       "1            2  늦은 밤 너의 집 앞 골목길에서     노을     71  2019-11-13 00:00:00   \n",
       "2            3          Love poem    아이유   1864  2019-11-13 00:00:00   \n",
       "3            4         이 번호로 전화해줘    바이브     69  2019-11-13 00:00:00   \n",
       "4            5             시간의 바깥    아이유   2164  2019-11-13 00:00:00   \n",
       "\n",
       "              end_date  \n",
       "0  2019-11-20 00:00:00  \n",
       "1  2019-11-20 00:00:00  \n",
       "2  2019-11-20 00:00:00  \n",
       "3  2019-11-20 00:00:00  \n",
       "4  2019-11-20 00:00:00  "
      ]
     },
     "execution_count": 41,
     "metadata": {},
     "output_type": "execute_result"
    }
   ],
   "source": [
    "compression = pd.read_csv('./data/demo_compression.csv')\n",
    "compression.head()"
   ]
  },
  {
   "cell_type": "markdown",
   "metadata": {},
   "source": [
    "* 중복 제거 후"
   ]
  },
  {
   "cell_type": "code",
   "execution_count": 42,
   "metadata": {},
   "outputs": [
    {
     "data": {
      "text/html": [
       "<div>\n",
       "<style scoped>\n",
       "    .dataframe tbody tr th:only-of-type {\n",
       "        vertical-align: middle;\n",
       "    }\n",
       "\n",
       "    .dataframe tbody tr th {\n",
       "        vertical-align: top;\n",
       "    }\n",
       "\n",
       "    .dataframe thead th {\n",
       "        text-align: right;\n",
       "    }\n",
       "</style>\n",
       "<table border=\"1\" class=\"dataframe\">\n",
       "  <thead>\n",
       "    <tr style=\"text-align: right;\">\n",
       "      <th></th>\n",
       "      <th>melon_chart</th>\n",
       "      <th>song</th>\n",
       "      <th>singer</th>\n",
       "      <th>count</th>\n",
       "      <th>start_date</th>\n",
       "      <th>end_date</th>\n",
       "    </tr>\n",
       "  </thead>\n",
       "  <tbody>\n",
       "    <tr>\n",
       "      <th>0</th>\n",
       "      <td>1</td>\n",
       "      <td>Blueming</td>\n",
       "      <td>아이유</td>\n",
       "      <td>5994</td>\n",
       "      <td>2019-11-13 00:00:00</td>\n",
       "      <td>2019-11-20 00:00:00</td>\n",
       "    </tr>\n",
       "    <tr>\n",
       "      <th>1</th>\n",
       "      <td>2</td>\n",
       "      <td>늦은 밤 너의 집 앞 골목길에서</td>\n",
       "      <td>노을</td>\n",
       "      <td>67</td>\n",
       "      <td>2019-11-13 00:00:00</td>\n",
       "      <td>2019-11-20 00:00:00</td>\n",
       "    </tr>\n",
       "    <tr>\n",
       "      <th>2</th>\n",
       "      <td>3</td>\n",
       "      <td>Love poem</td>\n",
       "      <td>아이유</td>\n",
       "      <td>1806</td>\n",
       "      <td>2019-11-13 00:00:00</td>\n",
       "      <td>2019-11-20 00:00:00</td>\n",
       "    </tr>\n",
       "    <tr>\n",
       "      <th>3</th>\n",
       "      <td>4</td>\n",
       "      <td>이 번호로 전화해줘</td>\n",
       "      <td>바이브</td>\n",
       "      <td>66</td>\n",
       "      <td>2019-11-13 00:00:00</td>\n",
       "      <td>2019-11-20 00:00:00</td>\n",
       "    </tr>\n",
       "    <tr>\n",
       "      <th>4</th>\n",
       "      <td>5</td>\n",
       "      <td>시간의 바깥</td>\n",
       "      <td>아이유</td>\n",
       "      <td>1351</td>\n",
       "      <td>2019-11-13 00:00:00</td>\n",
       "      <td>2019-11-20 00:00:00</td>\n",
       "    </tr>\n",
       "  </tbody>\n",
       "</table>\n",
       "</div>"
      ],
      "text/plain": [
       "   melon_chart               song singer  count           start_date  \\\n",
       "0            1           Blueming    아이유   5994  2019-11-13 00:00:00   \n",
       "1            2  늦은 밤 너의 집 앞 골목길에서     노을     67  2019-11-13 00:00:00   \n",
       "2            3          Love poem    아이유   1806  2019-11-13 00:00:00   \n",
       "3            4         이 번호로 전화해줘    바이브     66  2019-11-13 00:00:00   \n",
       "4            5             시간의 바깥    아이유   1351  2019-11-13 00:00:00   \n",
       "\n",
       "              end_date  \n",
       "0  2019-11-20 00:00:00  \n",
       "1  2019-11-20 00:00:00  \n",
       "2  2019-11-20 00:00:00  \n",
       "3  2019-11-20 00:00:00  \n",
       "4  2019-11-20 00:00:00  "
      ]
     },
     "execution_count": 42,
     "metadata": {},
     "output_type": "execute_result"
    }
   ],
   "source": [
    "compression['count'] = counts\n",
    "compression.head()"
   ]
  },
  {
   "cell_type": "markdown",
   "metadata": {},
   "source": [
    "content의 중복 제거를 한 언급 횟수로 업데이트를 해서 새로운 csv 파일로 저장한다"
   ]
  },
  {
   "cell_type": "code",
   "execution_count": 43,
   "metadata": {},
   "outputs": [],
   "source": [
    "compression.to_csv('./data/rm_content_dup_compression.csv', index=False)"
   ]
  },
  {
   "cell_type": "code",
   "execution_count": 44,
   "metadata": {},
   "outputs": [],
   "source": [
    "rm_content_dup = split_by_song[0]\n",
    "for i in range(1,50):\n",
    "    rm_content_dup = pd.concat([rm_content_dup, split_by_song[i]], join = 'outer')"
   ]
  },
  {
   "cell_type": "code",
   "execution_count": 45,
   "metadata": {},
   "outputs": [
    {
     "data": {
      "text/html": [
       "<div>\n",
       "<style scoped>\n",
       "    .dataframe tbody tr th:only-of-type {\n",
       "        vertical-align: middle;\n",
       "    }\n",
       "\n",
       "    .dataframe tbody tr th {\n",
       "        vertical-align: top;\n",
       "    }\n",
       "\n",
       "    .dataframe thead th {\n",
       "        text-align: right;\n",
       "    }\n",
       "</style>\n",
       "<table border=\"1\" class=\"dataframe\">\n",
       "  <thead>\n",
       "    <tr style=\"text-align: right;\">\n",
       "      <th></th>\n",
       "      <th>melon_chart</th>\n",
       "      <th>song</th>\n",
       "      <th>singer</th>\n",
       "      <th>tweet_date</th>\n",
       "      <th>tweet_time</th>\n",
       "      <th>user_name</th>\n",
       "      <th>content</th>\n",
       "      <th>link</th>\n",
       "      <th>retweets</th>\n",
       "      <th>favorites</th>\n",
       "      <th>sing</th>\n",
       "      <th>facorites</th>\n",
       "    </tr>\n",
       "  </thead>\n",
       "  <tbody>\n",
       "    <tr>\n",
       "      <th>0</th>\n",
       "      <td>1</td>\n",
       "      <td>Blueming</td>\n",
       "      <td>아이유</td>\n",
       "      <td>2019-11-19</td>\n",
       "      <td>23:56:23</td>\n",
       "      <td>tiramisu_1119</td>\n",
       "      <td>Blueming - 아이유 - 들어보세요. http://kko.to/dJ-GJ45j...</td>\n",
       "      <td>https://twitter.com/tiramisu_1119/status/11969...</td>\n",
       "      <td>0</td>\n",
       "      <td>NaN</td>\n",
       "      <td>NaN</td>\n",
       "      <td>0</td>\n",
       "    </tr>\n",
       "    <tr>\n",
       "      <th>1</th>\n",
       "      <td>1</td>\n",
       "      <td>Blueming</td>\n",
       "      <td>아이유</td>\n",
       "      <td>2019-11-19</td>\n",
       "      <td>23:55:29</td>\n",
       "      <td>_inthedesert516</td>\n",
       "      <td>Blueming - 아이유 - 들어보세요. http://kko.to/WzKvJ480...</td>\n",
       "      <td>https://twitter.com/_inthedesert516/status/119...</td>\n",
       "      <td>0</td>\n",
       "      <td>NaN</td>\n",
       "      <td>NaN</td>\n",
       "      <td>4</td>\n",
       "    </tr>\n",
       "    <tr>\n",
       "      <th>2</th>\n",
       "      <td>1</td>\n",
       "      <td>Blueming</td>\n",
       "      <td>아이유</td>\n",
       "      <td>2019-11-19</td>\n",
       "      <td>23:53:59</td>\n",
       "      <td>Dosiro</td>\n",
       "      <td>[MV] IU(아이유) _ Blueming(블루밍) https://youtu.be/...</td>\n",
       "      <td>https://twitter.com/Dosiro/status/119693971162...</td>\n",
       "      <td>0</td>\n",
       "      <td>NaN</td>\n",
       "      <td>NaN</td>\n",
       "      <td>0</td>\n",
       "    </tr>\n",
       "    <tr>\n",
       "      <th>3</th>\n",
       "      <td>1</td>\n",
       "      <td>Blueming</td>\n",
       "      <td>아이유</td>\n",
       "      <td>2019-11-19</td>\n",
       "      <td>23:48:14</td>\n",
       "      <td>dlwlrma0515</td>\n",
       "      <td>#아이유 #Blueming 뮤직비디오 인기 급상승 동영상 4위 https://you...</td>\n",
       "      <td>https://twitter.com/dlwlrma0515/status/1196938...</td>\n",
       "      <td>1</td>\n",
       "      <td>NaN</td>\n",
       "      <td>NaN</td>\n",
       "      <td>3</td>\n",
       "    </tr>\n",
       "    <tr>\n",
       "      <th>4</th>\n",
       "      <td>1</td>\n",
       "      <td>Blueming</td>\n",
       "      <td>아이유</td>\n",
       "      <td>2019-11-19</td>\n",
       "      <td>23:47:48</td>\n",
       "      <td>injeeel_</td>\n",
       "      <td>[MV] IU(아이유) _ Blueming(블루밍) https://youtu.be/...</td>\n",
       "      <td>https://twitter.com/injeeel_/status/1196938151...</td>\n",
       "      <td>0</td>\n",
       "      <td>NaN</td>\n",
       "      <td>NaN</td>\n",
       "      <td>1</td>\n",
       "    </tr>\n",
       "  </tbody>\n",
       "</table>\n",
       "</div>"
      ],
      "text/plain": [
       "   melon_chart      song singer  tweet_date tweet_time        user_name  \\\n",
       "0            1  Blueming    아이유  2019-11-19   23:56:23    tiramisu_1119   \n",
       "1            1  Blueming    아이유  2019-11-19   23:55:29  _inthedesert516   \n",
       "2            1  Blueming    아이유  2019-11-19   23:53:59           Dosiro   \n",
       "3            1  Blueming    아이유  2019-11-19   23:48:14      dlwlrma0515   \n",
       "4            1  Blueming    아이유  2019-11-19   23:47:48         injeeel_   \n",
       "\n",
       "                                             content  \\\n",
       "0  Blueming - 아이유 - 들어보세요. http://kko.to/dJ-GJ45j...   \n",
       "1  Blueming - 아이유 - 들어보세요. http://kko.to/WzKvJ480...   \n",
       "2  [MV] IU(아이유) _ Blueming(블루밍) https://youtu.be/...   \n",
       "3  #아이유 #Blueming 뮤직비디오 인기 급상승 동영상 4위 https://you...   \n",
       "4  [MV] IU(아이유) _ Blueming(블루밍) https://youtu.be/...   \n",
       "\n",
       "                                                link  retweets  favorites  \\\n",
       "0  https://twitter.com/tiramisu_1119/status/11969...         0        NaN   \n",
       "1  https://twitter.com/_inthedesert516/status/119...         0        NaN   \n",
       "2  https://twitter.com/Dosiro/status/119693971162...         0        NaN   \n",
       "3  https://twitter.com/dlwlrma0515/status/1196938...         1        NaN   \n",
       "4  https://twitter.com/injeeel_/status/1196938151...         0        NaN   \n",
       "\n",
       "   sing  facorites  \n",
       "0   NaN          0  \n",
       "1   NaN          4  \n",
       "2   NaN          0  \n",
       "3   NaN          3  \n",
       "4   NaN          1  "
      ]
     },
     "execution_count": 45,
     "metadata": {},
     "output_type": "execute_result"
    }
   ],
   "source": [
    "rm_content_dup.to_csv('./data/rm_content_dup_detail.csv', index = False)\n",
    "pd.read_csv('./data/rm_content_dup_detail.csv').head()"
   ]
  },
  {
   "cell_type": "code",
   "execution_count": 46,
   "metadata": {},
   "outputs": [
    {
     "data": {
      "text/html": [
       "<div>\n",
       "<style scoped>\n",
       "    .dataframe tbody tr th:only-of-type {\n",
       "        vertical-align: middle;\n",
       "    }\n",
       "\n",
       "    .dataframe tbody tr th {\n",
       "        vertical-align: top;\n",
       "    }\n",
       "\n",
       "    .dataframe thead th {\n",
       "        text-align: right;\n",
       "    }\n",
       "</style>\n",
       "<table border=\"1\" class=\"dataframe\">\n",
       "  <thead>\n",
       "    <tr style=\"text-align: right;\">\n",
       "      <th></th>\n",
       "      <th>song</th>\n",
       "      <th>singer</th>\n",
       "      <th>1일</th>\n",
       "      <th>2일</th>\n",
       "      <th>3일</th>\n",
       "      <th>4일</th>\n",
       "      <th>5일</th>\n",
       "      <th>6일</th>\n",
       "      <th>7일</th>\n",
       "    </tr>\n",
       "  </thead>\n",
       "  <tbody>\n",
       "    <tr>\n",
       "      <th>0</th>\n",
       "      <td>Blueming</td>\n",
       "      <td>아이유</td>\n",
       "      <td>0</td>\n",
       "      <td>0</td>\n",
       "      <td>0</td>\n",
       "      <td>0</td>\n",
       "      <td>0</td>\n",
       "      <td>0</td>\n",
       "      <td>0</td>\n",
       "    </tr>\n",
       "    <tr>\n",
       "      <th>1</th>\n",
       "      <td>늦은 밤 너의 집 앞 골목길에서</td>\n",
       "      <td>노을</td>\n",
       "      <td>0</td>\n",
       "      <td>0</td>\n",
       "      <td>0</td>\n",
       "      <td>0</td>\n",
       "      <td>0</td>\n",
       "      <td>0</td>\n",
       "      <td>0</td>\n",
       "    </tr>\n",
       "    <tr>\n",
       "      <th>2</th>\n",
       "      <td>Love poem</td>\n",
       "      <td>아이유</td>\n",
       "      <td>0</td>\n",
       "      <td>0</td>\n",
       "      <td>0</td>\n",
       "      <td>0</td>\n",
       "      <td>0</td>\n",
       "      <td>0</td>\n",
       "      <td>0</td>\n",
       "    </tr>\n",
       "    <tr>\n",
       "      <th>3</th>\n",
       "      <td>이 번호로 전화해줘</td>\n",
       "      <td>바이브</td>\n",
       "      <td>0</td>\n",
       "      <td>0</td>\n",
       "      <td>0</td>\n",
       "      <td>0</td>\n",
       "      <td>0</td>\n",
       "      <td>0</td>\n",
       "      <td>0</td>\n",
       "    </tr>\n",
       "    <tr>\n",
       "      <th>4</th>\n",
       "      <td>시간의 바깥</td>\n",
       "      <td>아이유</td>\n",
       "      <td>0</td>\n",
       "      <td>0</td>\n",
       "      <td>0</td>\n",
       "      <td>0</td>\n",
       "      <td>0</td>\n",
       "      <td>0</td>\n",
       "      <td>0</td>\n",
       "    </tr>\n",
       "  </tbody>\n",
       "</table>\n",
       "</div>"
      ],
      "text/plain": [
       "                song singer  1일  2일  3일  4일  5일  6일  7일\n",
       "0           Blueming    아이유   0   0   0   0   0   0   0\n",
       "1  늦은 밤 너의 집 앞 골목길에서     노을   0   0   0   0   0   0   0\n",
       "2          Love poem    아이유   0   0   0   0   0   0   0\n",
       "3         이 번호로 전화해줘    바이브   0   0   0   0   0   0   0\n",
       "4             시간의 바깥    아이유   0   0   0   0   0   0   0"
      ]
     },
     "execution_count": 46,
     "metadata": {},
     "output_type": "execute_result"
    }
   ],
   "source": [
    "ANAL_PATH = './data/analysis_rm_content_dup.csv'\n",
    "DETAIL_PATH = './data/rm_content_dup_detail.csv'\n",
    "COMP_PATH = './data/rm_content_dup_compression.csv'\n",
    "\n",
    "analysis_csv_init()\n",
    "pd.read_csv(ANAL_PATH).head()"
   ]
  },
  {
   "cell_type": "code",
   "execution_count": 47,
   "metadata": {},
   "outputs": [
    {
     "data": {
      "text/html": [
       "<div>\n",
       "<style scoped>\n",
       "    .dataframe tbody tr th:only-of-type {\n",
       "        vertical-align: middle;\n",
       "    }\n",
       "\n",
       "    .dataframe tbody tr th {\n",
       "        vertical-align: top;\n",
       "    }\n",
       "\n",
       "    .dataframe thead th {\n",
       "        text-align: right;\n",
       "    }\n",
       "</style>\n",
       "<table border=\"1\" class=\"dataframe\">\n",
       "  <thead>\n",
       "    <tr style=\"text-align: right;\">\n",
       "      <th></th>\n",
       "      <th>song</th>\n",
       "      <th>singer</th>\n",
       "      <th>1일</th>\n",
       "      <th>2일</th>\n",
       "      <th>3일</th>\n",
       "      <th>4일</th>\n",
       "      <th>5일</th>\n",
       "      <th>6일</th>\n",
       "      <th>7일</th>\n",
       "    </tr>\n",
       "  </thead>\n",
       "  <tbody>\n",
       "    <tr>\n",
       "      <th>0</th>\n",
       "      <td>Blueming</td>\n",
       "      <td>아이유</td>\n",
       "      <td>545</td>\n",
       "      <td>5786</td>\n",
       "      <td>5965</td>\n",
       "      <td>5966</td>\n",
       "      <td>5971</td>\n",
       "      <td>5994</td>\n",
       "      <td>5994</td>\n",
       "    </tr>\n",
       "    <tr>\n",
       "      <th>1</th>\n",
       "      <td>늦은 밤 너의 집 앞 골목길에서</td>\n",
       "      <td>노을</td>\n",
       "      <td>18</td>\n",
       "      <td>29</td>\n",
       "      <td>37</td>\n",
       "      <td>42</td>\n",
       "      <td>46</td>\n",
       "      <td>52</td>\n",
       "      <td>67</td>\n",
       "    </tr>\n",
       "    <tr>\n",
       "      <th>2</th>\n",
       "      <td>Love poem</td>\n",
       "      <td>아이유</td>\n",
       "      <td>192</td>\n",
       "      <td>818</td>\n",
       "      <td>1140</td>\n",
       "      <td>1391</td>\n",
       "      <td>1499</td>\n",
       "      <td>1720</td>\n",
       "      <td>1806</td>\n",
       "    </tr>\n",
       "    <tr>\n",
       "      <th>3</th>\n",
       "      <td>이 번호로 전화해줘</td>\n",
       "      <td>바이브</td>\n",
       "      <td>3</td>\n",
       "      <td>6</td>\n",
       "      <td>13</td>\n",
       "      <td>22</td>\n",
       "      <td>33</td>\n",
       "      <td>49</td>\n",
       "      <td>66</td>\n",
       "    </tr>\n",
       "    <tr>\n",
       "      <th>4</th>\n",
       "      <td>시간의 바깥</td>\n",
       "      <td>아이유</td>\n",
       "      <td>224</td>\n",
       "      <td>1318</td>\n",
       "      <td>1329</td>\n",
       "      <td>1336</td>\n",
       "      <td>1341</td>\n",
       "      <td>1348</td>\n",
       "      <td>1351</td>\n",
       "    </tr>\n",
       "  </tbody>\n",
       "</table>\n",
       "</div>"
      ],
      "text/plain": [
       "                song singer   1일    2일    3일    4일    5일    6일    7일\n",
       "0           Blueming    아이유  545  5786  5965  5966  5971  5994  5994\n",
       "1  늦은 밤 너의 집 앞 골목길에서     노을   18    29    37    42    46    52    67\n",
       "2          Love poem    아이유  192   818  1140  1391  1499  1720  1806\n",
       "3         이 번호로 전화해줘    바이브    3     6    13    22    33    49    66\n",
       "4             시간의 바깥    아이유  224  1318  1329  1336  1341  1348  1351"
      ]
     },
     "execution_count": 47,
     "metadata": {},
     "output_type": "execute_result"
    }
   ],
   "source": [
    "analysis_to_csv(end_date)\n",
    "pd.read_csv(ANAL_PATH).head()"
   ]
  },
  {
   "cell_type": "code",
   "execution_count": 48,
   "metadata": {},
   "outputs": [
    {
     "name": "stdout",
     "output_type": "stream",
     "text": [
      "[2019-12-09 21:50:55,254 _base.py:2515 - _update_title_position()] update_title_pos\n",
      "[2019-12-09 21:50:55,317 _base.py:2515 - _update_title_position()] update_title_pos\n",
      "[2019-12-09 21:50:55,370 _base.py:2515 - _update_title_position()] update_title_pos\n",
      "[2019-12-09 21:50:55,416 _base.py:2515 - _update_title_position()] update_title_pos\n",
      "[2019-12-09 21:50:55,457 _base.py:2515 - _update_title_position()] update_title_pos\n",
      "[2019-12-09 21:50:55,511 _base.py:2515 - _update_title_position()] update_title_pos\n",
      "[2019-12-09 21:50:55,569 _base.py:2515 - _update_title_position()] update_title_pos\n",
      "[2019-12-09 21:50:55,655 _base.py:2515 - _update_title_position()] update_title_pos\n",
      "[2019-12-09 21:50:55,699 _base.py:2515 - _update_title_position()] update_title_pos\n",
      "[2019-12-09 21:50:55,741 _base.py:2515 - _update_title_position()] update_title_pos\n",
      "[2019-12-09 21:50:55,796 _base.py:2515 - _update_title_position()] update_title_pos\n",
      "[2019-12-09 21:50:55,844 _base.py:2515 - _update_title_position()] update_title_pos\n",
      "[2019-12-09 21:50:55,893 _base.py:2515 - _update_title_position()] update_title_pos\n",
      "[2019-12-09 21:50:55,937 _base.py:2515 - _update_title_position()] update_title_pos\n",
      "[2019-12-09 21:50:56,177 _base.py:2515 - _update_title_position()] update_title_pos\n",
      "[2019-12-09 21:50:56,210 _base.py:2515 - _update_title_position()] update_title_pos\n",
      "[2019-12-09 21:50:56,242 _base.py:2515 - _update_title_position()] update_title_pos\n",
      "[2019-12-09 21:50:56,273 _base.py:2515 - _update_title_position()] update_title_pos\n",
      "[2019-12-09 21:50:56,302 _base.py:2515 - _update_title_position()] update_title_pos\n",
      "[2019-12-09 21:50:56,338 _base.py:2515 - _update_title_position()] update_title_pos\n",
      "[2019-12-09 21:50:56,377 _base.py:2515 - _update_title_position()] update_title_pos\n",
      "[2019-12-09 21:50:56,529 _base.py:2515 - _update_title_position()] update_title_pos\n",
      "[2019-12-09 21:50:56,567 _base.py:2515 - _update_title_position()] update_title_pos\n",
      "[2019-12-09 21:50:56,604 _base.py:2515 - _update_title_position()] update_title_pos\n",
      "[2019-12-09 21:50:56,649 _base.py:2515 - _update_title_position()] update_title_pos\n",
      "[2019-12-09 21:50:56,688 _base.py:2515 - _update_title_position()] update_title_pos\n",
      "[2019-12-09 21:50:56,727 _base.py:2515 - _update_title_position()] update_title_pos\n",
      "[2019-12-09 21:50:56,762 _base.py:2515 - _update_title_position()] update_title_pos\n",
      "[2019-12-09 21:50:56,803 _base.py:2515 - _update_title_position()] update_title_pos\n",
      "[2019-12-09 21:50:56,855 _base.py:2515 - _update_title_position()] update_title_pos\n",
      "[2019-12-09 21:50:56,896 _base.py:2515 - _update_title_position()] update_title_pos\n",
      "[2019-12-09 21:50:56,943 _base.py:2515 - _update_title_position()] update_title_pos\n",
      "[2019-12-09 21:50:56,991 _base.py:2515 - _update_title_position()] update_title_pos\n",
      "[2019-12-09 21:50:57,040 _base.py:2515 - _update_title_position()] update_title_pos\n",
      "[2019-12-09 21:50:57,086 _base.py:2515 - _update_title_position()] update_title_pos\n"
     ]
    },
    {
     "data": {
      "image/png": "[encoded data removed]",
      "text/plain": [
       "<Figure size 1440x1296 with 7 Axes>"
      ]
     },
     "metadata": {
      "needs_background": "light"
     },
     "output_type": "display_data"
    }
   ],
   "source": [
    "corr_draw()"
   ]
  },
  {
   "cell_type": "markdown",
   "metadata": {},
   "source": [
    "## 5. 중복 데이터 분석"
   ]
  },
  {
   "cell_type": "markdown",
   "metadata": {},
   "source": [
    "ID 중복을 제거한 경우는 31472 -> 14146 으로,  \n",
    "게시물 내용 중복을 제거한 경우는 31472 -> 23872로  \n",
    "상당수의 중복된 ID or 게시물 내용이 검출되었다   \n",
    "  \n",
    "이에 대해 어떤 곡이, 어떤 가수가 중복되는 ID or 게시물 내용이 검출되었는지에 대해 분석한다"
   ]
  },
  {
   "cell_type": "code",
   "execution_count": 49,
   "metadata": {},
   "outputs": [],
   "source": [
    "before_rm = pd.read_csv('./data/demo_compression.csv')  # 중복 제거 전\n",
    "after_rm_id = pd.read_csv('./data/rm_id_dup_compression.csv')  # id 중복 제거 전\n",
    "after_rm_cont = pd.read_csv('./data/rm_content_dup_compression.csv')  # content 중복 제거 전"
   ]
  },
  {
   "cell_type": "markdown",
   "metadata": {},
   "source": [
    "중복 제거 전, 중복 제거 후의 데이터들을 DataFrame 타입으로 저장한다"
   ]
  },
  {
   "cell_type": "code",
   "execution_count": 50,
   "metadata": {},
   "outputs": [],
   "source": [
    "songs = before_rm['song']\n",
    "singers = before_rm['singer']\n",
    "before_rm_count = before_rm['count']\n",
    "before_rm_id_count = after_rm_id['count']\n",
    "before_rm_cont_count = after_rm_cont['count']\n",
    "\n",
    "id_dup_count = before_rm_count  - before_rm_id_count\n",
    "cont_dup_count = before_rm_count - before_rm_cont_count"
   ]
  },
  {
   "cell_type": "markdown",
   "metadata": {},
   "source": [
    "각 DataFrame에서 'count' 컬럼만을 뽑아서 id, content의 중복되는 개수를 Element-wise 연산을 한다"
   ]
  },
  {
   "cell_type": "code",
   "execution_count": 51,
   "metadata": {},
   "outputs": [],
   "source": [
    "id_dup_ratio = id_dup_count / before_rm_count\n",
    "cont_dup_ratio = cont_dup_count / before_rm_count"
   ]
  },
  {
   "cell_type": "markdown",
   "metadata": {},
   "source": [
    "그냥 개수로만 판단한다면 아무래도 언급횟수가 많은 가수들이 중복되는 게시물도 많을 것이기 때문에  \n",
    "이를 고려해서 전체 언급횟수로 나눠줘서 비율로 판단한다"
   ]
  },
  {
   "cell_type": "code",
   "execution_count": 52,
   "metadata": {},
   "outputs": [],
   "source": [
    "id_dup_ratio, id_dup_rank_song, id_dup_rank_singer = zip(*sorted(zip(id_dup_ratio, songs, singers), reverse = True))"
   ]
  },
  {
   "cell_type": "code",
   "execution_count": 53,
   "metadata": {},
   "outputs": [
    {
     "name": "stdout",
     "output_type": "stream",
     "text": [
      "# ID 중복 Top 3\n",
      "\n",
      "Rank1  :  있어줘요 - 장덕철\n",
      "Rank2  :  샤넬  - MC몽\n",
      "Rank3  :  LION - nan\n"
     ]
    }
   ],
   "source": [
    "print(\"# ID 중복 Top 3\\n\")\n",
    "for i in range(3):\n",
    "    print(\"Rank\"+str(i+1) + \"  :  \" + str(id_dup_rank_song[i]) + \" - \" + str(id_dup_rank_singer[i]))"
   ]
  },
  {
   "cell_type": "code",
   "execution_count": 54,
   "metadata": {},
   "outputs": [],
   "source": [
    "cont_dup_ratio, cont_dup_rank_song, cont_dup_rank_singer = zip(*sorted(zip(cont_dup_ratio, songs, singers), reverse = True))"
   ]
  },
  {
   "cell_type": "code",
   "execution_count": 55,
   "metadata": {},
   "outputs": [
    {
     "name": "stdout",
     "output_type": "stream",
     "text": [
      "# 게시물 중복 Top 3\n",
      "\n",
      "Rank1  :  다시 만날까 봐 - V.O.S\n",
      "Rank2  :  우리 어떻게 할까요 - 첸 \n",
      "Rank3  :  시간의 바깥 - 아이유\n"
     ]
    }
   ],
   "source": [
    "print(\"# 게시물 중복 Top 3\\n\")\n",
    "for i in range(3):\n",
    "    print(\"Rank\"+str(i+1) + \"  :  \" + str(cont_dup_rank_song[i]) + \" - \" + str(cont_dup_rank_singer[i]))"
   ]
  },
  {
   "cell_type": "markdown",
   "metadata": {},
   "source": [
    "## 6. 중복 데이터 순위 - 멜론 차트 순위 상관관계 분석"
   ]
  },
  {
   "cell_type": "markdown",
   "metadata": {},
   "source": [
    "중복 ID & 게시물 갯수와 멜론 차트순위의 상관관계를 분석한다  \n",
    "중복 ID 혹은 게시물 비율이 높다는 것은 광고성 게시물이 많다는 것으로 가정한다면,  \n",
    "SNS 상에서의 광고가 실제 멜론 차트와 어떤 상관관계가 있는지에 대해서 알아볼 수 있다"
   ]
  },
  {
   "cell_type": "code",
   "execution_count": 56,
   "metadata": {},
   "outputs": [],
   "source": [
    "def corr_draw2(title, duplicated):\n",
    "    melon_chart = np.array(pd.read_csv('./data/demo_compression.csv')['song'])\n",
    "    melon_score = list()\n",
    "    dup_score = list()\n",
    "    yticks = [50, 44, 38, 32, 26 , 20, 14, 8, 1]\n",
    "    xticks = [0,50, 40, 30, 20 , 10, 1]\n",
    "    fig = plt.figure(figsize=(8,6))\n",
    "\n",
    "    for i, song in enumerate(melon_chart):\n",
    "        # 중복 갯수로 정렬한 점수\n",
    "        dup_score.append(50 - duplicated.index(song))   \n",
    "        # 멜론 차트 랭킹 점수\n",
    "        melon_score.append(51 - i)\n",
    "\n",
    "    ax = fig.add_subplot(111)\n",
    "    ax.set_title(title)\n",
    "    ax.scatter(melon_score, dup_score, label='corr ' + str(round(np.corrcoef(melon_score, dup_score)[0][1], 2)))\n",
    "    ax.legend(fontsize='medium', loc='upper left')\n",
    "    ax.set_xlabel('Melon Chart Ranking')\n",
    "    ax.set_ylabel('Duplicated Ratio Ranking')\n",
    "    ax.set_ylim([min(dup_score)-1, max(dup_score)+1])\n",
    "    ax.set_xticklabels(xticks)\n",
    "    ax.set_yticklabels(yticks)\n",
    "    ax.grid(linewidth=0.2)"
   ]
  },
  {
   "cell_type": "markdown",
   "metadata": {},
   "source": [
    "중복 ID와 멜론 차트간의 상관관계를 시각화한다"
   ]
  },
  {
   "cell_type": "code",
   "execution_count": 59,
   "metadata": {},
   "outputs": [
    {
     "name": "stdout",
     "output_type": "stream",
     "text": [
      "[2019-12-09 21:51:15,222 _base.py:2515 - _update_title_position()] update_title_pos\n",
      "[2019-12-09 21:51:15,272 _base.py:2515 - _update_title_position()] update_title_pos\n",
      "[2019-12-09 21:51:15,342 _base.py:2515 - _update_title_position()] update_title_pos\n",
      "[2019-12-09 21:51:15,381 _base.py:2515 - _update_title_position()] update_title_pos\n",
      "[2019-12-09 21:51:15,404 _base.py:2515 - _update_title_position()] update_title_pos\n"
     ]
    },
    {
     "data": {
      "image/png": "[encoded data removed]",
      "text/plain": [
       "<Figure size 576x432 with 1 Axes>"
      ]
     },
     "metadata": {
      "needs_background": "light"
     },
     "output_type": "display_data"
    }
   ],
   "source": [
    "corr_draw2(title = \"중복 ID - 멜론 차트 상관관계\", duplicated = id_dup_rank_song)"
   ]
  },
  {
   "cell_type": "code",
   "execution_count": 60,
   "metadata": {},
   "outputs": [
    {
     "name": "stdout",
     "output_type": "stream",
     "text": [
      "[2019-12-09 21:51:19,798 _base.py:2515 - _update_title_position()] update_title_pos\n",
      "[2019-12-09 21:51:19,846 _base.py:2515 - _update_title_position()] update_title_pos\n",
      "[2019-12-09 21:51:19,915 _base.py:2515 - _update_title_position()] update_title_pos\n",
      "[2019-12-09 21:51:19,956 _base.py:2515 - _update_title_position()] update_title_pos\n",
      "[2019-12-09 21:51:19,982 _base.py:2515 - _update_title_position()] update_title_pos\n"
     ]
    },
    {
     "data": {
      "image/png": "[encoded data removed]",
      "text/plain": [
       "<Figure size 576x432 with 1 Axes>"
      ]
     },
     "metadata": {
      "needs_background": "light"
     },
     "output_type": "display_data"
    }
   ],
   "source": [
    "corr_draw2(title = \"중복 게시물 - 멜론 차트 상관관계\", duplicated = cont_dup_rank_song)"
   ]
  },
  {
   "cell_type": "markdown",
   "metadata": {},
   "source": [
    "이렇게 중복 ID, 게시물 비율이 높은 곡들도 멜론 차트와 강한 상관관계가 있음을 확인할 수 있다  \n",
    "중복된 ID와 게시물들을 광고성이라고 가정하면, 광고성이 있는 게시물들의 비율과 멜론차트는 상관관계가 있다고 볼 수 있다"
   ]
  }
 ],
 "metadata": {
  "kernelspec": {
   "display_name": "Python 3",
   "language": "python",
   "name": "python3"
  },
  "language_info": {
   "codemirror_mode": {
    "name": "ipython",
    "version": 3
   },
   "file_extension": ".py",
   "mimetype": "text/x-python",
   "name": "python",
   "nbconvert_exporter": "python",
   "pygments_lexer": "ipython3",
   "version": "3.7.1"
  }
 },
 "nbformat": 4,
 "nbformat_minor": 2
}

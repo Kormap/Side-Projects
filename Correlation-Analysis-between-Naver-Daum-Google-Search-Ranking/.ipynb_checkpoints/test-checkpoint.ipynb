{
 "cells": [
  {
   "cell_type": "code",
   "execution_count": 1,
   "metadata": {},
   "outputs": [
    {
     "data": {
      "text/html": [
       "<div>\n",
       "<style scoped>\n",
       "    .dataframe tbody tr th:only-of-type {\n",
       "        vertical-align: middle;\n",
       "    }\n",
       "\n",
       "    .dataframe tbody tr th {\n",
       "        vertical-align: top;\n",
       "    }\n",
       "\n",
       "    .dataframe thead th {\n",
       "        text-align: right;\n",
       "    }\n",
       "</style>\n",
       "<table border=\"1\" class=\"dataframe\">\n",
       "  <thead>\n",
       "    <tr style=\"text-align: right;\">\n",
       "      <th></th>\n",
       "      <th>Time</th>\n",
       "      <th>Search Engine</th>\n",
       "      <th>Rank1</th>\n",
       "      <th>Rank2</th>\n",
       "      <th>Rank3</th>\n",
       "      <th>Rank4</th>\n",
       "      <th>Rank5</th>\n",
       "      <th>Rank6</th>\n",
       "      <th>Rank7</th>\n",
       "      <th>Rank8</th>\n",
       "      <th>Rank9</th>\n",
       "      <th>Rank10</th>\n",
       "    </tr>\n",
       "  </thead>\n",
       "  <tbody>\n",
       "    <tr>\n",
       "      <th>0</th>\n",
       "      <td>2019-11-13 18:25</td>\n",
       "      <td>Naver</td>\n",
       "      <td>1위</td>\n",
       "      <td>2위</td>\n",
       "      <td>3위</td>\n",
       "      <td>4위</td>\n",
       "      <td>5위</td>\n",
       "      <td>6위</td>\n",
       "      <td>7위</td>\n",
       "      <td>8위</td>\n",
       "      <td>9위</td>\n",
       "      <td>10위</td>\n",
       "    </tr>\n",
       "  </tbody>\n",
       "</table>\n",
       "</div>"
      ],
      "text/plain": [
       "               Time Search Engine Rank1 Rank2 Rank3 Rank4 Rank5 Rank6 Rank7  \\\n",
       "0  2019-11-13 18:25         Naver    1위    2위    3위    4위    5위    6위    7위   \n",
       "\n",
       "  Rank8 Rank9 Rank10  \n",
       "0    8위    9위    10위  "
      ]
     },
     "execution_count": 1,
     "metadata": {},
     "output_type": "execute_result"
    }
   ],
   "source": [
    "import pandas as pd\n",
    "column = ['Time', 'Search Engine']\n",
    "column += ['Rank' + str(x) for x in range(1, 11)]\n",
    "contents = ['2019-11-13 18:25', 'Naver', '1위', '2위', '3위', '4위', '5위', '6위', '7위', '8위', '9위', '10위']\n",
    "tmp = pd.DataFrame([contents], columns = column)\n",
    "tmp"
   ]
  },
  {
   "cell_type": "code",
   "execution_count": 2,
   "metadata": {},
   "outputs": [
    {
     "data": {
      "text/html": [
       "<div>\n",
       "<style scoped>\n",
       "    .dataframe tbody tr th:only-of-type {\n",
       "        vertical-align: middle;\n",
       "    }\n",
       "\n",
       "    .dataframe tbody tr th {\n",
       "        vertical-align: top;\n",
       "    }\n",
       "\n",
       "    .dataframe thead th {\n",
       "        text-align: right;\n",
       "    }\n",
       "</style>\n",
       "<table border=\"1\" class=\"dataframe\">\n",
       "  <thead>\n",
       "    <tr style=\"text-align: right;\">\n",
       "      <th></th>\n",
       "      <th>Time</th>\n",
       "      <th>Search Engine</th>\n",
       "      <th>Rank1</th>\n",
       "      <th>Rank2</th>\n",
       "      <th>Rank3</th>\n",
       "      <th>Rank4</th>\n",
       "      <th>Rank5</th>\n",
       "      <th>Rank6</th>\n",
       "      <th>Rank7</th>\n",
       "      <th>Rank8</th>\n",
       "      <th>Rank9</th>\n",
       "      <th>Rank10</th>\n",
       "    </tr>\n",
       "  </thead>\n",
       "  <tbody>\n",
       "    <tr>\n",
       "      <th>0</th>\n",
       "      <td>2019-11-13 18:25</td>\n",
       "      <td>Naver</td>\n",
       "      <td>1위</td>\n",
       "      <td>2위</td>\n",
       "      <td>3위</td>\n",
       "      <td>4위</td>\n",
       "      <td>5위</td>\n",
       "      <td>6위</td>\n",
       "      <td>7위</td>\n",
       "      <td>8위</td>\n",
       "      <td>9위</td>\n",
       "      <td>10위</td>\n",
       "    </tr>\n",
       "  </tbody>\n",
       "</table>\n",
       "</div>"
      ],
      "text/plain": [
       "               Time Search Engine Rank1 Rank2 Rank3 Rank4 Rank5 Rank6 Rank7  \\\n",
       "0  2019-11-13 18:25         Naver    1위    2위    3위    4위    5위    6위    7위   \n",
       "\n",
       "  Rank8 Rank9 Rank10  \n",
       "0    8위    9위    10위  "
      ]
     },
     "execution_count": 2,
     "metadata": {},
     "output_type": "execute_result"
    }
   ],
   "source": [
    "tmp2 = pd.DataFrame([contents], columns = column)\n",
    "tmp2"
   ]
  },
  {
   "cell_type": "code",
   "execution_count": 3,
   "metadata": {},
   "outputs": [
    {
     "data": {
      "text/html": [
       "<div>\n",
       "<style scoped>\n",
       "    .dataframe tbody tr th:only-of-type {\n",
       "        vertical-align: middle;\n",
       "    }\n",
       "\n",
       "    .dataframe tbody tr th {\n",
       "        vertical-align: top;\n",
       "    }\n",
       "\n",
       "    .dataframe thead th {\n",
       "        text-align: right;\n",
       "    }\n",
       "</style>\n",
       "<table border=\"1\" class=\"dataframe\">\n",
       "  <thead>\n",
       "    <tr style=\"text-align: right;\">\n",
       "      <th></th>\n",
       "      <th>Time</th>\n",
       "      <th>Search Engine</th>\n",
       "      <th>Rank1</th>\n",
       "      <th>Rank2</th>\n",
       "      <th>Rank3</th>\n",
       "      <th>Rank4</th>\n",
       "      <th>Rank5</th>\n",
       "      <th>Rank6</th>\n",
       "      <th>Rank7</th>\n",
       "      <th>Rank8</th>\n",
       "      <th>Rank9</th>\n",
       "      <th>Rank10</th>\n",
       "    </tr>\n",
       "  </thead>\n",
       "  <tbody>\n",
       "    <tr>\n",
       "      <th>0</th>\n",
       "      <td>2019-11-13 18:25</td>\n",
       "      <td>Naver</td>\n",
       "      <td>1위</td>\n",
       "      <td>2위</td>\n",
       "      <td>3위</td>\n",
       "      <td>4위</td>\n",
       "      <td>5위</td>\n",
       "      <td>6위</td>\n",
       "      <td>7위</td>\n",
       "      <td>8위</td>\n",
       "      <td>9위</td>\n",
       "      <td>10위</td>\n",
       "    </tr>\n",
       "    <tr>\n",
       "      <th>0</th>\n",
       "      <td>2019-11-13 18:25</td>\n",
       "      <td>Naver</td>\n",
       "      <td>1위</td>\n",
       "      <td>2위</td>\n",
       "      <td>3위</td>\n",
       "      <td>4위</td>\n",
       "      <td>5위</td>\n",
       "      <td>6위</td>\n",
       "      <td>7위</td>\n",
       "      <td>8위</td>\n",
       "      <td>9위</td>\n",
       "      <td>10위</td>\n",
       "    </tr>\n",
       "  </tbody>\n",
       "</table>\n",
       "</div>"
      ],
      "text/plain": [
       "               Time Search Engine Rank1 Rank2 Rank3 Rank4 Rank5 Rank6 Rank7  \\\n",
       "0  2019-11-13 18:25         Naver    1위    2위    3위    4위    5위    6위    7위   \n",
       "0  2019-11-13 18:25         Naver    1위    2위    3위    4위    5위    6위    7위   \n",
       "\n",
       "  Rank8 Rank9 Rank10  \n",
       "0    8위    9위    10위  \n",
       "0    8위    9위    10위  "
      ]
     },
     "execution_count": 3,
     "metadata": {},
     "output_type": "execute_result"
    }
   ],
   "source": [
    "df = pd.concat([tmp,tmp2])\n",
    "df"
   ]
  },
  {
   "cell_type": "code",
   "execution_count": 4,
   "metadata": {},
   "outputs": [
    {
     "data": {
      "text/html": [
       "<div>\n",
       "<style scoped>\n",
       "    .dataframe tbody tr th:only-of-type {\n",
       "        vertical-align: middle;\n",
       "    }\n",
       "\n",
       "    .dataframe tbody tr th {\n",
       "        vertical-align: top;\n",
       "    }\n",
       "\n",
       "    .dataframe thead th {\n",
       "        text-align: right;\n",
       "    }\n",
       "</style>\n",
       "<table border=\"1\" class=\"dataframe\">\n",
       "  <thead>\n",
       "    <tr style=\"text-align: right;\">\n",
       "      <th></th>\n",
       "      <th>Time</th>\n",
       "      <th>Search Engine</th>\n",
       "      <th>Rank1</th>\n",
       "      <th>Rank2</th>\n",
       "      <th>Rank3</th>\n",
       "      <th>Rank4</th>\n",
       "      <th>Rank5</th>\n",
       "      <th>Rank6</th>\n",
       "      <th>Rank7</th>\n",
       "      <th>Rank8</th>\n",
       "      <th>Rank9</th>\n",
       "      <th>Rank10</th>\n",
       "    </tr>\n",
       "  </thead>\n",
       "  <tbody>\n",
       "    <tr>\n",
       "      <th>0</th>\n",
       "      <td>2019-11-13 18:25</td>\n",
       "      <td>Naver</td>\n",
       "      <td>1위</td>\n",
       "      <td>2위</td>\n",
       "      <td>3위</td>\n",
       "      <td>4위</td>\n",
       "      <td>5위</td>\n",
       "      <td>6위</td>\n",
       "      <td>7위</td>\n",
       "      <td>8위</td>\n",
       "      <td>9위</td>\n",
       "      <td>10위</td>\n",
       "    </tr>\n",
       "    <tr>\n",
       "      <th>0</th>\n",
       "      <td>2019-11-13 18:25</td>\n",
       "      <td>Naver</td>\n",
       "      <td>1위</td>\n",
       "      <td>2위</td>\n",
       "      <td>3위</td>\n",
       "      <td>4위</td>\n",
       "      <td>5위</td>\n",
       "      <td>6위</td>\n",
       "      <td>7위</td>\n",
       "      <td>8위</td>\n",
       "      <td>9위</td>\n",
       "      <td>10위</td>\n",
       "    </tr>\n",
       "  </tbody>\n",
       "</table>\n",
       "</div>"
      ],
      "text/plain": [
       "               Time Search Engine Rank1 Rank2 Rank3 Rank4 Rank5 Rank6 Rank7  \\\n",
       "0  2019-11-13 18:25         Naver    1위    2위    3위    4위    5위    6위    7위   \n",
       "0  2019-11-13 18:25         Naver    1위    2위    3위    4위    5위    6위    7위   \n",
       "\n",
       "  Rank8 Rank9 Rank10  \n",
       "0    8위    9위    10위  \n",
       "0    8위    9위    10위  "
      ]
     },
     "execution_count": 4,
     "metadata": {},
     "output_type": "execute_result"
    }
   ],
   "source": [
    "df.set_index(df['Time'])\n",
    "#del df['Time']\n",
    "df"
   ]
  },
  {
   "cell_type": "code",
   "execution_count": 5,
   "metadata": {},
   "outputs": [],
   "source": [
    "df.to_csv('./data/data.csv', encoding = 'utf-8', sep=',', index = False)"
   ]
  },
  {
   "cell_type": "code",
   "execution_count": 6,
   "metadata": {},
   "outputs": [],
   "source": [
    "read = pd.read_csv('./data/data.csv', encoding = 'utf-8')"
   ]
  },
  {
   "cell_type": "code",
   "execution_count": 7,
   "metadata": {},
   "outputs": [
    {
     "data": {
      "text/html": [
       "<div>\n",
       "<style scoped>\n",
       "    .dataframe tbody tr th:only-of-type {\n",
       "        vertical-align: middle;\n",
       "    }\n",
       "\n",
       "    .dataframe tbody tr th {\n",
       "        vertical-align: top;\n",
       "    }\n",
       "\n",
       "    .dataframe thead th {\n",
       "        text-align: right;\n",
       "    }\n",
       "</style>\n",
       "<table border=\"1\" class=\"dataframe\">\n",
       "  <thead>\n",
       "    <tr style=\"text-align: right;\">\n",
       "      <th></th>\n",
       "      <th>Time</th>\n",
       "      <th>Search Engine</th>\n",
       "      <th>Rank1</th>\n",
       "      <th>Rank2</th>\n",
       "      <th>Rank3</th>\n",
       "      <th>Rank4</th>\n",
       "      <th>Rank5</th>\n",
       "      <th>Rank6</th>\n",
       "      <th>Rank7</th>\n",
       "      <th>Rank8</th>\n",
       "      <th>Rank9</th>\n",
       "      <th>Rank10</th>\n",
       "    </tr>\n",
       "  </thead>\n",
       "  <tbody>\n",
       "    <tr>\n",
       "      <th>0</th>\n",
       "      <td>2019-11-13 18:25</td>\n",
       "      <td>Naver</td>\n",
       "      <td>1위</td>\n",
       "      <td>2위</td>\n",
       "      <td>3위</td>\n",
       "      <td>4위</td>\n",
       "      <td>5위</td>\n",
       "      <td>6위</td>\n",
       "      <td>7위</td>\n",
       "      <td>8위</td>\n",
       "      <td>9위</td>\n",
       "      <td>10위</td>\n",
       "    </tr>\n",
       "    <tr>\n",
       "      <th>1</th>\n",
       "      <td>2019-11-13 18:25</td>\n",
       "      <td>Naver</td>\n",
       "      <td>1위</td>\n",
       "      <td>2위</td>\n",
       "      <td>3위</td>\n",
       "      <td>4위</td>\n",
       "      <td>5위</td>\n",
       "      <td>6위</td>\n",
       "      <td>7위</td>\n",
       "      <td>8위</td>\n",
       "      <td>9위</td>\n",
       "      <td>10위</td>\n",
       "    </tr>\n",
       "  </tbody>\n",
       "</table>\n",
       "</div>"
      ],
      "text/plain": [
       "               Time Search Engine Rank1 Rank2 Rank3 Rank4 Rank5 Rank6 Rank7  \\\n",
       "0  2019-11-13 18:25         Naver    1위    2위    3위    4위    5위    6위    7위   \n",
       "1  2019-11-13 18:25         Naver    1위    2위    3위    4위    5위    6위    7위   \n",
       "\n",
       "  Rank8 Rank9 Rank10  \n",
       "0    8위    9위    10위  \n",
       "1    8위    9위    10위  "
      ]
     },
     "execution_count": 7,
     "metadata": {},
     "output_type": "execute_result"
    }
   ],
   "source": [
    "read"
   ]
  },
  {
   "cell_type": "code",
   "execution_count": 8,
   "metadata": {},
   "outputs": [
    {
     "data": {
      "text/html": [
       "<div>\n",
       "<style scoped>\n",
       "    .dataframe tbody tr th:only-of-type {\n",
       "        vertical-align: middle;\n",
       "    }\n",
       "\n",
       "    .dataframe tbody tr th {\n",
       "        vertical-align: top;\n",
       "    }\n",
       "\n",
       "    .dataframe thead th {\n",
       "        text-align: right;\n",
       "    }\n",
       "</style>\n",
       "<table border=\"1\" class=\"dataframe\">\n",
       "  <thead>\n",
       "    <tr style=\"text-align: right;\">\n",
       "      <th></th>\n",
       "      <th>Time</th>\n",
       "      <th>Search Engine</th>\n",
       "      <th>Rank1</th>\n",
       "      <th>Rank2</th>\n",
       "      <th>Rank3</th>\n",
       "      <th>Rank4</th>\n",
       "      <th>Rank5</th>\n",
       "      <th>Rank6</th>\n",
       "      <th>Rank7</th>\n",
       "      <th>Rank8</th>\n",
       "      <th>Rank9</th>\n",
       "      <th>Rank10</th>\n",
       "    </tr>\n",
       "  </thead>\n",
       "  <tbody>\n",
       "    <tr>\n",
       "      <th>0</th>\n",
       "      <td>2019-11-13 18:25</td>\n",
       "      <td>Naver</td>\n",
       "      <td>1위</td>\n",
       "      <td>2위</td>\n",
       "      <td>3위</td>\n",
       "      <td>4위</td>\n",
       "      <td>5위</td>\n",
       "      <td>6위</td>\n",
       "      <td>7위</td>\n",
       "      <td>8위</td>\n",
       "      <td>9위</td>\n",
       "      <td>10위</td>\n",
       "    </tr>\n",
       "    <tr>\n",
       "      <th>0</th>\n",
       "      <td>2019-11-13 18:25</td>\n",
       "      <td>Naver</td>\n",
       "      <td>1위</td>\n",
       "      <td>2위</td>\n",
       "      <td>3위</td>\n",
       "      <td>4위</td>\n",
       "      <td>5위</td>\n",
       "      <td>6위</td>\n",
       "      <td>7위</td>\n",
       "      <td>8위</td>\n",
       "      <td>9위</td>\n",
       "      <td>10위</td>\n",
       "    </tr>\n",
       "    <tr>\n",
       "      <th>0</th>\n",
       "      <td>2019-11-13 18:25</td>\n",
       "      <td>Naver</td>\n",
       "      <td>1위</td>\n",
       "      <td>2위</td>\n",
       "      <td>3위</td>\n",
       "      <td>4위</td>\n",
       "      <td>5위</td>\n",
       "      <td>6위</td>\n",
       "      <td>7위</td>\n",
       "      <td>8위</td>\n",
       "      <td>9위</td>\n",
       "      <td>10위</td>\n",
       "    </tr>\n",
       "    <tr>\n",
       "      <th>1</th>\n",
       "      <td>2019-11-13 18:25</td>\n",
       "      <td>Naver</td>\n",
       "      <td>1위</td>\n",
       "      <td>2위</td>\n",
       "      <td>3위</td>\n",
       "      <td>4위</td>\n",
       "      <td>5위</td>\n",
       "      <td>6위</td>\n",
       "      <td>7위</td>\n",
       "      <td>8위</td>\n",
       "      <td>9위</td>\n",
       "      <td>10위</td>\n",
       "    </tr>\n",
       "  </tbody>\n",
       "</table>\n",
       "</div>"
      ],
      "text/plain": [
       "               Time Search Engine Rank1 Rank2 Rank3 Rank4 Rank5 Rank6 Rank7  \\\n",
       "0  2019-11-13 18:25         Naver    1위    2위    3위    4위    5위    6위    7위   \n",
       "0  2019-11-13 18:25         Naver    1위    2위    3위    4위    5위    6위    7위   \n",
       "0  2019-11-13 18:25         Naver    1위    2위    3위    4위    5위    6위    7위   \n",
       "1  2019-11-13 18:25         Naver    1위    2위    3위    4위    5위    6위    7위   \n",
       "\n",
       "  Rank8 Rank9 Rank10  \n",
       "0    8위    9위    10위  \n",
       "0    8위    9위    10위  \n",
       "0    8위    9위    10위  \n",
       "1    8위    9위    10위  "
      ]
     },
     "execution_count": 8,
     "metadata": {},
     "output_type": "execute_result"
    }
   ],
   "source": [
    "df = pd.concat([df, read], sort = False)\n",
    "df"
   ]
  },
  {
   "cell_type": "code",
   "execution_count": 9,
   "metadata": {},
   "outputs": [],
   "source": [
    "df.to_csv('./data/data.csv', encoding = 'utf-8', sep=',', index = False)"
   ]
  },
  {
   "cell_type": "code",
   "execution_count": 2,
   "metadata": {
    "scrolled": true
   },
   "outputs": [
    {
     "data": {
      "text/html": [
       "<div>\n",
       "<style scoped>\n",
       "    .dataframe tbody tr th:only-of-type {\n",
       "        vertical-align: middle;\n",
       "    }\n",
       "\n",
       "    .dataframe tbody tr th {\n",
       "        vertical-align: top;\n",
       "    }\n",
       "\n",
       "    .dataframe thead th {\n",
       "        text-align: right;\n",
       "    }\n",
       "</style>\n",
       "<table border=\"1\" class=\"dataframe\">\n",
       "  <thead>\n",
       "    <tr style=\"text-align: right;\">\n",
       "      <th></th>\n",
       "      <th></th>\n",
       "      <th>Rank1</th>\n",
       "      <th>Rank2</th>\n",
       "      <th>Rank3</th>\n",
       "      <th>Rank4</th>\n",
       "      <th>Rank5</th>\n",
       "      <th>Rank6</th>\n",
       "      <th>Rank7</th>\n",
       "      <th>Rank8</th>\n",
       "      <th>Rank9</th>\n",
       "      <th>Rank10</th>\n",
       "    </tr>\n",
       "    <tr>\n",
       "      <th>Time</th>\n",
       "      <th>Search Engine</th>\n",
       "      <th></th>\n",
       "      <th></th>\n",
       "      <th></th>\n",
       "      <th></th>\n",
       "      <th></th>\n",
       "      <th></th>\n",
       "      <th></th>\n",
       "      <th></th>\n",
       "      <th></th>\n",
       "      <th></th>\n",
       "    </tr>\n",
       "  </thead>\n",
       "  <tbody>\n",
       "    <tr>\n",
       "      <th rowspan=\"3\" valign=\"top\">2019-11-14 15:16</th>\n",
       "      <th>Google</th>\n",
       "      <td>정준영</td>\n",
       "      <td>수능 시간표</td>\n",
       "      <td>권혁준</td>\n",
       "      <td>탑텐</td>\n",
       "      <td>호란</td>\n",
       "      <td>날씨</td>\n",
       "      <td>흑사병</td>\n",
       "      <td>경리</td>\n",
       "      <td>김경란</td>\n",
       "      <td>내일날씨</td>\n",
       "    </tr>\n",
       "    <tr>\n",
       "      <th>Naver</th>\n",
       "      <td>번인 걱정제로 QLED TV</td>\n",
       "      <td>수능 끝나는 시간</td>\n",
       "      <td>수능 수학</td>\n",
       "      <td>이문정</td>\n",
       "      <td>수능시간</td>\n",
       "      <td>에버콜라겐예뻐딜</td>\n",
       "      <td>구본영</td>\n",
       "      <td>박은혜</td>\n",
       "      <td>유리 오빠</td>\n",
       "      <td>번인걱정제로</td>\n",
       "    </tr>\n",
       "    <tr>\n",
       "      <th>Daum</th>\n",
       "      <td>이문정</td>\n",
       "      <td>수능 시간표</td>\n",
       "      <td>수능 수학</td>\n",
       "      <td>구본영</td>\n",
       "      <td>김경수</td>\n",
       "      <td>유리 오빠</td>\n",
       "      <td>박영선</td>\n",
       "      <td>설리</td>\n",
       "      <td>조국</td>\n",
       "      <td>수능 영어</td>\n",
       "    </tr>\n",
       "    <tr>\n",
       "      <th rowspan=\"3\" valign=\"top\">2019-11-14 15:17</th>\n",
       "      <th>Google</th>\n",
       "      <td>정준영</td>\n",
       "      <td>수능 시간표</td>\n",
       "      <td>권혁준</td>\n",
       "      <td>탑텐</td>\n",
       "      <td>호란</td>\n",
       "      <td>날씨</td>\n",
       "      <td>흑사병</td>\n",
       "      <td>경리</td>\n",
       "      <td>김경란</td>\n",
       "      <td>내일날씨</td>\n",
       "    </tr>\n",
       "    <tr>\n",
       "      <th>Naver</th>\n",
       "      <td>번인 걱정제로 QLED TV</td>\n",
       "      <td>수능 끝나는 시간</td>\n",
       "      <td>수능 수학</td>\n",
       "      <td>이문정</td>\n",
       "      <td>수능시간</td>\n",
       "      <td>에버콜라겐예뻐딜</td>\n",
       "      <td>구본영</td>\n",
       "      <td>박은혜</td>\n",
       "      <td>유리 오빠</td>\n",
       "      <td>번인걱정제로</td>\n",
       "    </tr>\n",
       "    <tr>\n",
       "      <th>Daum</th>\n",
       "      <td>이문정</td>\n",
       "      <td>수능 시간표</td>\n",
       "      <td>수능 수학</td>\n",
       "      <td>구본영</td>\n",
       "      <td>김경수</td>\n",
       "      <td>유리 오빠</td>\n",
       "      <td>박영선</td>\n",
       "      <td>설리</td>\n",
       "      <td>조국</td>\n",
       "      <td>수능 영어</td>\n",
       "    </tr>\n",
       "    <tr>\n",
       "      <th rowspan=\"3\" valign=\"top\">2019-11-14 15:18</th>\n",
       "      <th>Google</th>\n",
       "      <td>정준영</td>\n",
       "      <td>수능 시간표</td>\n",
       "      <td>권혁준</td>\n",
       "      <td>탑텐</td>\n",
       "      <td>호란</td>\n",
       "      <td>날씨</td>\n",
       "      <td>흑사병</td>\n",
       "      <td>경리</td>\n",
       "      <td>김경란</td>\n",
       "      <td>내일날씨</td>\n",
       "    </tr>\n",
       "    <tr>\n",
       "      <th>Naver</th>\n",
       "      <td>번인 걱정제로 QLED TV</td>\n",
       "      <td>수능 끝나는 시간</td>\n",
       "      <td>수능 수학</td>\n",
       "      <td>이문정</td>\n",
       "      <td>수능시간</td>\n",
       "      <td>에버콜라겐예뻐딜</td>\n",
       "      <td>스텝업 입시부적</td>\n",
       "      <td>박은혜</td>\n",
       "      <td>구본영</td>\n",
       "      <td>유리 오빠</td>\n",
       "    </tr>\n",
       "    <tr>\n",
       "      <th>Daum</th>\n",
       "      <td>수능 시간표</td>\n",
       "      <td>이문정</td>\n",
       "      <td>수능 수학</td>\n",
       "      <td>구본영</td>\n",
       "      <td>김경수</td>\n",
       "      <td>유리 오빠</td>\n",
       "      <td>박영선</td>\n",
       "      <td>수능 영어</td>\n",
       "      <td>수능 국어</td>\n",
       "      <td>설리</td>\n",
       "    </tr>\n",
       "  </tbody>\n",
       "</table>\n",
       "</div>"
      ],
      "text/plain": [
       "                                          Rank1      Rank2  Rank3 Rank4 Rank5  \\\n",
       "Time             Search Engine                                                  \n",
       "2019-11-14 15:16 Google                     정준영     수능 시간표    권혁준    탑텐    호란   \n",
       "                 Naver          번인 걱정제로 QLED TV  수능 끝나는 시간  수능 수학   이문정  수능시간   \n",
       "                 Daum                       이문정     수능 시간표  수능 수학   구본영   김경수   \n",
       "2019-11-14 15:17 Google                     정준영     수능 시간표    권혁준    탑텐    호란   \n",
       "                 Naver          번인 걱정제로 QLED TV  수능 끝나는 시간  수능 수학   이문정  수능시간   \n",
       "                 Daum                       이문정     수능 시간표  수능 수학   구본영   김경수   \n",
       "2019-11-14 15:18 Google                     정준영     수능 시간표    권혁준    탑텐    호란   \n",
       "                 Naver          번인 걱정제로 QLED TV  수능 끝나는 시간  수능 수학   이문정  수능시간   \n",
       "                 Daum                    수능 시간표        이문정  수능 수학   구본영   김경수   \n",
       "\n",
       "                                   Rank6     Rank7  Rank8  Rank9  Rank10  \n",
       "Time             Search Engine                                            \n",
       "2019-11-14 15:16 Google               날씨       흑사병     경리    김경란    내일날씨  \n",
       "                 Naver          에버콜라겐예뻐딜       구본영    박은혜  유리 오빠  번인걱정제로  \n",
       "                 Daum              유리 오빠       박영선     설리     조국   수능 영어  \n",
       "2019-11-14 15:17 Google               날씨       흑사병     경리    김경란    내일날씨  \n",
       "                 Naver          에버콜라겐예뻐딜       구본영    박은혜  유리 오빠  번인걱정제로  \n",
       "                 Daum              유리 오빠       박영선     설리     조국   수능 영어  \n",
       "2019-11-14 15:18 Google               날씨       흑사병     경리    김경란    내일날씨  \n",
       "                 Naver          에버콜라겐예뻐딜  스텝업 입시부적    박은혜    구본영   유리 오빠  \n",
       "                 Daum              유리 오빠       박영선  수능 영어  수능 국어      설리  "
      ]
     },
     "execution_count": 2,
     "metadata": {},
     "output_type": "execute_result"
    }
   ],
   "source": [
    "import pandas as pd\n",
    "read = pd.read_csv('./data/data.csv', encoding = 'utf-8')\n",
    "read.set_index([read['Time'], read['Search Engine']], inplace = True)\n",
    "del read['Time']\n",
    "del read['Search Engine']\n",
    "read"
   ]
  },
  {
   "cell_type": "code",
   "execution_count": 47,
   "metadata": {},
   "outputs": [
    {
     "name": "stdout",
     "output_type": "stream",
     "text": [
      "[1, 3, 2, 5, 6, 4, 7]\n",
      "[6, 4, 3, 2, 2, 2, 1]\n"
     ]
    }
   ],
   "source": [
    "lists= [1,1,3,1,2,2,1,3,5,1,3,6,4,1,3,5,4,6,2,7]\n",
    "counts = []\n",
    "keywords = []\n",
    "for keyword in lists:\n",
    "    if keyword not in keywords:\n",
    "        keywords.append(keyword)\n",
    "        counts.append(1)\n",
    "    else:\n",
    "        index = keywords.index(keyword)\n",
    "        counts[index] += 1\n",
    "print(keywords)\n",
    "print(counts)"
   ]
  },
  {
   "cell_type": "code",
   "execution_count": 45,
   "metadata": {},
   "outputs": [],
   "source": [
    "lists= [1,1,3,1,2,2,1,3,5,1,3,6,4,1,3,5,4,6,2,7]"
   ]
  },
  {
   "cell_type": "code",
   "execution_count": 46,
   "metadata": {},
   "outputs": [
    {
     "data": {
      "text/plain": [
       "8"
      ]
     },
     "execution_count": 46,
     "metadata": {},
     "output_type": "execute_result"
    }
   ],
   "source": [
    "lists.index(5)"
   ]
  },
  {
   "cell_type": "code",
   "execution_count": 53,
   "metadata": {},
   "outputs": [],
   "source": [
    "naver_rank = ['장안동', '동대문', '박은혜', '흑사병', '유리 오빠', '호란', '김경란', '장정윤 작가', '우리 다시 사랑', '유리']\n",
    "daum_rank = ['유리 오빠', '장정윤 작가', '호란', '박은혜', '김경란', '흑사병', '박연수', '박용선', '우리 다시 사랑' , '율현동']"
   ]
  },
  {
   "cell_type": "code",
   "execution_count": 54,
   "metadata": {},
   "outputs": [
    {
     "data": {
      "text/plain": [
       "['장안동', '동대문', '박은혜', '흑사병', '유리 오빠', '호란', '김경란', '장정윤 작가', '우리 다시 사랑', '유리']"
      ]
     },
     "execution_count": 54,
     "metadata": {},
     "output_type": "execute_result"
    }
   ],
   "source": [
    "naver_rank"
   ]
  },
  {
   "cell_type": "code",
   "execution_count": 55,
   "metadata": {},
   "outputs": [
    {
     "data": {
      "text/plain": [
       "['유리 오빠', '장정윤 작가', '호란', '박은혜', '김경란', '흑사병', '박연수', '박용선', '우리 다시 사랑', '율현동']"
      ]
     },
     "execution_count": 55,
     "metadata": {},
     "output_type": "execute_result"
    }
   ],
   "source": [
    "daum_rank"
   ]
  },
  {
   "cell_type": "code",
   "execution_count": 90,
   "metadata": {
    "scrolled": true
   },
   "outputs": [
    {
     "data": {
      "image/png": "[encoded data removed]",
      "text/plain": [
       "<Figure size 432x288 with 1 Axes>"
      ]
     },
     "metadata": {
      "needs_background": "light"
     },
     "output_type": "display_data"
    }
   ],
   "source": [
    "import seaborn as sns\n",
    "import matplotlib.pyplot as plt\n",
    "import numpy as np\n",
    "\n",
    "def get_relative_scores(keywords1, keywords2, engine1 = 'Naver', engine2 = 'Daum'):\n",
    "    keywords1.reverse()\n",
    "    keywords2.reverse()\n",
    "    scores1 = [i for i in range(1,11)]\n",
    "    scores2 = list()\n",
    "    \n",
    "    for i, keyword1 in enumerate(keywords1):\n",
    "        scores2.append(0)\n",
    "        for j, keyword2 in enumerate(keywords2):\n",
    "            if keyword1 == keyword2:\n",
    "                scores2[i] = scores1[j]\n",
    "                break\n",
    "    \n",
    "    scores1.reverse()\n",
    "    scores2.reverse()\n",
    "    scores1 = np.array(scores1) / max(scores1)\n",
    "    scores2 = np.array(scores2) / max(scores2)\n",
    "    plt.title('Score of ' + engine2 +' about ' + engine1 + ' Keywords ')\n",
    "    plt.xlabel('Keyword Score (' + engine1 + ')')\n",
    "    plt.ylabel('Keyword Score (' + engine2 + ')')\n",
    "    plt.xticks([x for x in range(0, 11)],['Rank10' , 'Rank1'])\n",
    "    plt.yticks([x for x in range(0, 11)],['Rank10' , 'Rank1'])\n",
    "    plt.scatter(scores1,scores2, color = 'skyblue')\n",
    "    plt.show()\n",
    "    \n",
    "get_relative_scores(naver_rank,daum_rank)"
   ]
  },
  {
   "cell_type": "code",
   "execution_count": 91,
   "metadata": {},
   "outputs": [],
   "source": [
    "list1 = [i for i in range(10)]"
   ]
  },
  {
   "cell_type": "code",
   "execution_count": 92,
   "metadata": {},
   "outputs": [],
   "source": [
    "list2 = list1[1:3]"
   ]
  },
  {
   "cell_type": "code",
   "execution_count": 93,
   "metadata": {},
   "outputs": [
    {
     "data": {
      "text/plain": [
       "[1, 2]"
      ]
     },
     "execution_count": 93,
     "metadata": {},
     "output_type": "execute_result"
    }
   ],
   "source": [
    "list2"
   ]
  },
  {
   "cell_type": "code",
   "execution_count": 94,
   "metadata": {},
   "outputs": [
    {
     "data": {
      "text/plain": [
       "[0, 1, 2, 3, 4, 5, 6, 7, 8, 9]"
      ]
     },
     "execution_count": 94,
     "metadata": {},
     "output_type": "execute_result"
    }
   ],
   "source": [
    "list1"
   ]
  },
  {
   "cell_type": "code",
   "execution_count": 95,
   "metadata": {},
   "outputs": [
    {
     "data": {
      "text/plain": [
       "4.5"
      ]
     },
     "execution_count": 95,
     "metadata": {},
     "output_type": "execute_result"
    }
   ],
   "source": [
    "np.mean(list1)"
   ]
  }
 ],
 "metadata": {
  "kernelspec": {
   "display_name": "Python 3",
   "language": "python",
   "name": "python3"
  },
  "language_info": {
   "codemirror_mode": {
    "name": "ipython",
    "version": 3
   },
   "file_extension": ".py",
   "mimetype": "text/x-python",
   "name": "python",
   "nbconvert_exporter": "python",
   "pygments_lexer": "ipython3",
   "version": "3.7.1"
  }
 },
 "nbformat": 4,
 "nbformat_minor": 2
}

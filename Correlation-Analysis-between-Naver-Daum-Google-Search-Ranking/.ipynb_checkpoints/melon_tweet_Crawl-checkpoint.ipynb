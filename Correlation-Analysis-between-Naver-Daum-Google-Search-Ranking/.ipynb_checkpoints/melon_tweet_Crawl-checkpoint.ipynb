{
 "cells": [
  {
   "cell_type": "code",
   "execution_count": 11,
   "metadata": {},
   "outputs": [],
   "source": [
    "from urllib.request import urlopen\n",
    "from urllib.request import HTTPError\n",
    "import urllib.request\n",
    "from bs4 import BeautifulSoup\n",
    "\n",
    "class Melon:\n",
    "    def __init__(self):\n",
    "        url = 'http://www.melon.com/chart/index.htm'\n",
    "        hdr = {'User-Agent': 'Mozilla/5.0'}\n",
    "        req = urllib.request.Request(url,headers=hdr)\n",
    "        response = urlopen(req)\n",
    "        soup = BeautifulSoup(response,'html.parser')\n",
    "        self.song = []\n",
    "        self.singer = []\n",
    "        for t in soup.find_all('tr',class_='lst50'):\n",
    "            self.song.extend(t.find('div',class_='wrap_song_info').find_all('a')[:1])\n",
    "            self.singer.extend(t.find('div',class_='wrap_song_info').find_all('a')[2:])\n",
    "        \n",
    "if __name__ == \"__main__\":\n",
    "    melon = Melon()\n",
    "    melon.song"
   ]
  },
  {
   "cell_type": "code",
   "execution_count": 13,
   "metadata": {},
   "outputs": [
    {
     "data": {
      "text/plain": [
       "'Blueming'"
      ]
     },
     "execution_count": 13,
     "metadata": {},
     "output_type": "execute_result"
    }
   ],
   "source": [
    "melon.song[0].text"
   ]
  },
  {
   "cell_type": "code",
   "execution_count": null,
   "metadata": {},
   "outputs": [
    {
     "name": "stderr",
     "output_type": "stream",
     "text": [
      "INFO: {'User-Agent': 'Opera/9.80 (X11; Linux i686; Ubuntu/14.10) Presto/2.12.388 Version/12.16'}\n",
      "INFO: queries: ['아이유 since:2006-03-21 until:2006-11-25', '아이유 since:2006-11-25 until:2007-08-02', '아이유 since:2007-08-02 until:2008-04-07', '아이유 since:2008-04-07 until:2008-12-13', '아이유 since:2008-12-13 until:2009-08-19', '아이유 since:2009-08-19 until:2010-04-26', '아이유 since:2010-04-26 until:2010-12-31', '아이유 since:2010-12-31 until:2011-09-07', '아이유 since:2011-09-07 until:2012-05-13', '아이유 since:2012-05-13 until:2013-01-18', '아이유 since:2013-01-18 until:2013-09-25', '아이유 since:2013-09-25 until:2014-06-01', '아이유 since:2014-06-01 until:2015-02-06', '아이유 since:2015-02-06 until:2015-10-13', '아이유 since:2015-10-13 until:2016-06-19', '아이유 since:2016-06-19 until:2017-02-23', '아이유 since:2017-02-23 until:2017-10-31', '아이유 since:2017-10-31 until:2018-07-07', '아이유 since:2018-07-07 until:2019-03-14', '아이유 since:2019-03-14 until:2019-11-19']\n",
      "INFO: Got 87 tweets (87 new).\n",
      "INFO: Got 258 tweets (171 new).\n",
      "INFO: Got 258 tweets (0 new).\n",
      "INFO: Got 258 tweets (0 new).\n",
      "INFO: Got 258 tweets (0 new).\n",
      "INFO: Got 258 tweets (0 new).\n",
      "INFO: Got 1967 tweets (1709 new).\n",
      "INFO: Got 3853 tweets (1886 new).\n",
      "INFO: Program interrupted by user. Returning all tweets gathered so far.\n"
     ]
    }
   ],
   "source": [
    "from twitterscraper import query_tweets\n",
    "\n",
    "list_of_tweets = query_tweets(\"아이유\", lang='ko', limit=300000)\n",
    "print(\"length: {}\".format(len(list_of_tweets)))\n",
    "for tweet in list_of_tweets[:30]:\n",
    "    print(tweet.text)"
   ]
  },
  {
   "cell_type": "code",
   "execution_count": 6,
   "metadata": {},
   "outputs": [
    {
     "name": "stdout",
     "output_type": "stream",
     "text": [
      "Collecting GetOldTweets3\n",
      "  Downloading https://files.pythonhosted.org/packages/9b/e6/e0d40bcdff849dd2aede00c043b16862d94f887fffdd8f0a14e4d4a8baf0/GetOldTweets3-0.0.10-py3-none-any.whl\n",
      "Requirement already satisfied: lxml>=3.5.0 in c:\\programdata\\anaconda3\\lib\\site-packages (from GetOldTweets3) (4.2.5)\n",
      "Requirement already satisfied: pyquery>=1.2.10 in c:\\programdata\\anaconda3\\lib\\site-packages (from GetOldTweets3) (1.4.1)\n",
      "Requirement already satisfied: cssselect>0.7.9 in c:\\programdata\\anaconda3\\lib\\site-packages (from pyquery>=1.2.10->GetOldTweets3) (1.1.0)\n",
      "Installing collected packages: GetOldTweets3\n",
      "Successfully installed GetOldTweets3-0.0.10\n"
     ]
    }
   ],
   "source": [
    "try:\n",
    "    import GetOldTweets3 as got\n",
    "except:\n",
    "    !pip install GetOldTweets3\n",
    "    import GetOldTweets3 as got"
   ]
  },
  {
   "cell_type": "code",
   "execution_count": 8,
   "metadata": {},
   "outputs": [
    {
     "name": "stdout",
     "output_type": "stream",
     "text": [
      "=== 설정된 트윗 수집 기간은 2019-11-18 에서 2019-11-18 까지 입니다 ===\n",
      "=== 총 1일 간의 데이터 수집 ===\n"
     ]
    }
   ],
   "source": [
    "import datetime\n",
    "\n",
    "days_range = []\n",
    "\n",
    "start = datetime.datetime.strptime(\"2019-11-18\", \"%Y-%m-%d\")\n",
    "end = datetime.datetime.strptime(\"2019-11-19\", \"%Y-%m-%d\")\n",
    "date_generated = [start + datetime.timedelta(days=x) for x in range(0, (end-start).days)]\n",
    "\n",
    "for date in date_generated:\n",
    "    days_range.append(date.strftime(\"%Y-%m-%d\"))\n",
    "\n",
    "print(\"=== 설정된 트윗 수집 기간은 {} 에서 {} 까지 입니다 ===\".format(days_range[0], days_range[-1]))\n",
    "print(\"=== 총 {}일 간의 데이터 수집 ===\".format(len(days_range)))"
   ]
  },
  {
   "cell_type": "code",
   "execution_count": 14,
   "metadata": {},
   "outputs": [
    {
     "name": "stdout",
     "output_type": "stream",
     "text": [
      "Collecting data start.. from 2019-11-18 to 2019-11-18\n",
      "Collecting data end.. 12.30 Minutes\n",
      "=== Total num of tweets is 6219 ===\n"
     ]
    }
   ],
   "source": [
    "# 특정 검색어가 포함된 트윗 검색하기 (quary search)\n",
    "# 검색어 : 어벤져스, 스포\n",
    "\n",
    "import time\n",
    "\n",
    "# 수집 기간 맞추기\n",
    "start_date = days_range[0]\n",
    "end_date = (datetime.datetime.strptime(days_range[-1], \"%Y-%m-%d\") \n",
    "            + datetime.timedelta(days=1)).strftime(\"%Y-%m-%d\") # setUntil이 끝을 포함하지 않으므로, day + 1\n",
    "\n",
    "# 트윗 수집 기준 정의\n",
    "tweetCriteria = got.manager.TweetCriteria().setQuerySearch('아이유 AND Blueming')\\\n",
    "                                           .setSince(start_date)\\\n",
    "                                           .setUntil(end_date)\\\n",
    "                                           .setMaxTweets(-1)\n",
    "\n",
    "# 수집 with GetOldTweet3\n",
    "print(\"Collecting data start.. from {} to {}\".format(days_range[0], days_range[-1]))\n",
    "start_time = time.time()\n",
    "\n",
    "tweet = got.manager.TweetManager.getTweets(tweetCriteria)\n",
    "\n",
    "print(\"Collecting data end.. {0:0.2f} Minutes\".format((time.time() - start_time)/60))\n",
    "print(\"=== Total num of tweets is {} ===\".format(len(tweet)))"
   ]
  },
  {
   "cell_type": "code",
   "execution_count": 17,
   "metadata": {},
   "outputs": [
    {
     "ename": "AttributeError",
     "evalue": "'list' object has no attribute 'text'",
     "output_type": "error",
     "traceback": [
      "\u001b[1;31m---------------------------------------------------------------------------\u001b[0m",
      "\u001b[1;31mAttributeError\u001b[0m                            Traceback (most recent call last)",
      "\u001b[1;32m<ipython-input-17-7728a9b12d49>\u001b[0m in \u001b[0;36m<module>\u001b[1;34m\u001b[0m\n\u001b[1;32m----> 1\u001b[1;33m \u001b[0mtweet\u001b[0m\u001b[1;33m.\u001b[0m\u001b[0mtext\u001b[0m\u001b[1;33m\u001b[0m\u001b[1;33m\u001b[0m\u001b[0m\n\u001b[0m",
      "\u001b[1;31mAttributeError\u001b[0m: 'list' object has no attribute 'text'"
     ]
    }
   ],
   "source": [
    "tweet.text"
   ]
  },
  {
   "cell_type": "code",
   "execution_count": 49,
   "metadata": {},
   "outputs": [
    {
     "data": {
      "application/vnd.jupyter.widget-view+json": {
       "model_id": "c9f1dceda7634afaa581f4aa7e15394f",
       "version_major": 2,
       "version_minor": 0
      },
      "text/plain": [
       "HBox(children=(IntProgress(value=0, max=6219), HTML(value='')))"
      ]
     },
     "metadata": {},
     "output_type": "display_data"
    },
    {
     "name": "stdout",
     "output_type": "stream",
     "text": [
      "\n"
     ]
    }
   ],
   "source": [
    "from random import uniform\n",
    "from tqdm import tqdm_notebook\n",
    "\n",
    "# initialize\n",
    "tweet_list = []\n",
    "\n",
    "for index in tqdm_notebook(tweet):\n",
    "    \n",
    "    # 메타데이터 목록 \n",
    "    username = index.username\n",
    "    link = index.permalink \n",
    "    content = index.text\n",
    "    tweet_date = index.date.strftime(\"%Y-%m-%d\")\n",
    "    tweet_time = index.date.strftime(\"%H:%M:%S\")\n",
    "    retweets = index.retweets\n",
    "    favorites = index.favorites\n",
    "    # 결과 합치기\n",
    "    info_list = [tweet_date, tweet_time, username, content, link, retweets, favorites]\n",
    "    tweet_list.append(info_list)"
   ]
  },
  {
   "cell_type": "code",
   "execution_count": 38,
   "metadata": {},
   "outputs": [
    {
     "data": {
      "text/plain": [
       "'23:56:23'"
      ]
     },
     "execution_count": 38,
     "metadata": {},
     "output_type": "execute_result"
    }
   ],
   "source": [
    "tweet_list[0][1]"
   ]
  },
  {
   "cell_type": "code",
   "execution_count": 50,
   "metadata": {},
   "outputs": [
    {
     "data": {
      "text/plain": [
       "'00:25:42'"
      ]
     },
     "execution_count": 50,
     "metadata": {},
     "output_type": "execute_result"
    }
   ],
   "source": [
    "tweet_time"
   ]
  },
  {
   "cell_type": "code",
   "execution_count": 47,
   "metadata": {},
   "outputs": [
    {
     "ename": "TypeError",
     "evalue": "object of type 'datetime.datetime' has no len()",
     "output_type": "error",
     "traceback": [
      "\u001b[1;31m---------------------------------------------------------------------------\u001b[0m",
      "\u001b[1;31mTypeError\u001b[0m                                 Traceback (most recent call last)",
      "\u001b[1;32m<ipython-input-47-0d22009e0a68>\u001b[0m in \u001b[0;36m<module>\u001b[1;34m\u001b[0m\n\u001b[1;32m----> 1\u001b[1;33m \u001b[0mlen\u001b[0m\u001b[1;33m(\u001b[0m\u001b[0mtest\u001b[0m\u001b[1;33m)\u001b[0m\u001b[1;33m\u001b[0m\u001b[1;33m\u001b[0m\u001b[0m\n\u001b[0m",
      "\u001b[1;31mTypeError\u001b[0m: object of type 'datetime.datetime' has no len()"
     ]
    }
   ],
   "source": [
    "len(test)"
   ]
  },
  {
   "cell_type": "code",
   "execution_count": null,
   "metadata": {},
   "outputs": [],
   "source": []
  }
 ],
 "metadata": {
  "kernelspec": {
   "display_name": "Python 3",
   "language": "python",
   "name": "python3"
  },
  "language_info": {
   "codemirror_mode": {
    "name": "ipython",
    "version": 3
   },
   "file_extension": ".py",
   "mimetype": "text/x-python",
   "name": "python",
   "nbconvert_exporter": "python",
   "pygments_lexer": "ipython3",
   "version": "3.7.1"
  }
 },
 "nbformat": 4,
 "nbformat_minor": 2
}

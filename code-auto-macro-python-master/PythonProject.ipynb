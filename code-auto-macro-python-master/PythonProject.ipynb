{
 "cells": [
  {
   "cell_type": "markdown",
   "metadata": {},
   "source": [
    "# Python Project  \n",
    "\n",
    "Kwangwoon University 전자통신공학과 3학년 하계 미니 프로젝트  \n",
    "2014707073 김수환"
   ]
  },
  {
   "cell_type": "markdown",
   "metadata": {},
   "source": [
    "## Global Variable and Const  \n",
    "프로그램이 돌아가는데 필요한 전역변수 및 상수 정의 모음"
   ]
  },
  {
   "cell_type": "code",
   "execution_count": 1,
   "metadata": {},
   "outputs": [],
   "source": [
    "import copy\n",
    "DUP_SIZE   =  3\n",
    "KEYWORD    =  ['+','-','/','*','//','%','=','==',':','if','for','elif','else','continue','\"','\\'','\\'''','\"\"\"',\n",
    "               'and','or','&','(',')',':','[',']','\\\\','\\r','\\f','\\a','\\b','\\000', '\\t','%d','%f','%c','%s','<','>','<=','>=',\n",
    "               '%o','%x','%%','.',',','!=','not','pass',''\n",
    "              ,'format','count','find','index','join','upper','lower','rstrip','strip','replace','split','len','str','del'\n",
    "              ,'append','sort','reverse','insert','remove','pop','extend','keys','values','items','clear','get','in','set'\n",
    "               ,'|','union','difference','add','update','True','False','type'\n",
    "               ,'while','if','elif','else','print','input','bool','id','is','copy','int','break','for','range','def'\n",
    "              ,'return','lambda','map','end','open','close','\\'r\\'','\\'w\\'','\\'a\\'','readline','read','write','with','as'\n",
    "              ,'global','class','__init__','import','from','__name__==\"__main__\"','__name__ == \"__main__\"'\n",
    "              ,'try','except','finally','abs','all','any','chr','dir','divmod','enumerate','eval','filter','hex','isinstance'\n",
    "              ,'list','max','min','oct','ord','pow','round','sorted','sum','tuple','zip','sys','pickle','os','shutil'\n",
    "               ,'glob','tempfile','time','calendar','random','webbrowser', 'STRING', 'VAR', 'CONST', 'TAB', ';', ':']"
   ]
  },
  {
   "cell_type": "markdown",
   "metadata": {},
   "source": [
    "## Preprocess\n",
    "텍스트를 전처리해주는 함수  \n",
    "알파벳 및 숫자를 제외한 특수문자들은 양 옆에 공백을 추가로 끼워넣는다"
   ]
  },
  {
   "cell_type": "code",
   "execution_count": 2,
   "metadata": {},
   "outputs": [],
   "source": [
    "def Preprocess(text):\n",
    "    except_list    =   ['_', '\\t', '\\n']             #  예외처리를 위한 리스트\n",
    "    preprocessed   =   \"\"                            #  text를 전처리해서 저장할 문자열\n",
    "    text           =   text.replace('    ',' TAB ').replace('\\t',' TAB ')   #  space 4개를 TAB으로 치환한다\n",
    "                                                     #  뒤에 함수에서 이를 진짜 '\\t'으로 치환한다\n",
    "                                                     #  여기서 바로 치환해버리면 뒤의 split()에서 없어져버린다\n",
    "    # 텍스트를 char 단위로 읽는다\n",
    "    for char in text:\n",
    "        # 읽은 char이 알파벳도 아니고 숫자도 아니고 except_list에도 존재하지 않는다면\n",
    "        if char.isalpha() == False and char.isdigit() == False and char not in except_list:\n",
    "            # 이따 split()으로 구분하기 위해 양 옆으로 \" \"을 추가한다\n",
    "            preprocessed += (\" \" + char + \" \")\n",
    "        else:\n",
    "            # 위의 경우가 아니라면 연속된 단어라고 판단하고 \" \"없이 붙여넣는다\n",
    "            preprocessed += char\n",
    "    # 전처리된 텍스트를 반환한다        \n",
    "    return preprocessed"
   ]
  },
  {
   "cell_type": "markdown",
   "metadata": {},
   "source": [
    "## Set Number\n",
    "\n",
    "코드를 라인을 표시하여 보여주는 함수 (디버그용)"
   ]
  },
  {
   "cell_type": "code",
   "execution_count": 3,
   "metadata": {},
   "outputs": [],
   "source": [
    "def set_number(line):\n",
    "    for i, item in enumerate(line):\n",
    "        print(i+1, \": \", item)"
   ]
  },
  {
   "cell_type": "markdown",
   "metadata": {},
   "source": [
    "# Text-to-Line  \n",
    "\n",
    "전처리 된 텍스트를 라인별로 나눠주는 함수"
   ]
  },
  {
   "cell_type": "code",
   "execution_count": 4,
   "metadata": {},
   "outputs": [],
   "source": [
    "def Text_to_line(preprocessed):\n",
    "    line    =   []       #  라인별로 저장할 리스트\n",
    "    buf     =   \"\"       #  line에 넣을 문자열. 특정 케이스는 골라내기 위해 임시 저장\n",
    "    quote   =   False   #   ' 이나 \" 에 감싸진 문자열을 모두 STRING으로 바꿔주기 위한 '플래그'\n",
    "    mark    =   False   #   주석처리는 검사하지 않도록 하기 위한 '플래그'\n",
    "    \n",
    "    # 전처리된 텍스트를 char 단위로 읽는다\n",
    "    for i, char in enumerate(preprocessed):\n",
    "        # 개행 문자가 나오면 1 라인이라 생각하고 line에 집어넣는다\n",
    "        if char == '\\n' and quote == False:\n",
    "            mark = False\n",
    "            buf += char\n",
    "            # 만약 1라인이 '\\n'이 전부라면 line에 추가하면 뒤에 \n",
    "            # 중복 검사를 할 때 오류가 발생한다.\n",
    "            # 그러므로 split()로 나눠봐서 길이가 0이라면 ('\\n'이 전부라면) 넘어가고\n",
    "            # 길이가 0이 아니라면 적절한 코드라고 판단하고 line에 집어넣는다\n",
    "            if len(buf.split()) != 0:\n",
    "                line.append(buf)\n",
    "            # 1라인이 끝났으므로 buf를 초기화 해준다\n",
    "            buf = \"\"\n",
    "            continue\n",
    "        # 주석처리라면 넘어간다\n",
    "        if mark == True:\n",
    "            continue\n",
    "        # 문자열을 STRING으로 치환하기 위한 플래그 작업\n",
    "        if char == '#':\n",
    "            mark = True\n",
    "            continue\n",
    "        if (char == '\\'' or char == '\\\"'):\n",
    "            # 플래그가 on인 상태에서 또 들어온다면 buf에 'STRING' 을 추가하고 플래그를 off 한다\n",
    "            if quote == True:\n",
    "                buf += 'str'\n",
    "                quote = False\n",
    "            # 플래그가 off인 상황에서 들어온다면 플래그를 on 해준다\n",
    "            else:\n",
    "                quote = True\n",
    "            continue\n",
    "            \n",
    "        # 문자열이 아닌 공백은 buf에 추가한다    \n",
    "        if char == ' ' and quote == False:\n",
    "            buf += char\n",
    "            continue\n",
    "\n",
    "        # 현재 문자열이라고 판단 된 것이므로 넘어간다\n",
    "        if quote == True:\n",
    "            continue\n",
    "        # 보통의 경우에는 buf에 char를 계속 추가한다\n",
    "        buf += char\n",
    "    # 코드 마지막이 '\\n'이 아닐수도 있으므로 현재까지 저장된\n",
    "    # buf를 마지막으로 추가해준다\n",
    "    line.append(buf)\n",
    "    # line을 반환한다\n",
    "    return line"
   ]
  },
  {
   "cell_type": "markdown",
   "metadata": {},
   "source": [
    "## Line to Key    \n",
    "line을 입력으로 하여 변수나 상수를 판단하여 'VAR', 'CONST'로 치환해주는 함수   \n",
    "변수나 상수를 치환하지 않고 검사시, 완전히 똑같은 코드가 아니라면 중복검사에\n",
    "걸리지 않으므로, 치환이 필요함"
   ]
  },
  {
   "cell_type": "code",
   "execution_count": 5,
   "metadata": {
    "scrolled": true
   },
   "outputs": [],
   "source": [
    "def Line_to_key(line):\n",
    "    changed  =  []   #  line을 적절히 변형하여 저장할 리스트\n",
    "    original =  []   #  line을 원래 그대로 저장할 리스트\n",
    "    \n",
    "    # line에 저장된 문자열들을 ' '기준으로 나눈다\n",
    "    for str_ in line:\n",
    "        changed.append(str_.split())\n",
    "        original.append(str_.split())\n",
    "    \n",
    "    # 쪼개진 line을 in 연산자를 이용해 하나하나 가져온다\n",
    "    # 이때 가져온 단위는 list이다.\n",
    "    for i, list_ in enumerate(changed):\n",
    "        n = 1\n",
    "        # list에서 한 번 더 in 연산자를 이용하여\n",
    "        # 문자열 단위로 가져온다\n",
    "        for j, str_ in enumerate(list_):\n",
    "            # KEYWORD에 포함되는지를 표시할 플래그\n",
    "            isKey = False\n",
    "            # 만약 가져온 문자열이 KEYWORD에 포함된다면\n",
    "            # 플래그 on\n",
    "            if str_ in KEYWORD:\n",
    "                isKey = True\n",
    "            # 가져온 문자열이 KEYWORD가 아니라면\n",
    "            if isKey == False:\n",
    "                # 숫자인지를 검사해서 숫자라고 판단되면\n",
    "                if changed[i][j].isdigit() == True:\n",
    "                    # CONST로 치환한다\n",
    "                    changed[i][j] = 'CONST'\n",
    "                # 현재 문자열 다음 문자열이 '('이라면 \n",
    "                # 함수라는 뜻이므로 그냥 내버려둔다\n",
    "                elif j+1 < len(changed[i]) and changed[i][j+1] == '(':\n",
    "                    continue\n",
    "                # 키워드 x, 숫자 x 이므로 변수라고 판단하고\n",
    "                # 'VAR'로 치환하는데, 적어도 같은 문장에서는\n",
    "                # 변수를 구분해야 하므로, 뒤에 숫자를 붙여준다\n",
    "                else:\n",
    "                    changed[i][j] = 'var'\n",
    "                    n += 1\n",
    "            # 앞에서 치환해놓은 TAB을 진짜 '\\t'으로 치환한다\n",
    "            if str_ == 'TAB':\n",
    "                changed[i][j] = '\\t'\n",
    "                original[i][j] = '\\t'\n",
    "                \n",
    "    # changed랑 original을 반환\n",
    "    return changed, original"
   ]
  },
  {
   "cell_type": "markdown",
   "metadata": {},
   "source": [
    "## Check Duplicate\n",
    "중복되는 코드들을 찾는 함수"
   ]
  },
  {
   "cell_type": "code",
   "execution_count": 6,
   "metadata": {},
   "outputs": [],
   "source": [
    "def Check_duplicate(changed, original):\n",
    "    duplicated        =    []   #  중복이라고 판단한 코드를 넣는 리스트\n",
    "    original_dup      =    []   #  중복이라고 판단한 코드의 original 리스트\n",
    "    doubtful          =    []   #  중복이 의심되는 코드를 넣는 리스트\n",
    "    original_doubt    =    []   #  중복이 의심되는 코드의 original 리스트\n",
    "    cursor            =    -1   #  현재 검사하는 코드 라인을 기록하는 리스트\n",
    "\n",
    "    # 공백 기준으로 쪼개높은 splited의 요소들을\n",
    "    # in 연산자로 changed_list1d로 가져온다\n",
    "    for i, changed_list1d in enumerate(changed):\n",
    "        # 이미 검사가 끝난 코드는 점프를 해주기 위함\n",
    "        if cursor >= i:\n",
    "            continue\n",
    "        cursor += 1\n",
    "        # changed_list1d와 비교할 list를 가져온다\n",
    "        # changed_list1d의 다음 라인부터 마지막 라인까지 반복한다\n",
    "        for j in range(i+1, len(changed)):\n",
    "            # 이미 검사가 끝난 코드는 점프를 해주기 위함\n",
    "            if cursor >= j:\n",
    "                continue\n",
    "            # changed_list1d와 똑같다고 판단된\n",
    "            # 코드를 만나게 되면\n",
    "            if changed_list1d == changed[j]:\n",
    "                # 일단 doubtful 리스트에 추가를 한다\n",
    "                doubtful.append(changed_list1d)\n",
    "                original_doubt.append(original[i])\n",
    "                # 그리고 origin, compare 모두 한 라인씩 증가하면서\n",
    "                # 서로 비교해서 다른 코드가 나올 때까지 반복한다\n",
    "                compare_index = j + 1\n",
    "                original_index = i + 1\n",
    "                while ( compare_index < len(changed) ) and changed[original_index] == changed[compare_index]:\n",
    "                    cursor += 1\n",
    "                    # 같은 코드가 나오는대로, doubtful 리스트에 추가해놓는다\n",
    "                    doubtful.append(changed[original_index])\n",
    "                    original_doubt.append(original[original_index])\n",
    "                    compare_index += 1\n",
    "                    original_index += 1\n",
    "\n",
    "            # doubtful이 DUP_SIZE (중복처리할 기준) 보다 크거나 같고\n",
    "            # 현재 duplicated에 이미 들어가있지 않는 코드라면\n",
    "            # duplicated 리스트에 추가한다\n",
    "            if len(doubtful) >= DUP_SIZE and doubtful not in duplicated:\n",
    "                duplicated.append(doubtful)\n",
    "                original_dup.append(original_doubt)\n",
    "\n",
    "            doubtful = []          #  리스트 초기화\n",
    "            original_doubt = []    #  리스트 초기화\n",
    "    return duplicated, original_dup"
   ]
  },
  {
   "cell_type": "markdown",
   "metadata": {},
   "source": [
    "## Print Duplicated\n",
    "중복되었던 코드를 출력해주는 함수"
   ]
  },
  {
   "cell_type": "code",
   "execution_count": 7,
   "metadata": {},
   "outputs": [],
   "source": [
    "def Print_duplicated(duplicated):\n",
    "    print(\"duplicated:\\n\")\n",
    "    for i,list2d in enumerate(duplicated):\n",
    "        print(i+1, \":\")\n",
    "        for list1d in list2d:\n",
    "            print('\\t', end = \"\")\n",
    "            for _str in list1d:\n",
    "                print(_str, end = \" \")\n",
    "            print()"
   ]
  },
  {
   "cell_type": "markdown",
   "metadata": {},
   "source": [
    "## _Create func Name  \n",
    "함수 이름 및 파라미터를 형식에 맞게 만들어주는 함수  \n",
    "(Create_func()에서 내부적으로 호출하는 함수)"
   ]
  },
  {
   "cell_type": "code",
   "execution_count": 8,
   "metadata": {},
   "outputs": [],
   "source": [
    "def _Create_func_name(list2d_, n):\n",
    "    func_  =  \"func\" + str(n) + \"(\"\n",
    "    start  =  True\n",
    "    for list1d_ in list2d_:\n",
    "        for _str in list1d_:\n",
    "            if _str in change_var and _str not in func_:\n",
    "                if start == True:\n",
    "                    func_ += _str\n",
    "                    start = False\n",
    "                else:\n",
    "                    func_ += (', ' + _str)\n",
    "    func_ += \")\"    \n",
    "    return func_"
   ]
  },
  {
   "cell_type": "markdown",
   "metadata": {},
   "source": [
    "## _Insert Space to Match Grammar\n",
    "파이썬 문법에 맞게 적절한 공백 삽입을 해주는 함수  \n",
    "(Create_func()에서 내부적으로 후출하는 함수)"
   ]
  },
  {
   "cell_type": "code",
   "execution_count": 9,
   "metadata": {},
   "outputs": [],
   "source": [
    "def _Insert_Space_to_match_grammar(list2d_, append):\n",
    "    no_space     =   ['.', '(', '[' ]                    #  앞, 뒤 공백이 필요없는 리스트\n",
    "    rear_space   =   [')', ']', '=', '<', '>']           #  뒤에 공백이 필요한 리스트\n",
    "    char2_case   =   ['<', '=', '>', '!', '+', '-']      #  '<=', '==' 같이 2 연산자가 연속 가능한 리스트\n",
    "    new_func     =   \"\"\n",
    "    for i, list1d_ in enumerate(list2d_):\n",
    "        for index, str_ in enumerate(list1d_):\n",
    "            if str_ in no_space:\n",
    "                new_func += str_\n",
    "            elif index + 1 < len(list1d_) and str_ == '=' and list1d_[index+1] == '[':\n",
    "                new_func += (str_ + ' ')\n",
    "            elif index + 1 < len(list1d_) and str_ in rear_space and list1d_[index+1] in no_space:\n",
    "                new_func += str_\n",
    "            elif index + 1 < len(list1d_) and str_ in char2_case and list1d_[index+1] == '=':\n",
    "                new_func += str_\n",
    "            elif str_ in rear_space:\n",
    "                new_func += (str_ + ' ')\n",
    "            elif index + 1   < len(list1d_) and list1d_[index+1] in char2_case:\n",
    "                new_func += (str_ + ' ')\n",
    "            elif index + 1 < len(list1d_) and list1d_[index+1] in no_space:\n",
    "                new_func += str_\n",
    "            elif index + 1 < len(list1d_) and list1d_[index+1] in rear_space:\n",
    "                new_func += str_\n",
    "            else:\n",
    "                new_func += (str_ + ' ')\n",
    "        new_func += '\\n'\n",
    "        if (i != len(list2d_) -1) :\n",
    "            new_func += append\n",
    "    return new_func"
   ]
  },
  {
   "cell_type": "markdown",
   "metadata": {},
   "source": [
    "## Create Func\n",
    "중복되었던 코드를 바탕으로 새로운 함수를 생성해주는 함수"
   ]
  },
  {
   "cell_type": "code",
   "execution_count": 10,
   "metadata": {},
   "outputs": [],
   "source": [
    "def Create_func(func_ready, change_var):\n",
    "    n                =   1       #  func에 번호를 매길 변수\n",
    "    func_name_list   =   []      #  함수이름들을 저장할 리스트\n",
    "    func_list        =   []      #  new_func로 생성한 함수들을 저장할 리스트\n",
    "    \n",
    "    for list2d_ in func_ready:\n",
    "        new_func = \"def \"\n",
    "        func_ = _Create_func_name(list2d_, n)\n",
    "        func_name_list.append(func_)\n",
    "        new_func += (func_ + \" : \\n\\t\")\n",
    "        n += 1\n",
    "        insert_space = _Insert_Space_to_match_grammar(list2d_, '\\t')\n",
    "        new_func += insert_space\n",
    "        func_list.append(new_func)\n",
    "    return func_list, func_name_list"
   ]
  },
  {
   "cell_type": "markdown",
   "metadata": {},
   "source": [
    "## Delete Duplicate  \n",
    "중복이라고 판단한 코드중에 겹치는 코드는 삭제처리 하는 함수"
   ]
  },
  {
   "cell_type": "code",
   "execution_count": 11,
   "metadata": {
    "scrolled": true
   },
   "outputs": [],
   "source": [
    "def del_duplicate(duplicate, original_dup):\n",
    "    for i, func in enumerate(duplicated):\n",
    "        if i < len(duplicated) - 1:\n",
    "            for j in range(i + 1, len(duplicated)):\n",
    "                isExist = True\n",
    "                compare = duplicated[j]\n",
    "                if len(func) > len(compare):\n",
    "                    for list_ in func:\n",
    "                        if list_ not in compare:\n",
    "                            isExist = False\n",
    "                    if isExist == True:\n",
    "                        print('func    : ', func)\n",
    "                        print('compare : ', compare)\n",
    "                        del duplicated[j]\n",
    "                        del original_dup[j]\n",
    "                elif len(func) < len(compare):\n",
    "                    for list_ in func:\n",
    "                        if list_ not in compare:\n",
    "                            isExist = False\n",
    "                    if isExist == True:\n",
    "                        print('func    : ', func)\n",
    "                        print('compare : ', compare)\n",
    "                        del duplicated[i]\n",
    "                        del original_dup[i]\n",
    "    return duplicate, original_dup"
   ]
  },
  {
   "cell_type": "markdown",
   "metadata": {},
   "source": [
    "## _Find index  \n",
    "list에서 word가 있는 인덱스를 반환하는 함수  \n",
    "(check_same_var() 에서 내부적으로만 호출)"
   ]
  },
  {
   "cell_type": "code",
   "execution_count": 12,
   "metadata": {},
   "outputs": [],
   "source": [
    "def _find_index(_list, word):\n",
    "    for index, item in enumerate(_list):\n",
    "        if item == word:\n",
    "            return index\n",
    "    return -1"
   ]
  },
  {
   "cell_type": "markdown",
   "metadata": {},
   "source": [
    "## Check Same variable  \n",
    "모든 변수들이 'VAR'로 변환되었던 변수들을 기존 변수로 바꾸는 함수 "
   ]
  },
  {
   "cell_type": "code",
   "execution_count": 13,
   "metadata": {
    "scrolled": true
   },
   "outputs": [],
   "source": [
    "def check_same_var(original_dup):\n",
    "    origin_var  =  []\n",
    "    func_var  =  []\n",
    "    cnt         =   1\n",
    "    text        =  \"\"\n",
    "    \n",
    "    for i, func in enumerate(original_dup):\n",
    "        for j, line in enumerate(func):\n",
    "            for k, word in enumerate(line):\n",
    "                if word not in KEYWORD and not word.isdigit() and word not in origin_var:\n",
    "                    next_index = k + 1\n",
    "                    if next_index < len(line) and original_dup[i][j][next_index] != '(':\n",
    "                        origin_var.append(word)\n",
    "                        func_var.append('var' + str(cnt))\n",
    "                        cnt += 1\n",
    "                    elif next_index == len(line):\n",
    "                        origin_var.append(word)\n",
    "                        func_var.append('var' + str(cnt))\n",
    "                        cnt += 1\n",
    "    \n",
    "    for i, func in enumerate(original_dup):\n",
    "        for j, line in enumerate(func):\n",
    "            for k, word in enumerate(line):\n",
    "                if word not in KEYWORD and word in origin_var:\n",
    "                    index = _find_index(origin_var, word)\n",
    "                    original_dup[i][j][k] = func_var[index]\n",
    "                if word not in KEYWORD and word.isdigit():\n",
    "                    original_dup[i][j][k] = 'CONST'\n",
    "    return original_dup, func_var"
   ]
  },
  {
   "cell_type": "markdown",
   "metadata": {},
   "source": [
    "## Create Pure list  \n",
    "'var', 'CONST'와 같은 문자들로 치환되지 않고, 기존의 텍스트에서  \n",
    "키워드 및 변수, 상수 별로만 나눈 리스트를 만드는 함수  "
   ]
  },
  {
   "cell_type": "code",
   "execution_count": 14,
   "metadata": {},
   "outputs": [],
   "source": [
    " def Create_pure_list(line):\n",
    "    pure_list = []\n",
    "    for i in range(len(line)):\n",
    "        pure_list.append(line[i].split())\n",
    "    for i, list1d in enumerate(pure_list):\n",
    "        for j, str_ in enumerate(list1d):\n",
    "            if str_ == 'TAB':\n",
    "                pure_list[i][j] = '\\t'\n",
    "    return pure_list"
   ]
  },
  {
   "cell_type": "markdown",
   "metadata": {},
   "source": [
    "Ex)   \n",
    "``` python\n",
    ">>> pure_list   \n",
    "[['for', 'i', 'in', 'range', '(', '10', ')', ':'],\n",
    " ['a', '=', 'b', '+', 'c']]\n",
    "```"
   ]
  },
  {
   "cell_type": "markdown",
   "metadata": {},
   "source": [
    "## Create Var List\n",
    "코드에서 사용된 모든 변수에 대한 리스트와  \n",
    "해당 변수에 매핑할 'var' + n 형식의 리스트를 만드는 함수   "
   ]
  },
  {
   "cell_type": "code",
   "execution_count": 15,
   "metadata": {},
   "outputs": [],
   "source": [
    "def Create_var_list(pure_list):\n",
    "    origin_var  =   []\n",
    "    change_var  =   []\n",
    "    n           =    1\n",
    "    for i, list1d in enumerate(pure_list):\n",
    "        for j, str_ in enumerate(list1d):\n",
    "            if str_ not in KEYWORD and str_.isdigit() == False and str_ not in origin_var: \n",
    "                next_index = j + 1\n",
    "                if next_index < len(list1d) and pure_list[i][next_index] != '(':\n",
    "                    origin_var.append(str_)\n",
    "                    change_var.append('var' + str(n))\n",
    "                    n += 1\n",
    "                elif next_index == len(list1d):\n",
    "                    origin_var.append(str_)\n",
    "                    change_var.append('var' + str(n))\n",
    "                    n += 1\n",
    "    return origin_var, change_var"
   ]
  },
  {
   "cell_type": "markdown",
   "metadata": {},
   "source": [
    "Ex)   \n",
    "```python\n",
    ">>> origin_var\n",
    "['a', 'b', 'c', 'd', 'e']\n",
    ">>> change_var\n",
    "['var1', 'var2', 'var3', 'var4', 'var5']\n",
    "```"
   ]
  },
  {
   "cell_type": "markdown",
   "metadata": {},
   "source": [
    "## _Text list Preprocess\n",
    "text_list를 전처리해주는 함수  \n",
    "(Func_replace()에서 내부적으로 호출)"
   ]
  },
  {
   "cell_type": "code",
   "execution_count": 16,
   "metadata": {},
   "outputs": [],
   "source": [
    "def _text_list_preprocess(text_list):\n",
    "    for i, list1d in enumerate(pure_list):\n",
    "        for j, str_ in enumerate(list1d):\n",
    "            if j + 1 < len(list1d) and text_list[i][j + 1] == '(':\n",
    "                continue\n",
    "            elif str_ not in KEYWORD and str_.isdigit() == False:\n",
    "                text_list[i][j] = 'var'\n",
    "            elif str_ not in KEYWORD and str_.isdigit() == True:\n",
    "                text_list[i][j] = 'CONST'"
   ]
  },
  {
   "cell_type": "markdown",
   "metadata": {},
   "source": [
    "## _Create Params  \n",
    "치환해줄 함수 자리의 파라미터를 계산하여 생성해주는 함수  \n",
    "(Func_replace()에서 내부적으로 호출)"
   ]
  },
  {
   "cell_type": "code",
   "execution_count": 17,
   "metadata": {
    "scrolled": false
   },
   "outputs": [],
   "source": [
    "def _Create_Params(pure_list, index, size, origin_var, change_var):\n",
    "    params = []\n",
    "    start = True\n",
    "    for i in range(index, index + size):\n",
    "        for var in origin_var:\n",
    "            if var in pure_list[i] and var not in params:\n",
    "                if start == True:\n",
    "                    params.append(var)\n",
    "                    start = False\n",
    "                else:\n",
    "                    params.append(', ')\n",
    "                    params.append(var)\n",
    "    return params"
   ]
  },
  {
   "cell_type": "markdown",
   "metadata": {},
   "source": [
    "Ex)  \n",
    "```python\n",
    ">>> _Create_Params(pure_list, index, size, origin_var, change_var)\n",
    "['a', 'b', 'c', 'd', 'e', 'f']\n",
    "```"
   ]
  },
  {
   "cell_type": "markdown",
   "metadata": {},
   "source": [
    "## Func Replace  \n",
    "함수를 생성한 기존 코드 자리에 적절한 함수 호출로 치환해주는 함수  "
   ]
  },
  {
   "cell_type": "code",
   "execution_count": 18,
   "metadata": {
    "scrolled": true
   },
   "outputs": [],
   "source": [
    "def Func_replace(duplicated, text_list, pure_list, origin_var, change_var):\n",
    "    _text_list_preprocess(text_list)\n",
    "    while True:\n",
    "        for i, list2d in enumerate(duplicated):\n",
    "            isDup = True\n",
    "            index = 0\n",
    "            start = True\n",
    "            for list1d in list2d:\n",
    "                if list1d not in text_list:\n",
    "                    isDup = False\n",
    "                elif list1d in text_list and start == True:\n",
    "                    index = text_list.index(list1d)\n",
    "                    start = False\n",
    "            if isDup == True:\n",
    "                func_replace = ['func']\n",
    "                func_replace[0] += str(i + 1)\n",
    "                func_replace.extend('(')\n",
    "                func_replace.extend(_Create_Params(pure_list, index,len(list2d), origin_var, change_var))\n",
    "                func_replace.extend(')')\n",
    "                pure_list[index] = func_replace\n",
    "                text_list[index] = func_replace\n",
    "                for i in range(len(list2d) - 1):\n",
    "                    del pure_list[index + 1]\n",
    "                    del text_list[index + 1]\n",
    "            else :\n",
    "                return"
   ]
  },
  {
   "cell_type": "markdown",
   "metadata": {},
   "source": [
    "## Create Code\n",
    "최종적으로 겹치는 코드를 함수화 및 함수호출로 치환까지 마친 코드를 생성하는 함수"
   ]
  },
  {
   "cell_type": "code",
   "execution_count": 19,
   "metadata": {},
   "outputs": [],
   "source": [
    "def Create_code(pure_list, func_list):\n",
    "    code = \"\"\n",
    "    for item in func_list:\n",
    "        code += item\n",
    "    code += _Insert_Space_to_match_grammar(pure_list,'')\n",
    "    return code"
   ]
  },
  {
   "cell_type": "markdown",
   "metadata": {},
   "source": [
    "# MainEntry\n",
    "위에 정의한 함수들을 호출하여 사용하는 메인 함수"
   ]
  },
  {
   "cell_type": "markdown",
   "metadata": {},
   "source": [
    "## Input"
   ]
  },
  {
   "cell_type": "code",
   "execution_count": 20,
   "metadata": {
    "scrolled": false
   },
   "outputs": [
    {
     "name": "stdout",
     "output_type": "stream",
     "text": [
      "def func1(var1, var2, var3, var4) : \n",
      "\tvar1 = str \n",
      "\tfor var2 in var3 : \n",
      "\t\t var1 += var2 \n",
      "\tvar1 += _Insert_Space_to_match_grammar(var4 , str) \n",
      "def func2(var5, var6, var7, var8, var9, var10) : \n",
      "\tvar5 = var6 + var7 \n",
      "\tvar6 = var5 + var7 \n",
      "\tvar8 = var9 + var10 \n",
      "def func3(var11, var12, var13, var14, var15, var16, var17, var18) : \n",
      "\tfor var11 in var12 : \n",
      "\t\t for var13 in var11 : \n",
      "\t\t \t for var14 in var13 : \n",
      "\t\t \t \t if var14 not in var15 and not var14.isdigit() and var14 not in var16 : \n",
      "\t\t \t \t \t var16.append(var14) \n",
      "\t\t \t \t \t var17.append(str + str(var18) ) \n",
      "\t\t \t \t \t var18 += CONST \n",
      "func1(code ,  item ,  func_list ,  pure_list) \n",
      "func2(a ,  b ,  c ,  d ,  e ,  f) \n",
      "for i in range(10) : \n",
      "\t print(str) \n",
      "func3(func ,  original_dup ,  line ,  word ,  KEYWORD ,  origin_var ,  change_var ,  cnt) \n",
      "func2(z ,  x ,  y ,  m ,  o ,  p) \n",
      "func3(func ,  original_dup ,  line ,  word ,  KEYWORD ,  origin_var ,  change_var ,  cnt) \n",
      "func1(code2 ,  item ,  func_list ,  code ,  pure_list) \n",
      "\n"
     ]
    }
   ],
   "source": [
    "open_text                   =    open('c:/app/test.txt','r')\n",
    "text                        =    open_text.read()\n",
    "preprocessed                =    Preprocess(text)\n",
    "line                        =    Text_to_line(preprocessed)\n",
    "pure_list                   =    Create_pure_list(line)\n",
    "origin_var, change_var      =    Create_var_list(pure_list)\n",
    "changed, original           =    Line_to_key(line)\n",
    "duplicated, original_dup    =    Check_duplicate(changed, original)\n",
    "duplicate, original_dup     =    del_duplicate(duplicated, original_dup)\n",
    "func_ready, func_var        =    check_same_var(original_dup)\n",
    "func_list, func_name_list   =    Create_func(func_ready, func_var)\n",
    "text_list                   = copy.deepcopy(pure_list)\n",
    "Func_replace(duplicated, text_list, pure_list, origin_var, change_var)\n",
    "code                        =    Create_code(pure_list, func_list)\n",
    "print(code)\n",
    "open_text.close()"
   ]
  },
  {
   "cell_type": "code",
   "execution_count": 27,
   "metadata": {},
   "outputs": [
    {
     "data": {
      "text/plain": [
       "['a', 'b', 'c', 'arr', 'i', 'j', 'x', 't', 'y']"
      ]
     },
     "execution_count": 27,
     "metadata": {},
     "output_type": "execute_result"
    }
   ],
   "source": [
    "origin_var"
   ]
  },
  {
   "cell_type": "code",
   "execution_count": 28,
   "metadata": {},
   "outputs": [
    {
     "data": {
      "text/plain": [
       "['var1', 'var2', 'var3', 'var4', 'var5', 'var6', 'var7', 'var8', 'var9']"
      ]
     },
     "execution_count": 28,
     "metadata": {},
     "output_type": "execute_result"
    }
   ],
   "source": [
    "change_var"
   ]
  },
  {
   "cell_type": "code",
   "execution_count": 24,
   "metadata": {},
   "outputs": [
    {
     "name": "stdout",
     "output_type": "stream",
     "text": [
      "[['a' '=' 'b' '+' 'c']\n",
      " ['b' '=' 'a' '+' 'c']\n",
      " ['d' '=' 'e' '+' 'f']]\n"
     ]
    }
   ],
   "source": [
    "list_ = [['a', '=', 'b', '+', 'c'],\n",
    "         ['b', '=', 'a', '+', 'c'],\n",
    "         ['d', '=', 'e', '+', 'f']]\n",
    "import numpy as np\n",
    "print(np.array(list_))"
   ]
  },
  {
   "cell_type": "code",
   "execution_count": 25,
   "metadata": {},
   "outputs": [
    {
     "name": "stdout",
     "output_type": "stream",
     "text": [
      "[['func', '1', '(', 'a', 'b', 'c', 'd', 'e', 'f', ')']]\n"
     ]
    }
   ],
   "source": [
    "print([['func', '1', '(', 'a', 'b', 'c', 'd', 'e', 'f' ,')']])"
   ]
  },
  {
   "cell_type": "code",
   "execution_count": null,
   "metadata": {},
   "outputs": [],
   "source": [
    "a = b + c\n",
    "b = a + c\n",
    "d = e + f\n",
    "\n",
    "for i, list1d in enumerate(pure_list):\n",
    "    for j, str_ in enumerate(list1d):\n",
    "        if j + 1 < len(list1d) and text_list[i][j + 1] == '(':\n",
    "            continue\n",
    "        elif str_ not in KEYWORD and str_.isdigit() == False:\n",
    "            text_list[i][j] = 'var'\n",
    "        elif str_ not in KEYWORD and str_.isdigit() == True:\n",
    "            text_list[i][j] = 'CONST'\n",
    "\n",
    "x = y + z\n",
    "y = x + z\n",
    "n = o + p\n",
    "\n",
    "for i, list1d in enumerate(pure_list):\n",
    "    for j, str_ in enumerate(list1d):\n",
    "        if j + 1 < len(list1d) and text_list[i][j + 1] == '(':\n",
    "            continue\n",
    "        elif str_ not in KEYWORD and str_.isdigit() == False:\n",
    "            text_list[i][j] = 'var'\n",
    "        elif str_ not in KEYWORD and str_.isdigit() == True:\n",
    "            text_list[i][j] = 'CONST'"
   ]
  }
 ],
 "metadata": {
  "kernelspec": {
   "display_name": "Python 3",
   "language": "python",
   "name": "python3"
  },
  "language_info": {
   "codemirror_mode": {
    "name": "ipython",
    "version": 3
   },
   "file_extension": ".py",
   "mimetype": "text/x-python",
   "name": "python",
   "nbconvert_exporter": "python",
   "pygments_lexer": "ipython3",
   "version": "3.7.1"
  }
 },
 "nbformat": 4,
 "nbformat_minor": 2
}
